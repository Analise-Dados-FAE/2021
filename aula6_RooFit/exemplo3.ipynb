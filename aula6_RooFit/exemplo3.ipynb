{
 "cells": [
  {
   "cell_type": "code",
   "execution_count": 1,
   "id": "947cdf16",
   "metadata": {},
   "outputs": [],
   "source": [
    "TFile *fin = new TFile(\"example_data.root\");\n",
    "TNtupleD* nt = (TNtupleD *)fin->Get(\"nt\");"
   ]
  },
  {
   "cell_type": "code",
   "execution_count": 2,
   "id": "8ead407c",
   "metadata": {},
   "outputs": [
    {
     "name": "stdout",
     "output_type": "stream",
     "text": [
      "\n",
      "\u001b[1mRooFit v3.60 -- Developed by Wouter Verkerke and David Kirkby\u001b[0m \n",
      "                Copyright (C) 2000-2013 NIKHEF, University of California & Stanford University\n",
      "                All rights reserved, please read http://roofit.sourceforge.net/license.txt\n",
      "\n",
      "DataStore data (data)\n",
      "  Contains 10000 entries\n",
      "  Observables: \n",
      "    1)  mass = 0.618399  L(0 - 2)  \"mass\"\n"
     ]
    }
   ],
   "source": [
    "RooRealVar mass(\"mass\",\"mass\",0.,2.);\n",
    "//O nome da variável precisa ter o mesmo nome do branch em questão\n",
    "RooDataSet data(\"data\",\"data\",nt,RooArgSet(mass));\n",
    "data.Print(\"v\");"
   ]
  },
  {
   "cell_type": "code",
   "execution_count": null,
   "id": "1bb1140b",
   "metadata": {},
   "outputs": [],
   "source": []
  }
 ],
 "metadata": {
  "kernelspec": {
   "display_name": "ROOT C++",
   "language": "c++",
   "name": "root"
  },
  "language_info": {
   "codemirror_mode": "text/x-c++src",
   "file_extension": ".C",
   "mimetype": " text/x-c++src",
   "name": "c++"
  }
 },
 "nbformat": 4,
 "nbformat_minor": 5
}
