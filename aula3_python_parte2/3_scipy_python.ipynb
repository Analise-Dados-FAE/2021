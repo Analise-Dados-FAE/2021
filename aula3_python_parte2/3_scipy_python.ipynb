{
  "nbformat": 4,
  "nbformat_minor": 0,
  "metadata": {
    "kernelspec": {
      "name": "python3",
      "display_name": "Python 3.9.2 64-bit ('root-python-env': conda)"
    },
    "language_info": {
      "codemirror_mode": {
        "name": "ipython",
        "version": 3
      },
      "file_extension": ".py",
      "mimetype": "text/x-python",
      "name": "python",
      "nbconvert_exporter": "python",
      "pygments_lexer": "ipython3",
      "version": "3.9.2"
    },
    "interpreter": {
      "hash": "335436fdd3b76d4f3727a636fd436c7d3c5aef570f332174c0978c1012c03da9"
    },
    "colab": {
      "name": "3_scipy_python.ipynb",
      "provenance": [],
      "collapsed_sections": []
    }
  },
  "cells": [
    {
      "cell_type": "markdown",
      "metadata": {
        "id": "c9f8sgMhPOZl"
      },
      "source": [
        "# 1. SciPy \n",
        "\n",
        "O pacote scipy contém várias ferramentas dedicadas a problemas comuns em computação científica. Seus diferentes sub-módulos correspondem a diferentes aplicações, tais como interpolação, integração, otimização, processamento de imagens, estatísticas, funções especiais, etc\n",
        "\n",
        "Os módulos do SciPy abordados são:\n",
        "\n",
        "* File input/output: scipy.io\n",
        "* Special functions: scipy.special\n",
        "* Linear algebra operations: scipy.linalg\n",
        "* Fast Fourier transforms: scipy.fftpack \n",
        "* Optimization and fit: scipy.optimize\n",
        "* Statistics and random numbers: scipy.stats\n",
        "* Interpolation: scipy.interpolate\n",
        "* Numerical integration: scipy.integrate\n",
        "* Signal processing: scipy.signal\n",
        "* Image processing: scipy.ndimage\n",
        "\n",
        "O SciPy é composto de submódulos para tarefas específicas como:\n",
        "\n",
        "| submódulo | Objetivo |\n",
        "| ---- | ---- |\n",
        "| [scipy.cluster](http://docs.scipy.org/doc/scipy/reference/cluster.html#scipy.cluster) | \tQuantização de vetores (Kmean) |\n",
        "| [scipy.constants](http://docs.scipy.org/doc/scipy/reference/constants.html#scipy.constants) | \tConstantes matemáticas e físicas |\n",
        "| [scipy.fftpack](http://docs.scipy.org/doc/scipy/reference/fftpack.html#scipy.fftpack) | \tTranformada de Fourier |\n",
        "| [scipy.integrate](http://docs.scipy.org/doc/scipy/reference/integrate.html#scipy.integrate) | \tRotinas de Integração |\n",
        "| [scipy.interpolate](http://docs.scipy.org/doc/scipy/reference/interpolate.html#scipy.interpolate) | \tInterpolação |\n",
        "| [scipy.io](http://docs.scipy.org/doc/scipy/reference/io.html#scipy.io) | \tEntrada e saída de dados |\n",
        "| [scipy.linalg](http://docs.scipy.org/doc/scipy/reference/linalg.html#scipy.linalg) | \tRotinas de algebra linear |\n",
        "| [scipy.ndimage](http://docs.scipy.org/doc/scipy/reference/ndimage.html#scipy.ndimage) | \tpacote para imagens n-dimensionais |\n",
        "| [scipy.odr](http://docs.scipy.org/doc/scipy/reference/odr.html#scipy.odr) | \tRegressão ortogonal de distância | \n",
        "| [scipy.optimize](http://docs.scipy.org/doc/scipy/reference/optimize.html#scipy.optimize) | \tOtimização |\n",
        "| [scipy.signal](http://docs.scipy.org/doc/scipy/reference/signal.html#scipy.signal) | \tProcessamento de sinal |\n",
        "| [scipy.sparse](http://docs.scipy.org/doc/scipy/reference/sparse.html#scipy.sparse) | \tMatrizes esparsas |\n",
        "| [scipy.spatial](http://docs.scipy.org/doc/scipy/reference/spatial.html#scipy.spatial) | \tEstruturas de dados espacial e algoritmos |\n",
        "| [scipy.special](http://docs.scipy.org/doc/scipy/reference/special.html#scipy.special) | \tQualquer função matemática especial |\n",
        "| [scipy.stats](http://docs.scipy.org/doc/scipy/reference/stats.html#scipy.stats) | \tEstatística |\n",
        "\n",
        "\n",
        "Todos dependem do numpy, mas são em grande parte independentes uns dos outros. A forma padrão de importar Numpy e estes módulos scipy é:"
      ]
    },
    {
      "cell_type": "code",
      "metadata": {
        "id": "jrnCRZgFPOZp"
      },
      "source": [
        "import numpy as np \n",
        "from scipy import stats # o mesmo para outros módulos"
      ],
      "execution_count": 42,
      "outputs": []
    },
    {
      "cell_type": "markdown",
      "metadata": {
        "id": "ICOY7oqLPOZq"
      },
      "source": [
        "O principal namespace scipy contém principalmente funções que são realmente funções numpy (tente scipy.cos is np.cos). Esse são expostos apenas por razões históricas, geralmente não há razão para usar import scipy em seu código.\n",
        "\n",
        "## 3.1 Entrada e saída de arquivos\n",
        "\n",
        "Ler/Escrever arquivos:\n",
        "* MatLab\n",
        "* IDL\n",
        "* Matrix Market\n",
        "* Fortran\n",
        "* NetCDF\n",
        "* Wav\n",
        "* Arf\n",
        "\n",
        "Carregando e salvando arquivos em Matlab:"
      ]
    },
    {
      "cell_type": "code",
      "metadata": {
        "colab": {
          "base_uri": "https://localhost:8080/"
        },
        "id": "WfxUFEpSPOZr",
        "outputId": "9ddadbfd-0ab8-485c-dfe1-513323a646ef"
      },
      "source": [
        "from scipy import io as spio\n",
        "a = np.ones((3, 3))\n",
        "spio.savemat('file.mat', {'a': a}) # savemat expects a dictionary\n",
        "data = spio.loadmat('file.mat', struct_as_record=True)\n",
        "data['a']"
      ],
      "execution_count": 43,
      "outputs": [
        {
          "output_type": "execute_result",
          "data": {
            "text/plain": [
              "array([[1., 1., 1.],\n",
              "       [1., 1., 1.],\n",
              "       [1., 1., 1.]])"
            ]
          },
          "metadata": {
            "tags": []
          },
          "execution_count": 43
        }
      ]
    },
    {
      "cell_type": "markdown",
      "metadata": {
        "id": "V20wPVQdPOZt"
      },
      "source": [
        "Lendo Imagens:"
      ]
    },
    {
      "cell_type": "code",
      "metadata": {
        "id": "XRq7Llh_POZt"
      },
      "source": [
        "from scipy import misc\n",
        "#misc.imread('fname.png')\n",
        "\n",
        "# Matplotlib também possui uma função similar\n",
        "import matplotlib.pyplot as plt\n",
        "#plt.imread('fname.png')"
      ],
      "execution_count": 44,
      "outputs": []
    },
    {
      "cell_type": "markdown",
      "metadata": {
        "id": "hVW047UzPOZu"
      },
      "source": [
        "## 3.2 Funções especiais\n",
        "\n",
        "As funções especiais são funções transcendentais. O docstring do módulo ```scipy.special``` é bem escrito, por isso não vamos listar todas as funções aqui. Aquelas utilizadas com frequência são:\n",
        "\n",
        "* Função Bessel, como ```scipy.special.jn()``` (função Bessel de n-ésima ordem)\n",
        "* Funções elípticas (```scipy.special.ellipj()``` para a função elíptica Jacobiana, …)\n",
        "* Função gama: ```scipy.special.gamma()```, veja também ```scipy.special.gammaln()``` que retorna o log da gama para uma alta precisão numérica.\n",
        "* Erf, a área sobre uma curva Gaussiana: ```scipy.special.erf()```"
      ]
    },
    {
      "cell_type": "code",
      "metadata": {
        "colab": {
          "base_uri": "https://localhost:8080/",
          "height": 120
        },
        "id": "tTYr6GfNPOZv",
        "outputId": "b5ecf1c3-82aa-40a0-d1c8-a4f50900b628"
      },
      "source": [
        "from scipy import special\n",
        "special.gamma.__doc__"
      ],
      "execution_count": 45,
      "outputs": [
        {
          "output_type": "execute_result",
          "data": {
            "application/vnd.google.colaboratory.intrinsic+json": {
              "type": "string"
            },
            "text/plain": [
              "\"gamma(x, /, out=None, *, where=True, casting='same_kind', order='K', dtype=None, subok=True[, signature, extobj])\\n\\ngamma(z)\\n\\nGamma function.\\n\\nThe Gamma function is defined as\\n\\n.. math::\\n\\n   \\\\Gamma(z) = \\\\int_0^\\\\infty t^{z-1} e^{-t} dt\\n\\nfor :math:`\\\\Re(z) > 0` and is extended to the rest of the complex\\nplane by analytic continuation. See [dlmf]_ for more details.\\n\\nParameters\\n----------\\nz : array_like\\n    Real or complex valued argument\\n\\nReturns\\n-------\\nscalar or ndarray\\n    Values of the Gamma function\\n\\nNotes\\n-----\\nThe Gamma function is often referred to as the generalized\\nfactorial since :math:`\\\\Gamma(n + 1) = n!` for natural numbers\\n:math:`n`. More generally it satisfies the recurrence relation\\n:math:`\\\\Gamma(z + 1) = z \\\\cdot \\\\Gamma(z)` for complex :math:`z`,\\nwhich, combined with the fact that :math:`\\\\Gamma(1) = 1`, implies\\nthe above identity for :math:`z = n`.\\n\\nReferences\\n----------\\n.. [dlmf] NIST Digital Library of Mathematical Functions\\n          https://dlmf.nist.gov/5.2#E1\\n\\nExamples\\n--------\\n>>> from scipy.special import gamma, factorial\\n\\n>>> gamma([0, 0.5, 1, 5])\\narray([         inf,   1.77245385,   1.        ,  24.        ])\\n\\n>>> z = 2.5 + 1j\\n>>> gamma(z)\\n(0.77476210455108352+0.70763120437959293j)\\n>>> gamma(z+1), z*gamma(z)  # Recurrence property\\n((1.2292740569981171+2.5438401155000685j),\\n (1.2292740569981158+2.5438401155000658j))\\n\\n>>> gamma(0.5)**2  # gamma(0.5) = sqrt(pi)\\n3.1415926535897927\\n\\nPlot gamma(x) for real x\\n\\n>>> x = np.linspace(-3.5, 5.5, 2251)\\n>>> y = gamma(x)\\n\\n>>> import matplotlib.pyplot as plt\\n>>> plt.plot(x, y, 'b', alpha=0.6, label='gamma(x)')\\n>>> k = np.arange(1, 7)\\n>>> plt.plot(k, factorial(k-1), 'k*', alpha=0.6,\\n...          label='(x-1)!, x = 1, 2, ...')\\n>>> plt.xlim(-3.5, 5.5)\\n>>> plt.ylim(-10, 25)\\n>>> plt.grid()\\n>>> plt.xlabel('x')\\n>>> plt.legend(loc='lower right')\\n>>> plt.show()\""
            ]
          },
          "metadata": {
            "tags": []
          },
          "execution_count": 45
        }
      ]
    },
    {
      "cell_type": "markdown",
      "metadata": {
        "id": "X542IhlpPOZw"
      },
      "source": [
        "## 3.3 Operações de Algebra Linear\n",
        "\n",
        "O módulo ```scipy.linalg``` fornece operações de álgebra linear padrão, contando com uma implementação eficiente.\n",
        "\n",
        "O ```scipy.linalg.det()``` calcula o determinante de uma matriz quadrada:"
      ]
    },
    {
      "cell_type": "code",
      "metadata": {
        "colab": {
          "base_uri": "https://localhost:8080/"
        },
        "id": "tKEdM4rEPOZx",
        "outputId": "05286b12-1ea1-42f7-efd2-a9cc2ce366b6"
      },
      "source": [
        "from scipy import linalg\n",
        "arr = np.array([[1, 2],\n",
        "                [3, 4]])\n",
        "linalg.det(arr)\n",
        "\n",
        "arr = np.array([[3, 2],\n",
        "                [6, 4]])\n",
        "linalg.det(arr)\n",
        "#linalg.det(np.ones((3, 4))) #erro"
      ],
      "execution_count": 46,
      "outputs": [
        {
          "output_type": "execute_result",
          "data": {
            "text/plain": [
              "0.0"
            ]
          },
          "metadata": {
            "tags": []
          },
          "execution_count": 46
        }
      ]
    },
    {
      "cell_type": "markdown",
      "metadata": {
        "id": "c19i4Id2S1En"
      },
      "source": [
        "Restrições envolvendo propriedades de matrizes são tratados como exceções. Quando tentamos computar o determinante de uma matriz que não é quadrada:\n",
        "\n",
        "```python\n",
        "linalg.det(np.ones((3,4)))\n",
        "```\n",
        "\n",
        "```python\n",
        "---------------------------------------------------------------------------\n",
        "ValueError                                Traceback (most recent call last)\n",
        "<ipython-input-24-c299b009337c> in <module>()\n",
        "----> 1 linalg.det(np.ones((3,4)))\n",
        "\n",
        "/usr/local/lib/python3.7/dist-packages/scipy/linalg/basic.py in det(a, overwrite_a, check_finite)\n",
        "   1034     a1 = _asarray_validated(a, check_finite=check_finite)\n",
        "   1035     if len(a1.shape) != 2 or a1.shape[0] != a1.shape[1]:\n",
        "-> 1036         raise ValueError('expected square matrix')\n",
        "   1037     overwrite_a = overwrite_a or _datacopied(a1, a)\n",
        "   1038     fdet, = get_flinalg_funcs(('det',), (a1,))\n",
        "\n",
        "ValueError: expected square matrix\n",
        "```"
      ]
    },
    {
      "cell_type": "markdown",
      "metadata": {
        "id": "zNTrivk3POZx"
      },
      "source": [
        "A função ```scipy.linalg.inv()``` calcula a inversa de uma matriz:"
      ]
    },
    {
      "cell_type": "code",
      "metadata": {
        "colab": {
          "base_uri": "https://localhost:8080/"
        },
        "id": "61DwWxFgPOZy",
        "outputId": "df1e57f7-64e3-4122-acd1-fb72dd5c24db"
      },
      "source": [
        "A = np.array([[1,3,5],[2,5,1],[2,3,8]])\n",
        "A"
      ],
      "execution_count": 47,
      "outputs": [
        {
          "output_type": "execute_result",
          "data": {
            "text/plain": [
              "array([[1, 3, 5],\n",
              "       [2, 5, 1],\n",
              "       [2, 3, 8]])"
            ]
          },
          "metadata": {
            "tags": []
          },
          "execution_count": 47
        }
      ]
    },
    {
      "cell_type": "code",
      "metadata": {
        "colab": {
          "base_uri": "https://localhost:8080/"
        },
        "id": "KdITTdQ4POZy",
        "outputId": "29277f89-18df-4a7d-eae6-43ca48ee2b28"
      },
      "source": [
        "linalg.inv(A) # inversa"
      ],
      "execution_count": 48,
      "outputs": [
        {
          "output_type": "execute_result",
          "data": {
            "text/plain": [
              "array([[-1.48,  0.36,  0.88],\n",
              "       [ 0.56,  0.08, -0.36],\n",
              "       [ 0.16, -0.12,  0.04]])"
            ]
          },
          "metadata": {
            "tags": []
          },
          "execution_count": 48
        }
      ]
    },
    {
      "cell_type": "code",
      "metadata": {
        "colab": {
          "base_uri": "https://localhost:8080/"
        },
        "id": "XvlV7bpmPOZz",
        "outputId": "9a8a3c36-e680-4d5d-e90f-09a94b2ee59b"
      },
      "source": [
        "A.dot(linalg.inv(A)) # produto interno da direta e inversa é a identidade"
      ],
      "execution_count": 49,
      "outputs": [
        {
          "output_type": "execute_result",
          "data": {
            "text/plain": [
              "array([[ 1.00000000e+00, -1.11022302e-16,  4.85722573e-17],\n",
              "       [ 3.05311332e-16,  1.00000000e+00,  7.63278329e-17],\n",
              "       [ 2.22044605e-16, -1.11022302e-16,  1.00000000e+00]])"
            ]
          },
          "metadata": {
            "tags": []
          },
          "execution_count": 49
        }
      ]
    },
    {
      "cell_type": "markdown",
      "metadata": {
        "id": "ebgew0R6POZz"
      },
      "source": [
        "Se a matriz for singular (determinante igual a zero), a inversa vai resultar em um erro ```LinAlgError```:\n",
        "\n",
        "```python\n",
        "arr = np.array([[3, 2],\n",
        "                [6, 4]])\n",
        "linalg.inv(arr)\n",
        "```\n",
        "\n",
        "```python\n",
        "---------------------------------------------------------------------------\n",
        "LinAlgError                               Traceback (most recent call last)\n",
        "<ipython-input-13-1406f813bef2> in <module>\n",
        "      1 arr = np.array([[3, 2],\n",
        "      2                 [6, 4]])\n",
        "----> 3 linalg.inv(arr)\n",
        "\n",
        "~/anaconda3/envs/root-python-env/lib/python3.9/site-packages/scipy/linalg/basic.py in inv(a, overwrite_a, check_finite)\n",
        "    961         inv_a, info = getri(lu, piv, lwork=lwork, overwrite_lu=1)\n",
        "    962     if info > 0:\n",
        "--> 963         raise LinAlgError(\"singular matrix\")\n",
        "    964     if info < 0:\n",
        "    965         raise ValueError('illegal value in %d-th argument of internal '\n",
        "\n",
        "LinAlgError: singular matrix\n",
        "```"
      ]
    },
    {
      "cell_type": "markdown",
      "metadata": {
        "id": "r5UCyEscPOZ0"
      },
      "source": [
        "Exemplo de Decomposição espectral:"
      ]
    },
    {
      "cell_type": "code",
      "metadata": {
        "colab": {
          "base_uri": "https://localhost:8080/"
        },
        "id": "jhxKRRz0POZ0",
        "outputId": "7295f4f3-7673-4d68-96d5-b3a2a4c2fabf"
      },
      "source": [
        "A = np.array([[1, 2], [3, 4]])\n",
        "la, v = linalg.eig(A) # decomposicao em autovalores e autovetores\n",
        "l1, l2 = la\n",
        "print(l1, l2) # autovalores\n",
        "print(v[:, 0]) # primeiro autovetor\n",
        "print(v[:, 1]) # segundo autovetor\n",
        "print(np.sum(abs(v**2), axis=0)) # norma dos autovetores (unitarios)\n",
        "v1 = np.array(v[:, 0]).T\n",
        "print(linalg.norm(A.dot(v1) - l1*v1)) # verifica se Ax = lambda x"
      ],
      "execution_count": 50,
      "outputs": [
        {
          "output_type": "stream",
          "text": [
            "(-0.3722813232690143+0j) (5.372281323269014+0j)\n",
            "[-0.82456484  0.56576746]\n",
            "[-0.41597356 -0.90937671]\n",
            "[1. 1.]\n",
            "5.551115123125783e-17\n"
          ],
          "name": "stdout"
        }
      ]
    },
    {
      "cell_type": "markdown",
      "metadata": {
        "id": "gO7x0J6hPOZ0"
      },
      "source": [
        "## 3.4 Tranformada rápida de Fourier\n",
        "\n",
        "O módulo ```scipy.fftpack``` permite calcular transformada rápida de Fourier. Como ilustração, um sinal de entrada (barulhento) pode parecer:"
      ]
    },
    {
      "cell_type": "code",
      "metadata": {
        "id": "m7CyjMk5P7Vn"
      },
      "source": [
        "import numpy as np\n",
        "\n",
        "time_step = 0.02\n",
        "period = 5.\n",
        "time_vec = np.arange(0, 20, time_step)\n",
        "sig = np.sin(2 * np.pi / period * time_vec) + \\\n",
        "             0.5 * np.random.randn(time_vec.size)"
      ],
      "execution_count": 51,
      "outputs": []
    },
    {
      "cell_type": "markdown",
      "metadata": {
        "id": "sL1ywFRiP-Q2"
      },
      "source": [
        "O observador não sabe a frequência do sinal, apenas o passo do tempo de amostragem do sinal ```sig```. O sinal é suposto vindo de uma função real, de modo que a transformada de Fourier seja simétrica. A função ```scipy.fftpack.fftfreq()``` irá gerar as frequências de amostragem e ```scipy.fftpack.fft()``` irá calcular a transformada rápida de Fourier:"
      ]
    },
    {
      "cell_type": "code",
      "metadata": {
        "id": "3u644bHbQI84"
      },
      "source": [
        "from scipy import fftpack\n",
        "sample_freq = fftpack.fftfreq(sig.size, d=time_step)\n",
        "sig_fft = fftpack.fft(sig)"
      ],
      "execution_count": 52,
      "outputs": []
    },
    {
      "cell_type": "markdown",
      "metadata": {
        "id": "sx5d65QHQSDN"
      },
      "source": [
        "Pelo fato de a energia resultante ser simétrica, apenas a parte positiva do espectro deve ser usada para encontrar a frequência:"
      ]
    },
    {
      "cell_type": "code",
      "metadata": {
        "id": "vAoggJYGQWPS"
      },
      "source": [
        "pidxs = np.where(sample_freq > 0)\n",
        "freqs = sample_freq[pidxs]\n",
        "power = np.abs(sig_fft)[pidxs]"
      ],
      "execution_count": 53,
      "outputs": []
    },
    {
      "cell_type": "markdown",
      "metadata": {
        "id": "rF2Wl9arQZsh"
      },
      "source": [
        "Para plotar com o Matplotlib:"
      ]
    },
    {
      "cell_type": "code",
      "metadata": {
        "colab": {
          "base_uri": "https://localhost:8080/",
          "height": 296
        },
        "id": "e5WVYNEbQaP3",
        "outputId": "9547e95f-b736-405a-b317-2e165590acfd"
      },
      "source": [
        "import matplotlib.pyplot as plt\n",
        "\n",
        "plt.figure()\n",
        "plt.plot(freqs, power)\n",
        "plt.xlabel('Frequencia [Hz]')\n",
        "plt.ylabel('Energia')\n",
        "axes = plt.axes([0.3, 0.3, 0.5, 0.5])\n",
        "plt.title('Pico de frequencia')\n",
        "plt.plot(freqs[:8], power[:8])\n",
        "plt.setp(axes, yticks=[])"
      ],
      "execution_count": 54,
      "outputs": [
        {
          "output_type": "execute_result",
          "data": {
            "text/plain": [
              "[]"
            ]
          },
          "metadata": {
            "tags": []
          },
          "execution_count": 54
        },
        {
          "output_type": "display_data",
          "data": {
            "image/png": "[encoded data removed]",
            "text/plain": [
              "<Figure size 432x288 with 2 Axes>"
            ]
          },
          "metadata": {
            "tags": [],
            "needs_background": "light"
          }
        }
      ]
    },
    {
      "cell_type": "markdown",
      "metadata": {
        "id": "4CakB1wvQsB5"
      },
      "source": [
        "A frequência do sinal pode ser encontrada com:"
      ]
    },
    {
      "cell_type": "code",
      "metadata": {
        "colab": {
          "base_uri": "https://localhost:8080/"
        },
        "id": "QYjp5BaaQtzd",
        "outputId": "810f92ba-eeac-4067-d3b7-8273cc9c44db"
      },
      "source": [
        "freq = freqs[power.argmax()]\n",
        "np.allclose(freq, 1./period)  # checa se aquele frequência correta é encontrada"
      ],
      "execution_count": 55,
      "outputs": [
        {
          "output_type": "execute_result",
          "data": {
            "text/plain": [
              "True"
            ]
          },
          "metadata": {
            "tags": []
          },
          "execution_count": 55
        }
      ]
    },
    {
      "cell_type": "markdown",
      "metadata": {
        "id": "hP73BzpyQy1Z"
      },
      "source": [
        "Agora, o ruído de alta frequência será removido a partir do sinal da transformada de Fourier:\n",
        "\n"
      ]
    },
    {
      "cell_type": "code",
      "metadata": {
        "id": "EXBkjHGHQwK0"
      },
      "source": [
        "sig_fft[np.abs(sample_freq) > freq] = 0\n"
      ],
      "execution_count": 56,
      "outputs": []
    },
    {
      "cell_type": "markdown",
      "metadata": {
        "id": "mL7JiUnxQ2aC"
      },
      "source": [
        "O sinal filtrado resultante pode ser calculado pela função ```scipy.fftpack.ifft()```:"
      ]
    },
    {
      "cell_type": "code",
      "metadata": {
        "id": "brdCO0AVQ5tC"
      },
      "source": [
        "main_sig = fftpack.ifft(sig_fft)"
      ],
      "execution_count": 57,
      "outputs": []
    },
    {
      "cell_type": "markdown",
      "metadata": {
        "id": "o7t7nkeGQ8Bh"
      },
      "source": [
        "E o resultado pode ser visualizado com:"
      ]
    },
    {
      "cell_type": "code",
      "metadata": {
        "colab": {
          "base_uri": "https://localhost:8080/",
          "height": 330
        },
        "id": "qm29_hUVQ-g8",
        "outputId": "a7733e30-0d92-42d6-a650-8236d7e92748"
      },
      "source": [
        "plt.figure()\n",
        "plt.plot(time_vec, sig)\n",
        "plt.plot(time_vec, main_sig, linewidth=3)\n",
        "plt.xlabel('Tempo [s]')\n",
        "plt.ylabel('Amplitude')"
      ],
      "execution_count": 58,
      "outputs": [
        {
          "output_type": "stream",
          "text": [
            "/usr/local/lib/python3.7/dist-packages/numpy/core/_asarray.py:83: ComplexWarning: Casting complex values to real discards the imaginary part\n",
            "  return array(a, dtype, copy=False, order=order)\n"
          ],
          "name": "stderr"
        },
        {
          "output_type": "execute_result",
          "data": {
            "text/plain": [
              "Text(0, 0.5, 'Amplitude')"
            ]
          },
          "metadata": {
            "tags": []
          },
          "execution_count": 58
        },
        {
          "output_type": "display_data",
          "data": {
            "image/png": "[encoded data removed]",
            "text/plain": [
              "<Figure size 432x288 with 1 Axes>"
            ]
          },
          "metadata": {
            "tags": [],
            "needs_background": "light"
          }
        }
      ]
    },
    {
      "cell_type": "markdown",
      "metadata": {
        "id": "7m6UakmbREWA"
      },
      "source": [
        "O Numpy também tem uma implementação de FFT (```numpy.fft```). No entanto, em geral, deve ser preferido a do ```scipy```, uma vez que utiliza implementações mais eficientes."
      ]
    },
    {
      "cell_type": "markdown",
      "metadata": {
        "id": "Z1pCbL5yPOZ1"
      },
      "source": [
        "## 3.5 Otimização e ajustes\n",
        "\n",
        "Otimização é o problema de se encontrar uma solução numérica para a minimização ou a igualdade.\n",
        "O módulo scipy.optimize fornece algoritmos úteis para a função de minimização (escalar ou multi-dimensional), ajuste de curva e descoberta de raizes."
      ]
    },
    {
      "cell_type": "code",
      "metadata": {
        "id": "CZ9DMM1_POZ1"
      },
      "source": [
        "from scipy import optimize"
      ],
      "execution_count": 59,
      "outputs": []
    },
    {
      "cell_type": "markdown",
      "metadata": {
        "id": "kG53xO3oPOZ1"
      },
      "source": [
        "### Encontrando-se o mínimo de uma função escalar\n",
        "\n",
        "Vamos definir a seguinte função:\n"
      ]
    },
    {
      "cell_type": "code",
      "metadata": {
        "id": "VRf4iM_IPOZ1"
      },
      "source": [
        "def f(x):\n",
        "    return x**2 + 10*np.sin(x)"
      ],
      "execution_count": 60,
      "outputs": []
    },
    {
      "cell_type": "code",
      "metadata": {
        "colab": {
          "base_uri": "https://localhost:8080/",
          "height": 265
        },
        "id": "3D4V5myPPOZ2",
        "outputId": "db15dac1-78fb-4a9a-ab26-8540d8333d07"
      },
      "source": [
        "x = np.arange(-10, 10, 0.1)\n",
        "plt.plot(x, f(x)) \n",
        "plt.show()"
      ],
      "execution_count": 61,
      "outputs": [
        {
          "output_type": "display_data",
          "data": {
            "image/png": "[encoded data removed]",
            "text/plain": [
              "<Figure size 432x288 with 1 Axes>"
            ]
          },
          "metadata": {
            "tags": [],
            "needs_background": "light"
          }
        }
      ]
    },
    {
      "cell_type": "markdown",
      "metadata": {
        "id": "-XvQyhNZPOZ2"
      },
      "source": [
        "Essa função tem um mínimo global em torno de -1,3 e um mínimo local em torno de 3,8.\n",
        "A forma geral e eficiente para encontrar um mínimo para esta função é a condução de um gradiente descendente a partir de um determinado ponto inicial. O algoritmo BFGS é uma boa maneira de fazer isso:"
      ]
    },
    {
      "cell_type": "code",
      "metadata": {
        "colab": {
          "base_uri": "https://localhost:8080/"
        },
        "id": "cEkDwuEuPOZ3",
        "outputId": "273e9bd1-72e9-4376-91db-9166198e0cb2"
      },
      "source": [
        "optimize.fmin_bfgs(f, 0)"
      ],
      "execution_count": 62,
      "outputs": [
        {
          "output_type": "stream",
          "text": [
            "Optimization terminated successfully.\n",
            "         Current function value: -7.945823\n",
            "         Iterations: 5\n",
            "         Function evaluations: 18\n",
            "         Gradient evaluations: 6\n"
          ],
          "name": "stdout"
        },
        {
          "output_type": "execute_result",
          "data": {
            "text/plain": [
              "array([-1.30644012])"
            ]
          },
          "metadata": {
            "tags": []
          },
          "execution_count": 62
        }
      ]
    },
    {
      "cell_type": "markdown",
      "metadata": {
        "id": "QVWyHhesPOZ3"
      },
      "source": [
        "Um possível problema com esta abordagem é que, se a função tem mínimos locais o algoritmo pode encontrar estes mínimos locais, em vez de o mínimo global, dependendo do ponto inicial:"
      ]
    },
    {
      "cell_type": "code",
      "metadata": {
        "colab": {
          "base_uri": "https://localhost:8080/"
        },
        "id": "kK5zuBQ7POZ3",
        "outputId": "e9c2f86e-091a-4c81-e863-1d7bfdc51e86"
      },
      "source": [
        "optimize.fmin_bfgs(f, 3, disp=0)"
      ],
      "execution_count": 63,
      "outputs": [
        {
          "output_type": "execute_result",
          "data": {
            "text/plain": [
              "array([3.83746709])"
            ]
          },
          "metadata": {
            "tags": []
          },
          "execution_count": 63
        }
      ]
    },
    {
      "cell_type": "markdown",
      "metadata": {
        "id": "YGN2IQP2POZ3"
      },
      "source": [
        "Se não sabemos a vizinhança do mínimo global para escolher o ponto inicial, é preciso recorrer a uma otimização global mais cara. Para determinar o mínimo global, o algoritmo mais simples é o algoritmo de força bruta, em que a função é avaliada em cada ponto de uma determinada rede:"
      ]
    },
    {
      "cell_type": "code",
      "metadata": {
        "colab": {
          "base_uri": "https://localhost:8080/"
        },
        "id": "h1MQ7TIDPOZ4",
        "outputId": "72c83a4b-b484-4dfc-ef9e-e201a568f06f"
      },
      "source": [
        "grid = (-10, 10, 0.1)\n",
        "xmin_global = optimize.brute(f, (grid,))\n",
        "xmin_global"
      ],
      "execution_count": 64,
      "outputs": [
        {
          "output_type": "execute_result",
          "data": {
            "text/plain": [
              "array([-1.30641113])"
            ]
          },
          "metadata": {
            "tags": []
          },
          "execution_count": 64
        }
      ]
    },
    {
      "cell_type": "markdown",
      "metadata": {
        "id": "ja91_bExPOZ4"
      },
      "source": [
        "Para maiores tamanhos de grades, ```scipy.optimize.brute()``` torna-se bastante lento. \n",
        "\n",
        "```scipy.optimize.anneal()``` fornece uma alternativa, usando arrefecimento simulado (simulated annealing). Algoritmos mais eficientes para diferentes classes de problemas de otimização global existem, mas estão fora do escopo do scipy. Alguns pacotes úteis para a otimização global são OpenOpt, IPOPT, PyGMO e PyEvolve.\n",
        "\n",
        "Para encontrar o mínimo local, vamos restringir a variável no intervalo (0, 10) usando ```scipy.optimize.fminbound()```:"
      ]
    },
    {
      "cell_type": "code",
      "metadata": {
        "colab": {
          "base_uri": "https://localhost:8080/"
        },
        "id": "Bz0QivNPPOZ4",
        "outputId": "562fbfae-0432-4bd7-c1a4-1bb00c097ae0"
      },
      "source": [
        "xmin_local = optimize.fminbound(f, 0, 10)    \n",
        "xmin_local"
      ],
      "execution_count": 65,
      "outputs": [
        {
          "output_type": "execute_result",
          "data": {
            "text/plain": [
              "3.8374671194983834"
            ]
          },
          "metadata": {
            "tags": []
          },
          "execution_count": 65
        }
      ]
    },
    {
      "cell_type": "markdown",
      "metadata": {
        "id": "p8Lbr-_OPOZ5"
      },
      "source": [
        "### Encontrar as raízes de uma função escalar\n",
        "Para encontrar uma raiz, ou seja, um ponto em que $f(x) = 0$, da função $f$ acima, podemos usar, por exemplo ```scipy.optimize.fsolve()```:"
      ]
    },
    {
      "cell_type": "code",
      "metadata": {
        "colab": {
          "base_uri": "https://localhost:8080/"
        },
        "id": "oDFevxluPOZ5",
        "outputId": "96d2d8af-5c81-4d60-b78c-36d8db2ee03c"
      },
      "source": [
        "root = optimize.fsolve(f, 1)  # o chute inicial é 1\n",
        "root"
      ],
      "execution_count": 66,
      "outputs": [
        {
          "output_type": "execute_result",
          "data": {
            "text/plain": [
              "array([0.])"
            ]
          },
          "metadata": {
            "tags": []
          },
          "execution_count": 66
        }
      ]
    },
    {
      "cell_type": "markdown",
      "metadata": {
        "id": "gRZTsOUXPOZ5"
      },
      "source": [
        "Note que apenas uma raiz é encontrada. Inspecionando o enredo, $f$ revela que há uma segunda raiz em torno de $-2,5$. Nós encontramos o valor exato do mesmo, ajustando a nossa suposição inicial:"
      ]
    },
    {
      "cell_type": "code",
      "metadata": {
        "colab": {
          "base_uri": "https://localhost:8080/"
        },
        "id": "J97hfD9rPOZ6",
        "outputId": "46cb2d5c-3a61-4f3f-952a-9d751fcc1fe4"
      },
      "source": [
        "root2 = optimize.fsolve(f, -2.5)\n",
        "root2"
      ],
      "execution_count": 67,
      "outputs": [
        {
          "output_type": "execute_result",
          "data": {
            "text/plain": [
              "array([-2.47948183])"
            ]
          },
          "metadata": {
            "tags": []
          },
          "execution_count": 67
        }
      ]
    },
    {
      "cell_type": "markdown",
      "metadata": {
        "id": "QhtkHAhkPOZ6"
      },
      "source": [
        "### Ajustes de curvas\n",
        "Suponha que tenhamos dados amostrados de $f(x)$ com algum ruído:"
      ]
    },
    {
      "cell_type": "code",
      "metadata": {
        "colab": {
          "base_uri": "https://localhost:8080/",
          "height": 282
        },
        "id": "zYFSJznKPOZ6",
        "outputId": "101dbe9f-fbac-41cb-c040-08cdd8c1a0f0"
      },
      "source": [
        "xdata = np.linspace(-10, 10, num=20)\n",
        "ydata = f(xdata) + np.random.randn(xdata.size)\n",
        "\n",
        "plt.plot(xdata, ydata, 'r+')"
      ],
      "execution_count": 68,
      "outputs": [
        {
          "output_type": "execute_result",
          "data": {
            "text/plain": [
              "[<matplotlib.lines.Line2D at 0x7faa9e3c94d0>]"
            ]
          },
          "metadata": {
            "tags": []
          },
          "execution_count": 68
        },
        {
          "output_type": "display_data",
          "data": {
            "image/png": "[encoded data removed]",
            "text/plain": [
              "<Figure size 432x288 with 1 Axes>"
            ]
          },
          "metadata": {
            "tags": [],
            "needs_background": "light"
          }
        }
      ]
    },
    {
      "cell_type": "markdown",
      "metadata": {
        "id": "tFl1siP0POZ6"
      },
      "source": [
        "Agora, se nós sabemos a forma funcional da função a partir da qual as amostras foram retiradas ($x ^ 2 + sin (x)$, nesse caso), mas não as amplitudes dos termos, podemos encontrar aqueles por mínimos quadrados do ajuste de curva. Primeiro temos que definir a função para ajustar:"
      ]
    },
    {
      "cell_type": "code",
      "metadata": {
        "id": "xRFZFF51POZ6"
      },
      "source": [
        "def f2(x, a, b):\n",
        "    return a*x**2 + b*np.sin(x)"
      ],
      "execution_count": 69,
      "outputs": []
    },
    {
      "cell_type": "markdown",
      "metadata": {
        "id": "YEaAmGCAPOZ6"
      },
      "source": [
        "Então, podemos usar ```scipy.optimize.curve_fit()``` para encontrar $a$ e $b$:"
      ]
    },
    {
      "cell_type": "code",
      "metadata": {
        "colab": {
          "base_uri": "https://localhost:8080/"
        },
        "id": "M9ctVsp1POZ7",
        "outputId": "93abcb20-5a65-4eea-84cf-6622fe126ce8"
      },
      "source": [
        "guess = [2, 2]\n",
        "params, params_covariance = optimize.curve_fit(f2, xdata, ydata, guess)\n",
        "params"
      ],
      "execution_count": 70,
      "outputs": [
        {
          "output_type": "execute_result",
          "data": {
            "text/plain": [
              "array([0.99428149, 9.76047816])"
            ]
          },
          "metadata": {
            "tags": []
          },
          "execution_count": 70
        }
      ]
    },
    {
      "cell_type": "markdown",
      "metadata": {
        "id": "ZIMlTlvnPOZ7"
      },
      "source": [
        "O resultado da função é $f(x) = x^2 + 9.8 sin(x)$.\n",
        "\n",
        "Agora, encontramos os mínimos e raízes de $f$ e utilizamos o ajuste de curva nele, vamos colocar, então, todos essas resultados juntos em um único gráfico:"
      ]
    },
    {
      "cell_type": "code",
      "metadata": {
        "colab": {
          "base_uri": "https://localhost:8080/",
          "height": 282
        },
        "id": "MnTVv3rCWcho",
        "outputId": "48c731f8-2694-44ed-9f5b-45a14e43c654"
      },
      "source": [
        "import numpy as np\n",
        "from scipy import optimize\n",
        "import matplotlib.pyplot as plt\n",
        "\n",
        "x = np.arange(-10, 10, 0.1)\n",
        "def f(x):\n",
        "    return x**2 + 10*np.sin(x)\n",
        "\n",
        "grid = (-10, 10, 0.1)\n",
        "xmin_global = optimize.brute(f, (grid,))\n",
        "xmin_local = optimize.fminbound(f, 0, 10)\n",
        "root = optimize.fsolve(f, 1)  # chute inicial é 1\n",
        "root2 = optimize.fsolve(f, -2.5)\n",
        "\n",
        "xdata = np.linspace(-10, 10, num=20)\n",
        "np.random.seed(1234)\n",
        "ydata = f(xdata) + np.random.randn(xdata.size)\n",
        "\n",
        "def f2(x, a, b):\n",
        "    return a*x**2 + b*np.sin(x)\n",
        "\n",
        "guess = [2, 2]\n",
        "params, params_covariance = optimize.curve_fit(f2, xdata, ydata, guess)\n",
        "\n",
        "plt.plot(xdata, ydata, 'rx', label=\"Dados\")\n",
        "plt.plot(x, f(x), 'r-', label=\"f(x)\")\n",
        "plt.plot(x, f2(x, *params), 'b--', label=\"Resultado do Ajuste de Curva\")\n",
        "\n",
        "xmins = np.array([xmin_global[0], xmin_local])\n",
        "plt.plot(xmins, f(xmins), 'go', label=\"Minimo\")\n",
        "\n",
        "roots = np.array([root, root2])\n",
        "plt.plot(roots, f(roots), 'kv', label=\"Raizes\")\n",
        "plt.legend()"
      ],
      "execution_count": 71,
      "outputs": [
        {
          "output_type": "execute_result",
          "data": {
            "text/plain": [
              "<matplotlib.legend.Legend at 0x7faa9e368650>"
            ]
          },
          "metadata": {
            "tags": []
          },
          "execution_count": 71
        },
        {
          "output_type": "display_data",
          "data": {
            "image/png": "[encoded data removed]",
            "text/plain": [
              "<Figure size 432x288 with 1 Axes>"
            ]
          },
          "metadata": {
            "tags": [],
            "needs_background": "light"
          }
        }
      ]
    },
    {
      "cell_type": "markdown",
      "metadata": {
        "id": "TJ7yABW3POZ7"
      },
      "source": [
        "Outro exemplo: \n",
        "\n",
        "Primeiro, vamos gerar alguns dados:"
      ]
    },
    {
      "cell_type": "code",
      "metadata": {
        "colab": {
          "base_uri": "https://localhost:8080/",
          "height": 282
        },
        "id": "5lhNPQBVPOZ8",
        "outputId": "62024b74-d4c6-4066-c834-3a46ee486c18"
      },
      "source": [
        "import numpy as np\n",
        "\n",
        "# Semente para gerador de número randômico para garantir a reproducibilidade\n",
        "np.random.seed(0)\n",
        "\n",
        "x_data = np.linspace(-5, 5, num=50)\n",
        "y_data = 2.9 * np.sin(1.5 * x_data) + np.random.normal(size=50) # acrescentando ruído\n",
        "\n",
        "import matplotlib.pyplot as plt\n",
        "plt.figure(figsize=(6, 4))\n",
        "plt.scatter(x_data, y_data)"
      ],
      "execution_count": 72,
      "outputs": [
        {
          "output_type": "execute_result",
          "data": {
            "text/plain": [
              "<matplotlib.collections.PathCollection at 0x7faa9e2bb690>"
            ]
          },
          "metadata": {
            "tags": []
          },
          "execution_count": 72
        },
        {
          "output_type": "display_data",
          "data": {
            "image/png": "[encoded data removed]",
            "text/plain": [
              "<Figure size 432x288 with 1 Axes>"
            ]
          },
          "metadata": {
            "tags": [],
            "needs_background": "light"
          }
        }
      ]
    },
    {
      "cell_type": "markdown",
      "metadata": {
        "id": "aTD4RJqfPOZ8"
      },
      "source": [
        "Agora, vamos ajustar uma função seno aos dados:"
      ]
    },
    {
      "cell_type": "code",
      "metadata": {
        "colab": {
          "base_uri": "https://localhost:8080/"
        },
        "id": "3qjK6F2NPOZ8",
        "outputId": "3e4b3fef-e87e-469b-d476-a0a0e53a626d"
      },
      "source": [
        "def test_func(x, a, b):\n",
        "    \"função teste para ajustar\"\n",
        "    return a * np.sin(b * x)\n",
        "\n",
        "# curve_fit aplica test_func a (x_data, y_data) com parâmetros iniciais [2,2]\n",
        "params, params_covariance = optimize.curve_fit(test_func, x_data, y_data, p0=[2, 2])\n",
        "print(params)"
      ],
      "execution_count": 73,
      "outputs": [
        {
          "output_type": "stream",
          "text": [
            "[3.05931973 1.45754553]\n"
          ],
          "name": "stdout"
        }
      ]
    },
    {
      "cell_type": "markdown",
      "metadata": {
        "id": "e6TjZ9xTPOZ8"
      },
      "source": [
        "E vamos plotar a curva resultante nos dados:"
      ]
    },
    {
      "cell_type": "code",
      "metadata": {
        "colab": {
          "base_uri": "https://localhost:8080/",
          "height": 265
        },
        "id": "OsyktDDfPOZ8",
        "outputId": "5344adb7-71c8-4fbd-9d5e-5752b15d47f8"
      },
      "source": [
        "plt.figure(figsize=(6, 4))\n",
        "plt.scatter(x_data, y_data, label='Data')\n",
        "plt.plot(x_data, test_func(x_data, params[0], params[1]),\n",
        "         label='Fitted function')\n",
        "\n",
        "plt.legend(loc='best')\n",
        "\n",
        "plt.show()"
      ],
      "execution_count": 74,
      "outputs": [
        {
          "output_type": "display_data",
          "data": {
            "image/png": "[encoded data removed]",
            "text/plain": [
              "<Figure size 432x288 with 1 Axes>"
            ]
          },
          "metadata": {
            "tags": [],
            "needs_background": "light"
          }
        }
      ]
    },
    {
      "cell_type": "markdown",
      "metadata": {
        "id": "-JxRm6HwPOZ9"
      },
      "source": [
        "## 3.6 Estatística e números randômicos\n",
        "\n",
        "O módulo ```scipy.stats``` contém ferramentas estatísticas e descrições probabilísticas de processos aleatórios. \n",
        "\n",
        "Geradores de números aleatórios para vários processos aleatórios podem ser encontrados em ```numpy.random```.\n",
        "\n",
        "### Histograma e função de densidade de probabilidade\n",
        "\n",
        "Dadas as observações de um processo aleatório, seu histograma é um estimador de PDF do processo aleatório (função densidade de probabilidade):"
      ]
    },
    {
      "cell_type": "code",
      "metadata": {
        "colab": {
          "base_uri": "https://localhost:8080/"
        },
        "id": "X5_B1Co3POZ9",
        "outputId": "cabe66fb-faba-4f7e-f754-f8cd1a31db2b"
      },
      "source": [
        "a = np.random.normal(size=5000)\n",
        "bins = np.arange(-4.0, 4.2, 0.2)\n",
        "\n",
        "histogram = np.histogram(a, bins=bins, normed=True)[0]"
      ],
      "execution_count": 75,
      "outputs": [
        {
          "output_type": "stream",
          "text": [
            "/usr/local/lib/python3.7/dist-packages/ipykernel_launcher.py:4: VisibleDeprecationWarning: Passing `normed=True` on non-uniform bins has always been broken, and computes neither the probability density function nor the probability mass function. The result is only correct if the bins are uniform, when density=True will produce the same result anyway. The argument will be removed in a future version of numpy.\n",
            "  after removing the cwd from sys.path.\n"
          ],
          "name": "stderr"
        }
      ]
    },
    {
      "cell_type": "code",
      "metadata": {
        "colab": {
          "base_uri": "https://localhost:8080/",
          "height": 265
        },
        "id": "x8Mp2JzuPOZ9",
        "outputId": "29eefaf0-edfb-47d0-8c0d-de260d7dffe7"
      },
      "source": [
        "from scipy import stats\n",
        "import matplotlib.pyplot as plt\n",
        "\n",
        "b = stats.norm.pdf(bins)  # norm é uma districuição\n",
        "plt.plot(bins[:-1], histogram, 'o')\n",
        "plt.plot(bins, b, '-')\n",
        "plt.show()"
      ],
      "execution_count": 76,
      "outputs": [
        {
          "output_type": "display_data",
          "data": {
            "image/png": "[encoded data removed]",
            "text/plain": [
              "<Figure size 432x288 with 1 Axes>"
            ]
          },
          "metadata": {
            "tags": [],
            "needs_background": "light"
          }
        }
      ]
    },
    {
      "cell_type": "markdown",
      "metadata": {
        "id": "QRQ47gowPOZ9"
      },
      "source": [
        "### *Fitting*\n",
        "\n",
        "Uma atividade frequente em análise estatística é estimar os parâmetros de uma distribuição a partir de dados observados. Os métodos ```fit``` das várias distribuições encontradas em ```stats``` são capazes de realizar a estimação dos parâmetros por máxima verossimilhança (*maximum likelihood estimation* - MLE).\n",
        "\n",
        "Vamos estimar os parâmetros do exemplo acima:"
      ]
    },
    {
      "cell_type": "code",
      "metadata": {
        "colab": {
          "base_uri": "https://localhost:8080/"
        },
        "id": "6zbWsFv-POZ-",
        "outputId": "c349551a-fbc7-4ef9-d221-69e000db0627"
      },
      "source": [
        "loc, std = stats.norm.fit(a)\n",
        "print(loc)     \n",
        "print(std)"
      ],
      "execution_count": 77,
      "outputs": [
        {
          "output_type": "stream",
          "text": [
            "-0.01702172544209058\n",
            "0.9852513461399441\n"
          ],
          "name": "stdout"
        }
      ]
    },
    {
      "cell_type": "markdown",
      "metadata": {
        "id": "S6kiy4_qPOZ-"
      },
      "source": [
        "## Testes Estatísticos\n",
        "\n",
        "Um teste estatístico é um indicador de decisão. \n",
        "\n",
        "O ```T-teste``` toma duas amostras independentes e verifica a hipótese de que a média das duas populações (assumindo a mesma variância) são iguais (hipótese nula - *null-hypothesis*).\n",
        "\n",
        "O teste avalia se a média esperada difere significativamente entre as duas amostras. \n",
        "\n",
        "Implementado na rotina ```tttest_ind```, o teste também computa o **p-valor**. Se o valor do p-valor for menor que um limiar (por exemplo, 1%), rejeita-se a hipótese de médias iguais.\n",
        "\n",
        "Considere como exemplo duas amostra: $a$ produzida a partir de uma distribuição normal $N(0,1)$ e $b$, a partir de uma distribuição normal $N(1,1)$. Note que as duas distribuições têm a mesma variância, mas diferem em relação à média.\n",
        "Podemos usar uma T-teste para decidir se os dois conjuntos de observações são significativamente diferentes:"
      ]
    },
    {
      "cell_type": "code",
      "metadata": {
        "colab": {
          "base_uri": "https://localhost:8080/",
          "height": 282
        },
        "id": "t-lCZU4SPOZ-",
        "outputId": "672bf876-c799-4967-e278-cf792447e111"
      },
      "source": [
        "a = np.random.normal(0, 1, size=100)\n",
        "b = np.random.normal(1, 1, size=10)\n",
        "\n",
        "n, pan, binstches = plt.hist(a, 25, label='a')\n",
        "n, pan, binstches = plt.hist(b, 25, label='b')\n",
        "plt.legend()\n"
      ],
      "execution_count": 78,
      "outputs": [
        {
          "output_type": "execute_result",
          "data": {
            "text/plain": [
              "<matplotlib.legend.Legend at 0x7faa9e29e790>"
            ]
          },
          "metadata": {
            "tags": []
          },
          "execution_count": 78
        },
        {
          "output_type": "display_data",
          "data": {
            "image/png": "[encoded data removed]",
            "text/plain": [
              "<Figure size 432x288 with 1 Axes>"
            ]
          },
          "metadata": {
            "tags": [],
            "needs_background": "light"
          }
        }
      ]
    },
    {
      "cell_type": "markdown",
      "metadata": {
        "id": "eHo4EZ_XfCFD"
      },
      "source": [
        "Como esperado, $a$ e $b$ diferem segundo o teste (note o baixo p-valor):"
      ]
    },
    {
      "cell_type": "code",
      "metadata": {
        "colab": {
          "base_uri": "https://localhost:8080/"
        },
        "id": "1PJsfX_advFY",
        "outputId": "516b8caf-38fb-4ead-f5e9-2282a28b943f"
      },
      "source": [
        "stats.ttest_ind(a, b)"
      ],
      "execution_count": 79,
      "outputs": [
        {
          "output_type": "execute_result",
          "data": {
            "text/plain": [
              "Ttest_indResult(statistic=-2.36752415608801, pvalue=0.0196871113676269)"
            ]
          },
          "metadata": {
            "tags": []
          },
          "execution_count": 79
        }
      ]
    },
    {
      "cell_type": "markdown",
      "metadata": {
        "id": "TCt6ZDyzPOZ-"
      },
      "source": [
        "A saída resultante é composta por:\n",
        "\n",
        "* O valor estatístico T: é um número do sinal que é proporcional à diferença entre os dois processos aleatórios e a magnitude está relacionada com o significado dessa diferença.\n",
        "* O valor de p: probabilidade de ambos os processos são idênticas. Se for próximo de 1, os dois processos são quase certamente idênticos. O mais próximo de zero, o mais provável é que os processos tenham diferentes significados."
      ]
    },
    {
      "cell_type": "markdown",
      "metadata": {
        "id": "RVc217R2POZ_"
      },
      "source": [
        "## 3.7 Interpolação\n",
        "\n",
        "O ```scipy.interpolate``` é útil para a montagem de uma função a partir de dados experimentais e, portanto, avaliar os pontos onde não existe nenhuma medida. O módulo é baseado nas subrotinas Fortran ```FitPack``` do projecto netlib.\n",
        "\n",
        "Ao imaginar dados experimentais perto de uma função seno:"
      ]
    },
    {
      "cell_type": "code",
      "metadata": {
        "id": "TxhlPByzPOZ_"
      },
      "source": [
        "from scipy import interpolate\n",
        "\n",
        "x = np.linspace(0, 10, num=11, endpoint=True) # variaveis a serem interpoladas\n",
        "y = np.cos(-x**2/9.0) # x e y\n",
        "f = interpolate.interp1d(x, y) # f tem coef. do polinomio da interpolacão linear\n",
        "f2 = interpolate.interp1d(x, y, kind='cubic') # f2 tem coef. do polinomio da interpola¸c~ao cubica"
      ],
      "execution_count": 80,
      "outputs": []
    },
    {
      "cell_type": "code",
      "metadata": {
        "id": "izYAQOk9POZ_",
        "colab": {
          "base_uri": "https://localhost:8080/",
          "height": 265
        },
        "outputId": "38dd7a3d-2f45-4fd0-a9e3-b8cf97b654d2"
      },
      "source": [
        "xnew = np.linspace(0, 10, num=41, endpoint=True) # novas posicoes onde realizar a interpola¸c~ao\n",
        "plt.plot(x, y, 'o') # pontos originais\n",
        "plt.plot( xnew, f(xnew), '-') # pontos interpolados linearmente\n",
        "plt.plot( xnew, f2(xnew), '--') # pontos interpolados cubicamente\n",
        "plt.legend(['data', 'linear', 'cubic'], loc='best')\n",
        "plt.show()"
      ],
      "execution_count": 81,
      "outputs": [
        {
          "output_type": "display_data",
          "data": {
            "image/png": "[encoded data removed]",
            "text/plain": [
              "<Figure size 432x288 with 1 Axes>"
            ]
          },
          "metadata": {
            "tags": [],
            "needs_background": "light"
          }
        }
      ]
    },
    {
      "cell_type": "markdown",
      "metadata": {
        "id": "vx_KBMLEPOZ_"
      },
      "source": [
        "```scipy.interpolate.interp2d``` é semelhante ao ```scipy.interpolate.interp1d```, mas para matrizes de 2-D. \n",
        "\n",
        "Note que para a família interp, o tempo computado deve ficar dentro do intervalo de tempo medido."
      ]
    },
    {
      "cell_type": "markdown",
      "metadata": {
        "id": "awqbEO8MPOZ_"
      },
      "source": [
        "## 3.8 Integração Numérica\n",
        "\n",
        "Rotinas para integração de funções\n",
        "* quad – rotinas de propósito geral.\n",
        "* dblquad – rotinas de integração dupla.\n",
        "* tplquad – rotinas de integração tripla.\n",
        "* fixed quad – Integra f(x) com quadratura Gaussiana de ordem n.\n",
        "* quadrature – Integra f(x) com quadratura Gaussiana de ordem n com dada\n",
        "tolerância\n",
        "* romberg – Integra f(x) usando integração de Romberg\n",
        "\n",
        "Met´odos de integração a partir de pontos\n",
        "* trapz – método trapezoidal pra calcular integral de amostras\n",
        "* cumtrapz – método trapezoidal cumulativo pra calcular integral de amostras\n",
        "* simps – método Simpson pra calcular integral de amostras\n",
        "* romb – método Romberg pra calcular integral de amostras (2**k + 1)\n",
        "igualmente espaçadas.\n",
        "\n",
        "Integração de Equações Diferenciais Ordinárias (ODE)\n",
        "* odeint – integração geral\n",
        "* ode – integração com otinas VODE e ZVODE\n"
      ]
    },
    {
      "cell_type": "markdown",
      "metadata": {
        "id": "s9fmRR06POaA"
      },
      "source": [
        "Exemplo: Calcular $\\int_0^4 x^2 dx = \\frac{4^3}{3}$ e compara com o valor numérico"
      ]
    },
    {
      "cell_type": "code",
      "metadata": {
        "id": "t95vTMUJPOaA",
        "colab": {
          "base_uri": "https://localhost:8080/"
        },
        "outputId": "621e1a8f-f9af-4362-eed2-46df021aad01"
      },
      "source": [
        "from scipy import integrate\n",
        "x2 = lambda x: x**2\n",
        "integrate.quad(x2, 0, 4)"
      ],
      "execution_count": 82,
      "outputs": [
        {
          "output_type": "execute_result",
          "data": {
            "text/plain": [
              "(21.333333333333336, 2.368475785867001e-13)"
            ]
          },
          "metadata": {
            "tags": []
          },
          "execution_count": 82
        }
      ]
    },
    {
      "cell_type": "code",
      "metadata": {
        "id": "w5ydqE12POaA",
        "colab": {
          "base_uri": "https://localhost:8080/"
        },
        "outputId": "32e0bc24-c4df-4455-fc03-3d5e3ce53a8b"
      },
      "source": [
        "print(4**3 / 3.) # analytical result"
      ],
      "execution_count": 83,
      "outputs": [
        {
          "output_type": "stream",
          "text": [
            "21.333333333333332\n"
          ],
          "name": "stdout"
        }
      ]
    },
    {
      "cell_type": "markdown",
      "metadata": {
        "id": "oDpzoF2GPOaA"
      },
      "source": [
        "Exemplo: Integrando uma ODE simples\n",
        "\n",
        "Vamos resolver a ODE $\\frac{dy}{dt} = -2y$ no intervalo $[0, 4]$ com a condição inicial $y (t=0) = 1$."
      ]
    },
    {
      "cell_type": "code",
      "metadata": {
        "id": "r3l4GHx4POaA",
        "colab": {
          "base_uri": "https://localhost:8080/",
          "height": 225
        },
        "outputId": "e965f1f2-0034-4a67-e6c3-afc65d64f195"
      },
      "source": [
        "import numpy as np\n",
        "from scipy.integrate import odeint\n",
        "from matplotlib import pyplot as plt\n",
        "\n",
        "def calc_derivative(ypos, time):\n",
        "    return -2*ypos\n",
        "\n",
        "time_vec = np.linspace(0, 4, 40)\n",
        "yvec = odeint(calc_derivative, 1, time_vec)\n",
        "\n",
        "plt.figure(figsize=(4, 3))\n",
        "plt.plot(time_vec, yvec)\n",
        "plt.xlabel('t: Time')\n",
        "plt.ylabel('y: Position')\n",
        "plt.tight_layout()"
      ],
      "execution_count": 84,
      "outputs": [
        {
          "output_type": "display_data",
          "data": {
            "image/png": "[encoded data removed]",
            "text/plain": [
              "<Figure size 288x216 with 1 Axes>"
            ]
          },
          "metadata": {
            "tags": [],
            "needs_background": "light"
          }
        }
      ]
    },
    {
      "cell_type": "markdown",
      "metadata": {
        "id": "Bpx2aNsvPOaB"
      },
      "source": [
        "# Referências \n",
        "\n",
        "* scipy-lectures.org\n",
        "\n",
        "* https://www.ferrari.pro.br/home/documents/FFerrari-ecosistema-python.pdf\n",
        "\n",
        "* http://www.estruturas.ufpr.br/disciplinas/pos-graduacao/introducao-a-computacao-cientifica-com-python/introducao-python/4-9-processamento-de-sinais/\n",
        "\n",
        "* https://ainfo.cnptia.embrapa.br/digital/bitstream/item/121412/1/Doc131.pdf"
      ]
    }
  ]
}