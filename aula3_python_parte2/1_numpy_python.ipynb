{
  "nbformat": 4,
  "nbformat_minor": 0,
  "metadata": {
    "kernelspec": {
      "name": "python3",
      "display_name": "Python 3.9.2 64-bit ('root-python-env': conda)"
    },
    "language_info": {
      "codemirror_mode": {
        "name": "ipython",
        "version": 3
      },
      "file_extension": ".py",
      "mimetype": "text/x-python",
      "name": "python",
      "nbconvert_exporter": "python",
      "pygments_lexer": "ipython3",
      "version": "3.9.2"
    },
    "interpreter": {
      "hash": "335436fdd3b76d4f3727a636fd436c7d3c5aef570f332174c0978c1012c03da9"
    },
    "colab": {
      "name": "1_numpy_python.ipynb",
      "provenance": [],
      "collapsed_sections": []
    }
  },
  "cells": [
    {
      "cell_type": "markdown",
      "metadata": {
        "id": "eC9sHOtENoSX"
      },
      "source": [
        "# 1. NumPy \n",
        "\n",
        "O Numpy é uma biblioteca Python usada principalmente para realizar cálculos em arrays multidimensionais. O NumPy fornece um grande conjunto de funções e operações de biblioteca que ajudam os programadores a executar facilmente cálculos numéricos. Esses tipos de cálculos numéricos são amplamente utilizados em tarefas como:\n",
        "* Modelos de Machine Learning\n",
        "* Processamento de Imagem e Computação Gráfica\n",
        "* Tarefas matemáticas \n",
        "\n",
        "\n",
        "NumPy pode ser importado no ambiente com o comando ```import numpy```,\n",
        "como no exemplo abaixo:\n"
      ]
    },
    {
      "cell_type": "code",
      "metadata": {
        "colab": {
          "base_uri": "https://localhost:8080/"
        },
        "id": "pRwdVQ5hNoSY",
        "outputId": "54c3729d-df34-470e-c425-087364fb316d"
      },
      "source": [
        "import numpy as np \n",
        "a = np.array([0, 1, 2, 3])\n",
        "a"
      ],
      "execution_count": null,
      "outputs": [
        {
          "output_type": "execute_result",
          "data": {
            "text/plain": [
              "array([0, 1, 2, 3])"
            ]
          },
          "metadata": {
            "tags": []
          },
          "execution_count": 1
        }
      ]
    },
    {
      "cell_type": "markdown",
      "metadata": {
        "id": "wfONOO-4NoSb"
      },
      "source": [
        "## 1.1 Documentação:\n",
        "\n",
        "*  https://numpy.org/doc/\n",
        "* Ajuda interativa:"
      ]
    },
    {
      "cell_type": "code",
      "metadata": {
        "id": "_6MPjTWgNoSb"
      },
      "source": [
        "np.array?"
      ],
      "execution_count": null,
      "outputs": []
    },
    {
      "cell_type": "markdown",
      "metadata": {
        "id": "vtHoCV9VNoSc"
      },
      "source": [
        "* Procurando por algo:"
      ]
    },
    {
      "cell_type": "code",
      "metadata": {
        "colab": {
          "base_uri": "https://localhost:8080/"
        },
        "id": "ooZmeqhnNoSd",
        "outputId": "760ebb40-a5e7-4a71-f713-a9d00886e58a"
      },
      "source": [
        "np.lookfor('create array')"
      ],
      "execution_count": null,
      "outputs": [
        {
          "output_type": "stream",
          "text": [
            "Search results for 'create array'\n",
            "---------------------------------\n",
            "numpy.array\n",
            "    Create an array.\n",
            "numpy.memmap\n",
            "    Create a memory-map to an array stored in a *binary* file on disk.\n",
            "numpy.diagflat\n",
            "    Create a two-dimensional array with the flattened input as a diagonal.\n",
            "numpy.fromiter\n",
            "    Create a new 1-dimensional array from an iterable object.\n",
            "numpy.partition\n",
            "    Return a partitioned copy of an array.\n",
            "numpy.ctypeslib.as_array\n",
            "    Create a numpy array from a ctypes array or POINTER.\n",
            "numpy.ma.diagflat\n",
            "    Create a two-dimensional array with the flattened input as a diagonal.\n",
            "numpy.ma.make_mask\n",
            "    Create a boolean mask from an array.\n",
            "numpy.lib.Arrayterator\n",
            "    Buffered iterator for big arrays.\n",
            "numpy.ctypeslib.as_ctypes\n",
            "    Create and return a ctypes object from a numpy array.  Actually\n",
            "numpy.ma.mrecords.fromarrays\n",
            "    Creates a mrecarray from a (flat) list of masked arrays.\n",
            "numpy.ma.mvoid.__new__\n",
            "    Create a new masked array from scratch.\n",
            "numpy.ma.MaskedArray.__new__\n",
            "    Create a new masked array from scratch.\n",
            "numpy.ma.mrecords.fromtextfile\n",
            "    Creates a mrecarray from data stored in the file `filename`.\n",
            "numpy.asarray\n",
            "    Convert the input to an array.\n",
            "numpy.ndarray\n",
            "    ndarray(shape, dtype=float, buffer=None, offset=0,\n",
            "numpy.recarray\n",
            "    Construct an ndarray that allows field access using attributes.\n",
            "numpy.chararray\n",
            "    chararray(shape, itemsize=1, unicode=False, buffer=None, offset=0,\n",
            "numpy.exp\n",
            "    Calculate the exponential of all elements in the input array.\n",
            "numpy.pad\n",
            "    Pad an array.\n",
            "numpy.asanyarray\n",
            "    Convert the input to an ndarray, but pass ndarray subclasses through.\n",
            "numpy.cbrt\n",
            "    Return the cube-root of an array, element-wise.\n",
            "numpy.copy\n",
            "    Return an array copy of the given object.\n",
            "numpy.diag\n",
            "    Extract a diagonal or construct a diagonal array.\n",
            "numpy.exp2\n",
            "    Calculate `2**p` for all `p` in the input array.\n",
            "numpy.fmax\n",
            "    Element-wise maximum of array elements.\n",
            "numpy.fmin\n",
            "    Element-wise minimum of array elements.\n",
            "numpy.load\n",
            "    Load arrays or pickled objects from ``.npy``, ``.npz`` or pickled files.\n",
            "numpy.modf\n",
            "    Return the fractional and integral parts of an array, element-wise.\n",
            "numpy.rint\n",
            "    Round elements of the array to the nearest integer.\n",
            "numpy.sort\n",
            "    Return a sorted copy of an array.\n",
            "numpy.sqrt\n",
            "    Return the non-negative square-root of an array, element-wise.\n",
            "numpy.array_equiv\n",
            "    Returns True if input arrays are shape consistent and all elements equal.\n",
            "numpy.dtype\n",
            "    Create a data type object.\n",
            "numpy.expm1\n",
            "    Calculate ``exp(x) - 1`` for all elements in the array.\n",
            "numpy.isnan\n",
            "    Test element-wise for NaN and return result as a boolean array.\n",
            "numpy.isnat\n",
            "    Test element-wise for NaT (not a time) and return result as a boolean array.\n",
            "numpy.log10\n",
            "    Return the base 10 logarithm of the input array, element-wise.\n",
            "numpy.log1p\n",
            "    Return the natural logarithm of one plus the input array, element-wise.\n",
            "numpy.power\n",
            "    First array elements raised to powers from second array, element-wise.\n",
            "numpy.ufunc\n",
            "    Functions that operate element by element on whole arrays.\n",
            "numpy.choose\n",
            "    Construct an array from an index array and a set of arrays to choose from.\n",
            "numpy.nditer\n",
            "    Efficient multi-dimensional iterator object to iterate over arrays.\n",
            "numpy.maximum\n",
            "    Element-wise maximum of array elements.\n",
            "numpy.minimum\n",
            "    Element-wise minimum of array elements.\n",
            "numpy.swapaxes\n",
            "    Interchange two axes of an array.\n",
            "numpy.full_like\n",
            "    Return a full array with the same shape and type as a given array.\n",
            "numpy.ones_like\n",
            "    Return an array of ones with the same shape and type as a given array.\n",
            "numpy.bitwise_or\n",
            "    Compute the bit-wise OR of two arrays element-wise.\n",
            "numpy.empty_like\n",
            "    Return a new array with the same shape and type as a given array.\n",
            "numpy.zeros_like\n",
            "    Return an array of zeros with the same shape and type as a given array.\n",
            "numpy.asarray_chkfinite\n",
            "    Convert the input to an array, checking for NaNs or Infs.\n",
            "numpy.bitwise_and\n",
            "    Compute the bit-wise AND of two arrays element-wise.\n",
            "numpy.bitwise_xor\n",
            "    Compute the bit-wise XOR of two arrays element-wise.\n",
            "numpy.float_power\n",
            "    First array elements raised to powers from second array, element-wise.\n",
            "numpy.ma.exp\n",
            "    Calculate the exponential of all elements in the input array.\n",
            "numpy.diag_indices\n",
            "    Return the indices to access the main diagonal of an array.\n",
            "numpy.nested_iters\n",
            "    Create nditers for use in nested loops\n",
            "numpy.ma.sqrt\n",
            "    Return the non-negative square-root of an array, element-wise.\n",
            "numpy.ma.log10\n",
            "    Return the base 10 logarithm of the input array, element-wise.\n",
            "numpy.chararray.tolist\n",
            "    a.tolist()\n",
            "numpy.put_along_axis\n",
            "    Put values into the destination array by matching 1d index and data slices.\n",
            "numpy.ma.choose\n",
            "    Use an index array to construct a new array from a set of choices.\n",
            "numpy.ma.maximum\n",
            "    Element-wise maximum of array elements.\n",
            "numpy.ma.minimum\n",
            "    Element-wise minimum of array elements.\n",
            "numpy.ma.mrecords.MaskedRecords.__new__\n",
            "    Create a new masked array from scratch.\n",
            "numpy.savez_compressed\n",
            "    Save several arrays into a single file in compressed ``.npz`` format.\n",
            "numpy.matlib.rand\n",
            "    Return a matrix of random values with given shape.\n",
            "numpy.datetime_as_string\n",
            "    Convert an array of datetimes into an array of strings.\n",
            "numpy.ma.bitwise_or\n",
            "    Compute the bit-wise OR of two arrays element-wise.\n",
            "numpy.ma.bitwise_and\n",
            "    Compute the bit-wise AND of two arrays element-wise.\n",
            "numpy.ma.bitwise_xor\n",
            "    Compute the bit-wise XOR of two arrays element-wise.\n",
            "numpy.ma.make_mask_none\n",
            "    Return a boolean mask of the given shape, filled with False.\n",
            "numpy.ma.tests.test_subclassing.MSubArray.__new__\n",
            "    Create a new masked array from scratch.\n",
            "numpy.core._multiarray_umath.clip\n",
            "    Clip (limit) the values in an array.\n",
            "numpy.core.tests.test_overrides._new_duck_type_and_implements\n",
            "    Create a duck array type and implements functions.\n",
            "numpy.ma.tests.test_subclassing.SubMaskedArray.__new__\n",
            "    Create a new masked array from scratch.\n",
            "numpy.ma.mrecords.fromrecords\n",
            "    Creates a MaskedRecords from a list of records.\n",
            "numpy.core._multiarray_umath.empty_like\n",
            "    Return a new array with the same shape and type as a given array.\n",
            "numpy.f2py.tests.test_array_from_pyobj.Array.has_shared_memory\n",
            "    Check that created array shares data with input array.\n",
            "numpy.core._dtype._construction_repr\n",
            "    Creates a string repr of the dtype, excluding the 'dtype()' part\n",
            "numpy.abs\n",
            "    Calculate the absolute value element-wise.\n",
            "numpy.add\n",
            "    Add arguments element-wise.\n",
            "numpy.cos\n",
            "    Cosine element-wise.\n",
            "numpy.log\n",
            "    Natural logarithm, element-wise.\n",
            "numpy.mod\n",
            "    Return element-wise remainder of division.\n",
            "numpy.lib.recfunctions.require_fields\n",
            "    Casts a structured array to a new dtype using assignment by field-name.\n",
            "numpy.sin\n",
            "    Trigonometric sine, element-wise.\n",
            "numpy.tan\n",
            "    Compute tangent element-wise.\n",
            "numpy.ceil\n",
            "    Return the ceiling of the input, element-wise.\n",
            "numpy.conj\n",
            "    Return the complex conjugate, element-wise.\n",
            "numpy.cosh\n",
            "    Hyperbolic cosine, element-wise.\n",
            "numpy.fabs\n",
            "    Compute the absolute values element-wise.\n",
            "numpy.fmod\n",
            "    Return the element-wise remainder of division.\n",
            "numpy.less\n",
            "    Return the truth value of (x1 < x2) element-wise.\n",
            "numpy.log2\n",
            "    Base-2 logarithm of `x`.\n",
            "numpy.sign\n",
            "    Returns an element-wise indication of the sign of a number.\n",
            "numpy.sinh\n",
            "    Hyperbolic sine, element-wise.\n",
            "numpy.tanh\n",
            "    Compute hyperbolic tangent element-wise.\n",
            "numpy.core._multiarray_umath.datetime_as_string\n",
            "    Convert an array of datetimes into an array of strings.\n",
            "numpy.equal\n",
            "    Return (x1 == x2) element-wise.\n",
            "numpy.floor\n",
            "    Return the floor of the input, element-wise.\n",
            "numpy.frexp\n",
            "    Decompose the elements of x into mantissa and twos exponent.\n",
            "numpy.hypot\n",
            "    Given the \"legs\" of a right triangle, return its hypotenuse.\n",
            "numpy.isinf\n",
            "    Test element-wise for positive or negative infinity.\n",
            "numpy.ldexp\n",
            "    Returns x1 * 2**x2, element-wise.\n",
            "numpy.trunc\n",
            "    Return the truncated value of the input, element-wise.\n",
            "numpy.arccos\n",
            "    Trigonometric inverse cosine, element-wise.\n",
            "numpy.arcsin\n",
            "    Inverse sine, element-wise.\n",
            "numpy.arctan\n",
            "    Trigonometric inverse tangent, element-wise.\n",
            "numpy.around\n",
            "    Evenly round to the given number of decimals.\n",
            "numpy.divide\n",
            "    Returns a true division of the inputs, element-wise.\n",
            "numpy.divmod\n",
            "    Return element-wise quotient and remainder simultaneously.\n",
            "numpy.source\n",
            "    Print or write to a file the source code for a NumPy object.\n",
            "numpy.square\n",
            "    Return the element-wise square of the input.\n",
            "numpy.arccosh\n",
            "    Inverse hyperbolic cosine, element-wise.\n",
            "numpy.arcsinh\n",
            "    Inverse hyperbolic sine element-wise.\n",
            "numpy.arctan2\n",
            "    Element-wise arc tangent of ``x1/x2`` choosing the quadrant correctly.\n",
            "numpy.arctanh\n",
            "    Inverse hyperbolic tangent element-wise.\n",
            "numpy.deg2rad\n",
            "    Convert angles from degrees to radians.\n",
            "numpy.degrees\n",
            "    Convert angles from radians to degrees.\n",
            "numpy.greater\n",
            "    Return the truth value of (x1 > x2) element-wise.\n",
            "numpy.rad2deg\n",
            "    Convert angles from radians to degrees.\n",
            "numpy.radians\n",
            "    Convert angles from degrees to radians.\n",
            "numpy.signbit\n",
            "    Returns element-wise True where signbit is set (less than zero).\n",
            "numpy.spacing\n",
            "    Return the distance between x and the nearest adjacent number.\n",
            "numpy.copysign\n",
            "    Change the sign of x1 to that of x2, element-wise.\n",
            "numpy.diagonal\n",
            "    Return specified diagonals.\n",
            "numpy.isfinite\n",
            "    Test element-wise for finiteness (not infinity or not Not a Number).\n",
            "numpy.multiply\n",
            "    Multiply arguments element-wise.\n",
            "numpy.negative\n",
            "    Numerical negative, element-wise.\n",
            "numpy.subtract\n",
            "    Subtract arguments, element-wise.\n",
            "numpy.heaviside\n",
            "    Compute the Heaviside step function.\n",
            "numpy.logaddexp\n",
            "    Logarithm of the sum of exponentiations of the inputs.\n",
            "numpy.nextafter\n",
            "    Return the next floating-point value after x1 towards x2, element-wise.\n",
            "numpy.not_equal\n",
            "    Return (x1 != x2) element-wise.\n",
            "numpy.left_shift\n",
            "    Shift the bits of an integer to the left.\n",
            "numpy.less_equal\n",
            "    Return the truth value of (x1 =< x2) element-wise.\n",
            "numpy.logaddexp2\n",
            "    Logarithm of the sum of exponentiations of the inputs in base-2.\n",
            "numpy.logical_or\n",
            "    Compute the truth value of x1 OR x2 element-wise.\n",
            "numpy.nan_to_num\n",
            "    Replace NaN with zero and infinity with large finite numbers (default\n",
            "numpy.reciprocal\n",
            "    Return the reciprocal of the argument, element-wise.\n",
            "numpy.bitwise_not\n",
            "    Compute bit-wise inversion, or bit-wise NOT, element-wise.\n",
            "numpy.einsum_path\n",
            "    Evaluates the lowest cost contraction order for an einsum expression by\n",
            "numpy.histogram2d\n",
            "    Compute the bi-dimensional histogram of two data samples.\n",
            "numpy.logical_and\n",
            "    Compute the truth value of x1 AND x2 element-wise.\n",
            "numpy.logical_not\n",
            "    Compute the truth value of NOT x element-wise.\n",
            "numpy.logical_xor\n",
            "    Compute the truth value of x1 XOR x2, element-wise.\n",
            "numpy.right_shift\n",
            "    Shift the bits of an integer to the right.\n",
            "numpy.ma.abs\n",
            "    Calculate the absolute value element-wise.\n",
            "numpy.ma.add\n",
            "    Add arguments element-wise.\n",
            "numpy.ma.cos\n",
            "    Cosine element-wise.\n",
            "numpy.ma.log\n",
            "    Natural logarithm, element-wise.\n",
            "numpy.ma.mod\n",
            "    Return element-wise remainder of division.\n",
            "numpy.ma.sin\n",
            "    Trigonometric sine, element-wise.\n",
            "numpy.ma.tan\n",
            "    Compute tangent element-wise.\n",
            "numpy.floor_divide\n",
            "    Return the largest integer smaller or equal to the division of the inputs.\n",
            "numpy.ma.ceil\n",
            "    Return the ceiling of the input, element-wise.\n",
            "numpy.ma.cosh\n",
            "    Hyperbolic cosine, element-wise.\n",
            "numpy.fft.ifft\n",
            "    Compute the one-dimensional inverse discrete Fourier Transform.\n",
            "numpy.ma.fabs\n",
            "    Compute the absolute values element-wise.\n",
            "numpy.ma.fmod\n",
            "    Return the element-wise remainder of division.\n",
            "numpy.ma.less\n",
            "    Return the truth value of (x1 < x2) element-wise.\n",
            "numpy.ma.log2\n",
            "    Base-2 logarithm of `x`.\n",
            "numpy.ma.sinh\n",
            "    Hyperbolic sine, element-wise.\n",
            "numpy.ma.tanh\n",
            "    Compute hyperbolic tangent element-wise.\n",
            "numpy.greater_equal\n",
            "    Return the truth value of (x1 >= x2) element-wise.\n",
            "numpy.fft.ifftn\n",
            "    Compute the N-dimensional inverse discrete Fourier Transform.\n",
            "numpy.ma.equal\n",
            "    Return (x1 == x2) element-wise.\n",
            "numpy.ma.floor\n",
            "    Return the floor of the input, element-wise.\n",
            "numpy.ma.hypot\n",
            "    Given the \"legs\" of a right triangle, return its hypotenuse.\n",
            "numpy.busdaycalendar\n",
            "    A business day calendar object that efficiently stores information\n",
            "numpy.ma.arccos\n",
            "    Trigonometric inverse cosine, element-wise.\n",
            "numpy.ma.arcsin\n",
            "    Inverse sine, element-wise.\n",
            "numpy.ma.arctan\n",
            "    Trigonometric inverse tangent, element-wise.\n",
            "numpy.ma.divide\n",
            "    Returns a true division of the inputs, element-wise.\n",
            "numpy.lib.recfunctions.unstructured_to_structured\n",
            "    Converts and n-D unstructured array into an (n-1)-D structured array.\n",
            "numpy.ma.arccosh\n",
            "    Inverse hyperbolic cosine, element-wise.\n",
            "numpy.ma.arcsinh\n",
            "    Inverse hyperbolic sine element-wise.\n",
            "numpy.ma.arctan2\n",
            "    Element-wise arc tangent of ``x1/x2`` choosing the quadrant correctly.\n",
            "numpy.ma.arctanh\n",
            "    Inverse hyperbolic tangent element-wise.\n",
            "numpy.ma.greater\n",
            "    Return the truth value of (x1 > x2) element-wise.\n",
            "numpy.ma.multiply\n",
            "    Multiply arguments element-wise.\n",
            "numpy.ma.negative\n",
            "    Numerical negative, element-wise.\n",
            "numpy.ma.subtract\n",
            "    Subtract arguments, element-wise.\n",
            "numpy.ma.tests.test_subclassing.SubArray\n",
            "    ndarray(shape, dtype=float, buffer=None, offset=0,\n",
            "numpy.ma.conjugate\n",
            "    Return the complex conjugate, element-wise.\n",
            "numpy.ma.not_equal\n",
            "    Return (x1 != x2) element-wise.\n",
            "numpy.ma.remainder\n",
            "    Return element-wise remainder of division.\n",
            "numpy.ma.empty_like\n",
            "    empty_like(prototype, dtype=None, order='K', subok=True, shape=None)\n",
            "numpy.ma.less_equal\n",
            "    Return the truth value of (x1 =< x2) element-wise.\n",
            "numpy.ma.logical_or\n",
            "    Compute the truth value of x1 OR x2 element-wise.\n",
            "numpy.ma.logical_and\n",
            "    Compute the truth value of x1 AND x2 element-wise.\n",
            "numpy.ma.logical_not\n",
            "    Compute the truth value of NOT x element-wise.\n",
            "numpy.ma.logical_xor\n",
            "    Compute the truth value of x1 XOR x2, element-wise.\n",
            "numpy.ma.true_divide\n",
            "    Returns a true division of the inputs, element-wise.\n",
            "numpy.ma.floor_divide\n",
            "    Return the largest integer smaller or equal to the division of the inputs.\n",
            "numpy.ma.greater_equal\n",
            "    Return the truth value of (x1 >= x2) element-wise.\n",
            "numpy.core.tests.test_function_base.PhysicalQuantity2\n",
            "    ndarray(shape, dtype=float, buffer=None, offset=0,\n",
            "numpy.lib.tests.test_stride_tricks.SimpleSubClass\n",
            "    ndarray(shape, dtype=float, buffer=None, offset=0,\n",
            "numpy.ma.tests.test_subclassing.ComplicatedSubArray\n",
            "    ndarray(shape, dtype=float, buffer=None, offset=0,\n",
            "numpy.lib.tests.test_stride_tricks.VerySimpleSubClass\n",
            "    ndarray(shape, dtype=float, buffer=None, offset=0,\n",
            "numpy.core.tests.test_multiarray.TestArrayPriority.Foo\n",
            "    ndarray(shape, dtype=float, buffer=None, offset=0,\n",
            "numpy.core.tests.test_multiarray.TestArrayPriority.Bar\n",
            "    ndarray(shape, dtype=float, buffer=None, offset=0,\n",
            "numpy.testing._gen_alignment_data\n",
            "    generator producing data with different alignment and offsets\n",
            "numpy.random.RandomState.rand\n",
            "    Random values in a given shape."
          ],
          "name": "stdout"
        }
      ]
    },
    {
      "cell_type": "code",
      "metadata": {
        "id": "TCetzm65NoSe"
      },
      "source": [
        "np.con*?"
      ],
      "execution_count": null,
      "outputs": []
    },
    {
      "cell_type": "markdown",
      "metadata": {
        "id": "u3jx7w4X_S4a"
      },
      "source": [
        "\n",
        "\n",
        "## 1.2 Criação de *arrays*\n",
        "\n",
        "Um array NumPy é um coleção multidimensional e uniforme de elementos, isto é, todos os elementos ocupam o mesmo número de bytes em\n",
        "memória.\n",
        "\n",
        "Arrays podem ser facilmente criados com a função *array*, que recebe como\n",
        "argumento uma lista contendo os dados que deverão ser armazenados.\n",
        "O número de dimensões de um array pode ser obtido pelo atributo ```ndim```\n",
        "enquanto que as dimensões em si ficam armazenadas no atributo ```shape```:"
      ]
    },
    {
      "cell_type": "code",
      "metadata": {
        "colab": {
          "base_uri": "https://localhost:8080/"
        },
        "id": "rDiM3R56_S4b",
        "outputId": "66e4202c-e6b8-4779-adf2-b1dc7db74e8f"
      },
      "source": [
        "a.ndim"
      ],
      "execution_count": null,
      "outputs": [
        {
          "output_type": "execute_result",
          "data": {
            "text/plain": [
              "1"
            ]
          },
          "metadata": {
            "tags": []
          },
          "execution_count": 5
        }
      ]
    },
    {
      "cell_type": "code",
      "metadata": {
        "colab": {
          "base_uri": "https://localhost:8080/"
        },
        "id": "AsuJqXENNoSh",
        "outputId": "4781d7f2-3d15-4fa2-908e-c9914383b96e"
      },
      "source": [
        "a.shape"
      ],
      "execution_count": null,
      "outputs": [
        {
          "output_type": "execute_result",
          "data": {
            "text/plain": [
              "(4,)"
            ]
          },
          "metadata": {
            "tags": []
          },
          "execution_count": 6
        }
      ]
    },
    {
      "cell_type": "code",
      "metadata": {
        "colab": {
          "base_uri": "https://localhost:8080/"
        },
        "id": "QTDIa5-HNoSh",
        "outputId": "e6bebf5e-be1b-4491-ecb5-1b5eca5be161"
      },
      "source": [
        "len(a)"
      ],
      "execution_count": null,
      "outputs": [
        {
          "output_type": "execute_result",
          "data": {
            "text/plain": [
              "4"
            ]
          },
          "metadata": {
            "tags": []
          },
          "execution_count": 7
        }
      ]
    },
    {
      "cell_type": "markdown",
      "metadata": {
        "id": "WQ9jhO_INoSi"
      },
      "source": [
        "A lista com os dados pode conter uma estrutura que permita ao método\n",
        "array inferir as dimensões pretendidas. Por exemplo, uma matriz 2D pode\n",
        "ser inicializada a partir de uma **lista de listas**:"
      ]
    },
    {
      "cell_type": "code",
      "metadata": {
        "colab": {
          "base_uri": "https://localhost:8080/"
        },
        "id": "Wq_83M1vNoSi",
        "outputId": "35815fe3-a69e-4ff7-e52d-3653be1883bc"
      },
      "source": [
        "b = np.array([[0, 1, 2], [3, 4, 5]]) # 2 x 3 array\n",
        "b"
      ],
      "execution_count": null,
      "outputs": [
        {
          "output_type": "execute_result",
          "data": {
            "text/plain": [
              "array([[0, 1, 2],\n",
              "       [3, 4, 5]])"
            ]
          },
          "metadata": {
            "tags": []
          },
          "execution_count": 8
        }
      ]
    },
    {
      "cell_type": "code",
      "metadata": {
        "colab": {
          "base_uri": "https://localhost:8080/"
        },
        "id": "HWAjlKpXNoSj",
        "outputId": "527a09f2-700a-4823-85d2-21edbb20e472"
      },
      "source": [
        "b.ndim"
      ],
      "execution_count": null,
      "outputs": [
        {
          "output_type": "execute_result",
          "data": {
            "text/plain": [
              "2"
            ]
          },
          "metadata": {
            "tags": []
          },
          "execution_count": 9
        }
      ]
    },
    {
      "cell_type": "code",
      "metadata": {
        "colab": {
          "base_uri": "https://localhost:8080/"
        },
        "id": "QifEYQ1iNoSj",
        "outputId": "a9eaf4a1-3f44-4530-fbcd-630404d8ce0e"
      },
      "source": [
        "b.shape"
      ],
      "execution_count": null,
      "outputs": [
        {
          "output_type": "execute_result",
          "data": {
            "text/plain": [
              "(2, 3)"
            ]
          },
          "metadata": {
            "tags": []
          },
          "execution_count": 10
        }
      ]
    },
    {
      "cell_type": "code",
      "metadata": {
        "id": "ZpFH5CS0NoSk"
      },
      "source": [
        "c = np.array([[[1], [2]], [[3], [4]]])"
      ],
      "execution_count": null,
      "outputs": []
    },
    {
      "cell_type": "code",
      "metadata": {
        "colab": {
          "base_uri": "https://localhost:8080/"
        },
        "id": "bdCTbge9NoSk",
        "outputId": "e30e7c6a-b2c1-408d-bf1d-0e41ad85d326"
      },
      "source": [
        "c.shape"
      ],
      "execution_count": null,
      "outputs": [
        {
          "output_type": "execute_result",
          "data": {
            "text/plain": [
              "(2, 2, 1)"
            ]
          },
          "metadata": {
            "tags": []
          },
          "execution_count": 12
        }
      ]
    },
    {
      "cell_type": "markdown",
      "metadata": {
        "id": "_Sb4Wvv0NoSk"
      },
      "source": [
        "## 1.2.1 Utilitários para criação de *arrays*\n",
        "\n",
        "Para criar um *array* contendo uma sequência com ```n``` elementos de ```0``` a ```n-1```,\n",
        "podemos utilizar a função ```arange```: \n",
        "\n",
        "```python\n",
        "np.arange(numero_elementos)\n",
        "```\n",
        "\n",
        "Também podemos defirnir os elementos inicial e final e um passo entre os elementos sucessivos:\n",
        "\n",
        "```python\n",
        "np.arange(inicio, fim(exclusive), passo)\n",
        "```"
      ]
    },
    {
      "cell_type": "code",
      "metadata": {
        "colab": {
          "base_uri": "https://localhost:8080/"
        },
        "id": "AM9-3szkNoSl",
        "outputId": "14d6ee6c-5b4a-4604-d266-138b4acd2f2e"
      },
      "source": [
        "a = np.arange(10) # elementos [0, 1, ..., n-1] último exclusive\n",
        "a"
      ],
      "execution_count": null,
      "outputs": [
        {
          "output_type": "execute_result",
          "data": {
            "text/plain": [
              "array([0, 1, 2, 3, 4, 5, 6, 7, 8, 9])"
            ]
          },
          "metadata": {
            "tags": []
          },
          "execution_count": 13
        }
      ]
    },
    {
      "cell_type": "code",
      "metadata": {
        "colab": {
          "base_uri": "https://localhost:8080/"
        },
        "id": "XSgwAy8aNoSl",
        "outputId": "2d1505b5-9526-49f8-d964-11effc3dd6e7"
      },
      "source": [
        "b = np.arange(1, 9, 2) # inicio, fim (exclusive), passo\n",
        "b"
      ],
      "execution_count": null,
      "outputs": [
        {
          "output_type": "execute_result",
          "data": {
            "text/plain": [
              "array([1, 3, 5, 7])"
            ]
          },
          "metadata": {
            "tags": []
          },
          "execution_count": 14
        }
      ]
    },
    {
      "cell_type": "markdown",
      "metadata": {
        "id": "FVb-FEscNoSl"
      },
      "source": [
        "Para uma sequência de\n",
        "números reais, igualmente espaçada dentro de um intervalo, pode-se utilizar o ```linspace```:\n",
        "\n",
        "> Sintaxe\n",
        "```python\n",
        "linspace(inicio, fim numero-de-pontos)\n",
        "```"
      ]
    },
    {
      "cell_type": "markdown",
      "metadata": {
        "id": "OxrgBQwnNoSm"
      },
      "source": [
        "Para criarmos um *array* com ```n``` números reais igualmente espaçados no intervalo ```[0,1]```, utiliza-se ```zeros```, ```ones```, ```identity```.\n",
        "Para produzir matrizes de dimensões variadas\n",
        "com um valor fixo, podemos utilizar as funções ```zeros``` e ```ones```, informando\n",
        "as dimensões desejadas na forma de uma tupla como argumento:\n"
      ]
    },
    {
      "cell_type": "code",
      "metadata": {
        "colab": {
          "base_uri": "https://localhost:8080/"
        },
        "id": "fKZ9aQvcNoSm",
        "outputId": "3bf1023b-3b6e-4664-bda7-3003a748e9bb"
      },
      "source": [
        "a = np.ones((3, 3)) # lembrando que (3, 3) é uma tupla\n",
        "a"
      ],
      "execution_count": null,
      "outputs": [
        {
          "output_type": "execute_result",
          "data": {
            "text/plain": [
              "array([[1., 1., 1.],\n",
              "       [1., 1., 1.],\n",
              "       [1., 1., 1.]])"
            ]
          },
          "metadata": {
            "tags": []
          },
          "execution_count": 15
        }
      ]
    },
    {
      "cell_type": "code",
      "metadata": {
        "colab": {
          "base_uri": "https://localhost:8080/"
        },
        "id": "7iimWvtVNoSm",
        "outputId": "267fbec4-d099-4180-d50a-a74a80315680"
      },
      "source": [
        "b = np.zeros((2, 2))\n",
        "b"
      ],
      "execution_count": null,
      "outputs": [
        {
          "output_type": "execute_result",
          "data": {
            "text/plain": [
              "array([[0., 0.],\n",
              "       [0., 0.]])"
            ]
          },
          "metadata": {
            "tags": []
          },
          "execution_count": 16
        }
      ]
    },
    {
      "cell_type": "markdown",
      "metadata": {
        "id": "IX02bR_BNoSm"
      },
      "source": [
        "Matrizes identidade são particularmente importantes em computação envolvendo álgebra linear. A função ```identity``` produz uma matriz quadrada\n",
        "do tamanho desejado, com todos os elementos em sua diagonal principal\n",
        "apresentando o valor 1, zero para todos os demais:"
      ]
    },
    {
      "cell_type": "code",
      "metadata": {
        "colab": {
          "base_uri": "https://localhost:8080/"
        },
        "id": "_CVBGe6_NoSn",
        "outputId": "7b371a8e-7798-45d9-b6ed-319a305e54a1"
      },
      "source": [
        "I = np.identity(3)\n",
        "I"
      ],
      "execution_count": null,
      "outputs": [
        {
          "output_type": "execute_result",
          "data": {
            "text/plain": [
              "array([[1., 0., 0.],\n",
              "       [0., 1., 0.],\n",
              "       [0., 0., 1.]])"
            ]
          },
          "metadata": {
            "tags": []
          },
          "execution_count": 17
        }
      ]
    },
    {
      "cell_type": "code",
      "metadata": {
        "colab": {
          "base_uri": "https://localhost:8080/"
        },
        "id": "eB7-MzL2NoSn",
        "outputId": "7503f70f-183b-4b12-fba1-6fb163c49bcb"
      },
      "source": [
        "c = np.eye(3)\n",
        "c"
      ],
      "execution_count": null,
      "outputs": [
        {
          "output_type": "execute_result",
          "data": {
            "text/plain": [
              "array([[1., 0., 0.],\n",
              "       [0., 1., 0.],\n",
              "       [0., 0., 1.]])"
            ]
          },
          "metadata": {
            "tags": []
          },
          "execution_count": 18
        }
      ]
    },
    {
      "cell_type": "code",
      "metadata": {
        "colab": {
          "base_uri": "https://localhost:8080/"
        },
        "id": "-J21Il_uNoSn",
        "outputId": "3e3b0a16-a0d8-4c12-a9e1-9abe024ccd05"
      },
      "source": [
        "d = np.diag(np.array([1, 2, 3, 4]))\n",
        "d"
      ],
      "execution_count": null,
      "outputs": [
        {
          "output_type": "execute_result",
          "data": {
            "text/plain": [
              "array([[1, 0, 0, 0],\n",
              "       [0, 2, 0, 0],\n",
              "       [0, 0, 3, 0],\n",
              "       [0, 0, 0, 4]])"
            ]
          },
          "metadata": {
            "tags": []
          },
          "execution_count": 19
        }
      ]
    },
    {
      "cell_type": "markdown",
      "metadata": {
        "id": "BvedceuuNoSo"
      },
      "source": [
        "*Arrays* aleatórios podem ser produzidos utilizando-se o submódulo ```random``` do NumPy.\n",
        "\n",
        "Valores obtidos de uma distribuição uniforme no intervalo ```[0,1]``` são\n",
        "produzidos com ```rand```:"
      ]
    },
    {
      "cell_type": "code",
      "metadata": {
        "colab": {
          "base_uri": "https://localhost:8080/"
        },
        "id": "eE8YePRONoSo",
        "outputId": "21aef933-8c7f-4a31-d9ef-3c4971d18db3"
      },
      "source": [
        "a = np.random.rand(4) # uniform in [0, 1]\n",
        "a"
      ],
      "execution_count": null,
      "outputs": [
        {
          "output_type": "execute_result",
          "data": {
            "text/plain": [
              "array([0.50755507, 0.0211933 , 0.43352176, 0.44631306])"
            ]
          },
          "metadata": {
            "tags": []
          },
          "execution_count": 20
        }
      ]
    },
    {
      "cell_type": "markdown",
      "metadata": {
        "id": "OcK_omUrNoSo"
      },
      "source": [
        "Outra opção é utilizar uma distribuição Gaussiana através da função\n",
        "```randn```:"
      ]
    },
    {
      "cell_type": "code",
      "metadata": {
        "colab": {
          "base_uri": "https://localhost:8080/"
        },
        "id": "15BEc0yUNoSo",
        "outputId": "abe82726-fab1-4b8d-c954-76358c84c0ea"
      },
      "source": [
        "A = np.random.randn(4)\n",
        "A"
      ],
      "execution_count": null,
      "outputs": [
        {
          "output_type": "execute_result",
          "data": {
            "text/plain": [
              "array([ 0.65034618, -0.51433646,  0.53942869,  1.52676162])"
            ]
          },
          "metadata": {
            "tags": []
          },
          "execution_count": 21
        }
      ]
    },
    {
      "cell_type": "markdown",
      "metadata": {
        "id": "iRDaxwMeNoSp"
      },
      "source": [
        "## 1.3 Tipos de dados\n",
        "\n",
        "Diferente de listas, que podem armazenar elementos de tipos diferentes,\n",
        "*arrays* devem conter elementos de mesmo tipo, como especificado em\n",
        "```dtype```. "
      ]
    },
    {
      "cell_type": "code",
      "metadata": {
        "colab": {
          "base_uri": "https://localhost:8080/"
        },
        "id": "gyeLOiYiNoSp",
        "outputId": "8a48768e-d93f-4eb9-e751-7849f1721e72"
      },
      "source": [
        "v = np.array([1,2,3])\n",
        "v.dtype"
      ],
      "execution_count": null,
      "outputs": [
        {
          "output_type": "execute_result",
          "data": {
            "text/plain": [
              "dtype('int64')"
            ]
          },
          "metadata": {
            "tags": []
          },
          "execution_count": 22
        }
      ]
    },
    {
      "cell_type": "markdown",
      "metadata": {
        "id": "aIB3_oSaNoSp"
      },
      "source": [
        "Acima, vemos que o tipo padrão para inteiros adotado pelo sistema em\n",
        "uso no exemplo utiliza 64 bits. Similarmente, vemos que o tipo padrão para\n",
        "ponto flutuante também se baseia em 64 bits:"
      ]
    },
    {
      "cell_type": "code",
      "metadata": {
        "colab": {
          "base_uri": "https://localhost:8080/"
        },
        "id": "e3MY5qlONoSp",
        "outputId": "1ca0554b-2182-4106-f9a1-8746b00fdfbf"
      },
      "source": [
        "v = np.array([1., 2., 3.])\n",
        "v.dtype"
      ],
      "execution_count": null,
      "outputs": [
        {
          "output_type": "execute_result",
          "data": {
            "text/plain": [
              "dtype('float64')"
            ]
          },
          "metadata": {
            "tags": []
          },
          "execution_count": 23
        }
      ]
    },
    {
      "cell_type": "markdown",
      "metadata": {
        "id": "U-AJETBzNoSp"
      },
      "source": [
        "Alternativamente, podemos especificar exatamente o tipo desejado, dentre\n",
        "os disponíveis na NumPy. O exemplo abaixo cria um array com elementos\n",
        "em ponto flutuante, apesar do argumento de entrada consistir\n",
        "em uma lista de inteiros: "
      ]
    },
    {
      "cell_type": "code",
      "metadata": {
        "colab": {
          "base_uri": "https://localhost:8080/"
        },
        "id": "tT0dy0X5NoSq",
        "outputId": "eeac907c-42e1-4d79-be93-cb5215958427"
      },
      "source": [
        "v = np.array([1,2,3], dtype=float)\n",
        "v"
      ],
      "execution_count": null,
      "outputs": [
        {
          "output_type": "execute_result",
          "data": {
            "text/plain": [
              "array([1., 2., 3.])"
            ]
          },
          "metadata": {
            "tags": []
          },
          "execution_count": 24
        }
      ]
    },
    {
      "cell_type": "code",
      "metadata": {
        "colab": {
          "base_uri": "https://localhost:8080/"
        },
        "id": "KkV2Wj6pNoSq",
        "outputId": "1fefebae-ae7c-445f-e22b-04aa6d174cb0"
      },
      "source": [
        "v.dtype"
      ],
      "execution_count": null,
      "outputs": [
        {
          "output_type": "execute_result",
          "data": {
            "text/plain": [
              "dtype('float64')"
            ]
          },
          "metadata": {
            "tags": []
          },
          "execution_count": 25
        }
      ]
    },
    {
      "cell_type": "markdown",
      "metadata": {
        "id": "Y0FCsQNqNoSq"
      },
      "source": [
        "Outros tipos:"
      ]
    },
    {
      "cell_type": "code",
      "metadata": {
        "colab": {
          "base_uri": "https://localhost:8080/"
        },
        "id": "cPLnJCkYNoSq",
        "outputId": "35fe957d-1220-4e92-97a0-58582e9116ff"
      },
      "source": [
        "d = np.array([1+2j, 3+4j, 5+6*1j])\n",
        "d.dtype"
      ],
      "execution_count": null,
      "outputs": [
        {
          "output_type": "execute_result",
          "data": {
            "text/plain": [
              "dtype('complex128')"
            ]
          },
          "metadata": {
            "tags": []
          },
          "execution_count": 26
        }
      ]
    },
    {
      "cell_type": "code",
      "metadata": {
        "colab": {
          "base_uri": "https://localhost:8080/"
        },
        "id": "tvV0jRM6NoSr",
        "outputId": "6f6d5d37-fdec-40f9-9628-704d8ad14b30"
      },
      "source": [
        "e = np.array([True, False, False, True])\n",
        "e.dtype"
      ],
      "execution_count": null,
      "outputs": [
        {
          "output_type": "execute_result",
          "data": {
            "text/plain": [
              "dtype('bool')"
            ]
          },
          "metadata": {
            "tags": []
          },
          "execution_count": 27
        }
      ]
    },
    {
      "cell_type": "code",
      "metadata": {
        "colab": {
          "base_uri": "https://localhost:8080/"
        },
        "id": "LbYiNAAsNoSr",
        "outputId": "bafa0e26-ac54-4bf3-cb84-81b075199a3e"
      },
      "source": [
        "f = np.array(['Oi', 'Ola', 'Hi'])\n",
        "f.dtype     # <--- strings contendo no máximo 7 letras "
      ],
      "execution_count": null,
      "outputs": [
        {
          "output_type": "execute_result",
          "data": {
            "text/plain": [
              "dtype('<U3')"
            ]
          },
          "metadata": {
            "tags": []
          },
          "execution_count": 28
        }
      ]
    },
    {
      "cell_type": "markdown",
      "metadata": {
        "id": "a1Pc8j8nNoSr"
      },
      "source": [
        "## 1.4 Indexação e Fatiamento\n",
        "\n",
        "Os elementos de um array podem ser acessados e atribuídos da mesma forma que as outras sequências em Python:"
      ]
    },
    {
      "cell_type": "code",
      "metadata": {
        "colab": {
          "base_uri": "https://localhost:8080/"
        },
        "id": "zDSYzhPFNoSr",
        "outputId": "f06c4536-3af2-45c3-93b5-901c6d8e9913"
      },
      "source": [
        "a = np.arange(10)\n",
        "a"
      ],
      "execution_count": null,
      "outputs": [
        {
          "output_type": "execute_result",
          "data": {
            "text/plain": [
              "array([0, 1, 2, 3, 4, 5, 6, 7, 8, 9])"
            ]
          },
          "metadata": {
            "tags": []
          },
          "execution_count": 29
        }
      ]
    },
    {
      "cell_type": "code",
      "metadata": {
        "colab": {
          "base_uri": "https://localhost:8080/"
        },
        "id": "GUupvF9cNoSr",
        "outputId": "47ea1846-f45c-4c62-c537-cb4f8dd5b8c4"
      },
      "source": [
        "a[0], a[2], a[-1]"
      ],
      "execution_count": null,
      "outputs": [
        {
          "output_type": "execute_result",
          "data": {
            "text/plain": [
              "(0, 2, 9)"
            ]
          },
          "metadata": {
            "tags": []
          },
          "execution_count": 30
        }
      ]
    },
    {
      "cell_type": "markdown",
      "metadata": {
        "id": "yDh84csDNoSr"
      },
      "source": [
        "Também podemos inverter um array da mesma forma que uma lista:"
      ]
    },
    {
      "cell_type": "code",
      "metadata": {
        "colab": {
          "base_uri": "https://localhost:8080/"
        },
        "id": "oAN_nW9fNoSs",
        "outputId": "bf165503-1c00-425a-9fc4-161cc7b19ff7"
      },
      "source": [
        "a[::-1]"
      ],
      "execution_count": null,
      "outputs": [
        {
          "output_type": "execute_result",
          "data": {
            "text/plain": [
              "array([9, 8, 7, 6, 5, 4, 3, 2, 1, 0])"
            ]
          },
          "metadata": {
            "tags": []
          },
          "execution_count": 31
        }
      ]
    },
    {
      "cell_type": "markdown",
      "metadata": {
        "id": "y14OtO-2NoSs"
      },
      "source": [
        "Para arrays multidimensionais, os índices são tuplas de inteiros:"
      ]
    },
    {
      "cell_type": "code",
      "metadata": {
        "colab": {
          "base_uri": "https://localhost:8080/"
        },
        "id": "IYe_o2qQNoSs",
        "outputId": "138faf6a-3bd6-442a-98f2-e43b45925207"
      },
      "source": [
        "a = np.diag(np.arange(3))\n",
        "a"
      ],
      "execution_count": null,
      "outputs": [
        {
          "output_type": "execute_result",
          "data": {
            "text/plain": [
              "array([[0, 0, 0],\n",
              "       [0, 1, 0],\n",
              "       [0, 0, 2]])"
            ]
          },
          "metadata": {
            "tags": []
          },
          "execution_count": 32
        }
      ]
    },
    {
      "cell_type": "code",
      "metadata": {
        "colab": {
          "base_uri": "https://localhost:8080/"
        },
        "id": "WQTf0RXfNoSs",
        "outputId": "5d134337-8eb6-4fd2-8599-ecae2a965ade"
      },
      "source": [
        "a[1, 1]"
      ],
      "execution_count": null,
      "outputs": [
        {
          "output_type": "execute_result",
          "data": {
            "text/plain": [
              "1"
            ]
          },
          "metadata": {
            "tags": []
          },
          "execution_count": 33
        }
      ]
    },
    {
      "cell_type": "code",
      "metadata": {
        "colab": {
          "base_uri": "https://localhost:8080/"
        },
        "id": "wbRFZ4VvNoSs",
        "outputId": "7accb706-f431-4841-b9fd-c3c1229cdfc7"
      },
      "source": [
        "a[2, 1] = 10 # terceira linha, segunda coluna\n",
        "a"
      ],
      "execution_count": null,
      "outputs": [
        {
          "output_type": "execute_result",
          "data": {
            "text/plain": [
              "array([[ 0,  0,  0],\n",
              "       [ 0,  1,  0],\n",
              "       [ 0, 10,  2]])"
            ]
          },
          "metadata": {
            "tags": []
          },
          "execution_count": 34
        }
      ]
    },
    {
      "cell_type": "code",
      "metadata": {
        "colab": {
          "base_uri": "https://localhost:8080/"
        },
        "id": "ErlgcH3cNoSs",
        "outputId": "5560b62b-1fed-4a23-9212-461a893a854f"
      },
      "source": [
        "a[1]"
      ],
      "execution_count": null,
      "outputs": [
        {
          "output_type": "execute_result",
          "data": {
            "text/plain": [
              "array([0, 1, 0])"
            ]
          },
          "metadata": {
            "tags": []
          },
          "execution_count": 35
        }
      ]
    },
    {
      "cell_type": "markdown",
      "metadata": {
        "id": "FXhDoLIxNoSt"
      },
      "source": [
        "* Em um array 2D, a primeira dimensão corresponde as **linhas** e a segunda, **colunas**\n",
        "* Para um array multidimensional ```a```, ```a[0]``` é interpretado pegando-se todos os elementos de uma dimensão não especificada.\n",
        "\n",
        "Os arrays também podem ser fatiados:"
      ]
    },
    {
      "cell_type": "code",
      "metadata": {
        "colab": {
          "base_uri": "https://localhost:8080/"
        },
        "id": "nPtjQ3IJNoSt",
        "outputId": "0046135b-cec0-4aaa-aea5-c528d21deb9e"
      },
      "source": [
        "a = np.arange(10)\n",
        "a"
      ],
      "execution_count": null,
      "outputs": [
        {
          "output_type": "execute_result",
          "data": {
            "text/plain": [
              "array([0, 1, 2, 3, 4, 5, 6, 7, 8, 9])"
            ]
          },
          "metadata": {
            "tags": []
          },
          "execution_count": 36
        }
      ]
    },
    {
      "cell_type": "code",
      "metadata": {
        "colab": {
          "base_uri": "https://localhost:8080/"
        },
        "id": "m29VZTk3NoSt",
        "outputId": "cf899dd7-95a6-4214-ff92-16753bf53b67"
      },
      "source": [
        "a[2:9:3]  # [inicio:fim:passo]"
      ],
      "execution_count": null,
      "outputs": [
        {
          "output_type": "execute_result",
          "data": {
            "text/plain": [
              "array([2, 5, 8])"
            ]
          },
          "metadata": {
            "tags": []
          },
          "execution_count": 37
        }
      ]
    },
    {
      "cell_type": "markdown",
      "metadata": {
        "id": "gvHqmFdCNoSt"
      },
      "source": [
        "Note que, assim como em qualquer sequência do Python, o último índica não é incluído:"
      ]
    },
    {
      "cell_type": "code",
      "metadata": {
        "colab": {
          "base_uri": "https://localhost:8080/"
        },
        "id": "H_By8j-QNoSt",
        "outputId": "1aab308e-9a52-45c4-82d5-dccccd8700ad"
      },
      "source": [
        "a[:4]   "
      ],
      "execution_count": null,
      "outputs": [
        {
          "output_type": "execute_result",
          "data": {
            "text/plain": [
              "array([0, 1, 2, 3])"
            ]
          },
          "metadata": {
            "tags": []
          },
          "execution_count": 38
        }
      ]
    },
    {
      "cell_type": "markdown",
      "metadata": {
        "id": "hFuJBlj-NoSu"
      },
      "source": [
        "Nenhum dos três componentes para o corte são necessários: por padrão, o início é 0, o final é o último e o incremento é 1:"
      ]
    },
    {
      "cell_type": "code",
      "metadata": {
        "colab": {
          "base_uri": "https://localhost:8080/"
        },
        "id": "lDmDavhzNoSu",
        "outputId": "8c205fe2-6d0f-49cd-aa44-703433a58004"
      },
      "source": [
        "a[1:3]"
      ],
      "execution_count": null,
      "outputs": [
        {
          "output_type": "execute_result",
          "data": {
            "text/plain": [
              "array([1, 2])"
            ]
          },
          "metadata": {
            "tags": []
          },
          "execution_count": 39
        }
      ]
    },
    {
      "cell_type": "code",
      "metadata": {
        "colab": {
          "base_uri": "https://localhost:8080/"
        },
        "id": "IlEZFMk_NoSu",
        "outputId": "67a6e492-5053-4432-e162-ea6258fb86bb"
      },
      "source": [
        "a[::2]"
      ],
      "execution_count": null,
      "outputs": [
        {
          "output_type": "execute_result",
          "data": {
            "text/plain": [
              "array([0, 2, 4, 6, 8])"
            ]
          },
          "metadata": {
            "tags": []
          },
          "execution_count": 40
        }
      ]
    },
    {
      "cell_type": "code",
      "metadata": {
        "colab": {
          "base_uri": "https://localhost:8080/"
        },
        "id": "75TPW4DcNoSu",
        "outputId": "f0806f60-98c2-46bc-dd03-bf6f4396e3e2"
      },
      "source": [
        "a[3:]"
      ],
      "execution_count": null,
      "outputs": [
        {
          "output_type": "execute_result",
          "data": {
            "text/plain": [
              "array([3, 4, 5, 6, 7, 8, 9])"
            ]
          },
          "metadata": {
            "tags": []
          },
          "execution_count": 41
        }
      ]
    },
    {
      "cell_type": "markdown",
      "metadata": {
        "id": "wx1JEQLONoSv"
      },
      "source": [
        "Veja uma ilustração sobre indexação e fatiamento de arrays no Numpy:\n",
        "\n",
        "<img src=\"figures/indexacao-array.png\" />"
      ]
    },
    {
      "cell_type": "markdown",
      "metadata": {
        "id": "Hio8UThFNoSv"
      },
      "source": [
        "## 1.5 Cópias e Visualizações \n",
        "\n",
        "Uma operação de corte cria uma visualização do array original, a qual é apenas uma forma de se acessar dos dados da array. Assim, a matriz original não é copiada na memória.\n",
        "\n",
        "Quando modifica-se a visualização, a array original também é modificada:"
      ]
    },
    {
      "cell_type": "code",
      "metadata": {
        "colab": {
          "base_uri": "https://localhost:8080/"
        },
        "id": "AFe61s0QNoSv",
        "outputId": "dde5ff2f-a8cd-4ef6-a2ed-bfdf1b730f6b"
      },
      "source": [
        "a = np.arange(10)\n",
        "a"
      ],
      "execution_count": null,
      "outputs": [
        {
          "output_type": "execute_result",
          "data": {
            "text/plain": [
              "array([0, 1, 2, 3, 4, 5, 6, 7, 8, 9])"
            ]
          },
          "metadata": {
            "tags": []
          },
          "execution_count": 42
        }
      ]
    },
    {
      "cell_type": "code",
      "metadata": {
        "colab": {
          "base_uri": "https://localhost:8080/"
        },
        "id": "ljs5qdS1NoSv",
        "outputId": "abb578c6-9d7f-4fc2-c683-ba5bc67091c0"
      },
      "source": [
        "b = a[::2]\n",
        "b"
      ],
      "execution_count": null,
      "outputs": [
        {
          "output_type": "execute_result",
          "data": {
            "text/plain": [
              "array([0, 2, 4, 6, 8])"
            ]
          },
          "metadata": {
            "tags": []
          },
          "execution_count": 43
        }
      ]
    },
    {
      "cell_type": "code",
      "metadata": {
        "colab": {
          "base_uri": "https://localhost:8080/"
        },
        "id": "n7nRKzZwNoSv",
        "outputId": "56290b61-84dd-4f7f-a641-402ff229ba38"
      },
      "source": [
        "b[0] = 12\n",
        "b"
      ],
      "execution_count": null,
      "outputs": [
        {
          "output_type": "execute_result",
          "data": {
            "text/plain": [
              "array([12,  2,  4,  6,  8])"
            ]
          },
          "metadata": {
            "tags": []
          },
          "execution_count": 44
        }
      ]
    },
    {
      "cell_type": "code",
      "metadata": {
        "colab": {
          "base_uri": "https://localhost:8080/"
        },
        "id": "3c1-GPU4NoSw",
        "outputId": "30173771-ebed-408e-e02b-aea9b24c31ea"
      },
      "source": [
        "a"
      ],
      "execution_count": null,
      "outputs": [
        {
          "output_type": "execute_result",
          "data": {
            "text/plain": [
              "array([12,  1,  2,  3,  4,  5,  6,  7,  8,  9])"
            ]
          },
          "metadata": {
            "tags": []
          },
          "execution_count": 45
        }
      ]
    },
    {
      "cell_type": "code",
      "metadata": {
        "colab": {
          "base_uri": "https://localhost:8080/"
        },
        "id": "SNCTqlHuNoSw",
        "outputId": "c9563b94-f43d-4265-a5f3-8b9a7a2929dc"
      },
      "source": [
        "a = np.arange(10)\n",
        "b = a[::2].copy()  # forçar a cópia\n",
        "b[0] = 12\n",
        "a"
      ],
      "execution_count": null,
      "outputs": [
        {
          "output_type": "execute_result",
          "data": {
            "text/plain": [
              "array([0, 1, 2, 3, 4, 5, 6, 7, 8, 9])"
            ]
          },
          "metadata": {
            "tags": []
          },
          "execution_count": 46
        }
      ]
    },
    {
      "cell_type": "markdown",
      "metadata": {
        "id": "iogIWRqYNoSw"
      },
      "source": [
        "Esse comportamento permite economizar memória e tempos."
      ]
    },
    {
      "cell_type": "markdown",
      "metadata": {
        "id": "MLi0EO6BNoSw"
      },
      "source": [
        "## 1.5.1 Indexação sofisticada\n",
        "\n",
        "Arrays NumPy podem ser trabalhadas com cortes, mas também com arrays booleanas ou de inteiros (máscaras). Esse método é conhecido como fancy indexing (indexação sofisticada). Ele cria copias e não visualizações.\n",
        "\n",
        "### Usando máscaras booleanas"
      ]
    },
    {
      "cell_type": "code",
      "metadata": {
        "colab": {
          "base_uri": "https://localhost:8080/"
        },
        "id": "9KXSnAV8NoSw",
        "outputId": "fb475427-0f9b-42ba-fccb-69cc49df803e"
      },
      "source": [
        "np.random.seed(3)\n",
        "a = np.random.randint(0, 21, 15)\n",
        "a"
      ],
      "execution_count": null,
      "outputs": [
        {
          "output_type": "execute_result",
          "data": {
            "text/plain": [
              "array([10,  3,  8,  0, 19, 10, 11,  9, 10,  6,  0, 20, 12,  7, 14])"
            ]
          },
          "metadata": {
            "tags": []
          },
          "execution_count": 47
        }
      ]
    },
    {
      "cell_type": "code",
      "metadata": {
        "colab": {
          "base_uri": "https://localhost:8080/"
        },
        "id": "CHP4qh4WNoSw",
        "outputId": "b134581b-18ca-459b-b4bf-39a6279dc153"
      },
      "source": [
        "(a % 3 == 0)"
      ],
      "execution_count": null,
      "outputs": [
        {
          "output_type": "execute_result",
          "data": {
            "text/plain": [
              "array([False,  True, False,  True, False, False, False,  True, False,\n",
              "        True,  True, False,  True, False, False])"
            ]
          },
          "metadata": {
            "tags": []
          },
          "execution_count": 48
        }
      ]
    },
    {
      "cell_type": "code",
      "metadata": {
        "colab": {
          "base_uri": "https://localhost:8080/"
        },
        "id": "5FGyuVyzNoSx",
        "outputId": "0168c819-7379-491c-9e1f-276d45a8f92b"
      },
      "source": [
        "mask = (a % 3 == 0)\n",
        "\n",
        "extract_from_a = a[mask] # or,  a[a%3==0]\n",
        "extract_from_a  "
      ],
      "execution_count": null,
      "outputs": [
        {
          "output_type": "execute_result",
          "data": {
            "text/plain": [
              "array([ 3,  0,  9,  6,  0, 12])"
            ]
          },
          "metadata": {
            "tags": []
          },
          "execution_count": 49
        }
      ]
    },
    {
      "cell_type": "markdown",
      "metadata": {
        "id": "Hv4YtkZgNoSx"
      },
      "source": [
        "Indexar com uma máscara pode ser muito útil para atribuir um novo valor para uma subarray:"
      ]
    },
    {
      "cell_type": "code",
      "metadata": {
        "colab": {
          "base_uri": "https://localhost:8080/"
        },
        "id": "l47AVoc6NoSx",
        "outputId": "237e6080-9364-4b2b-9066-81bfab0084b1"
      },
      "source": [
        "a[a % 3 == 0] = -1\n",
        "a"
      ],
      "execution_count": null,
      "outputs": [
        {
          "output_type": "execute_result",
          "data": {
            "text/plain": [
              "array([10, -1,  8, -1, 19, 10, 11, -1, 10, -1, -1, 20, -1,  7, 14])"
            ]
          },
          "metadata": {
            "tags": []
          },
          "execution_count": 50
        }
      ]
    },
    {
      "cell_type": "markdown",
      "metadata": {
        "id": "wNmeTEzINoSx"
      },
      "source": [
        "### Usando um array de inteiros"
      ]
    },
    {
      "cell_type": "code",
      "metadata": {
        "colab": {
          "base_uri": "https://localhost:8080/"
        },
        "id": "9_XLZ6QDNoSx",
        "outputId": "176f9e33-3965-4ac8-c36c-106c6e15537d"
      },
      "source": [
        "a = np.arange(10)\n",
        "a"
      ],
      "execution_count": null,
      "outputs": [
        {
          "output_type": "execute_result",
          "data": {
            "text/plain": [
              "array([0, 1, 2, 3, 4, 5, 6, 7, 8, 9])"
            ]
          },
          "metadata": {
            "tags": []
          },
          "execution_count": 51
        }
      ]
    },
    {
      "cell_type": "markdown",
      "metadata": {
        "id": "9b5nvICjNoSy"
      },
      "source": [
        "Podemos indexar com um array de inteiro, onde o mesmo índice é repetido diversas vezes:"
      ]
    },
    {
      "cell_type": "code",
      "metadata": {
        "colab": {
          "base_uri": "https://localhost:8080/"
        },
        "id": "TC4cxsLyNoSy",
        "outputId": "84c2667a-0092-4d80-fa28-8ea632b1fbb0"
      },
      "source": [
        "a[[2, 3, 2, 4, 2]]  # note: [2, 3, 2, 4, 2] é uma lista do Python"
      ],
      "execution_count": null,
      "outputs": [
        {
          "output_type": "execute_result",
          "data": {
            "text/plain": [
              "array([2, 3, 2, 4, 2])"
            ]
          },
          "metadata": {
            "tags": []
          },
          "execution_count": 52
        }
      ]
    },
    {
      "cell_type": "markdown",
      "metadata": {
        "id": "3OZkDkRkNoSy"
      },
      "source": [
        "Novos valores podem ser atribuídos da seguinte maneira:"
      ]
    },
    {
      "cell_type": "code",
      "metadata": {
        "colab": {
          "base_uri": "https://localhost:8080/"
        },
        "id": "0gBKn07UNoSy",
        "outputId": "44cd3c83-d8b0-48e5-b3ff-81cea65a3c0b"
      },
      "source": [
        "a[[9, 7]] = -10\n",
        "a"
      ],
      "execution_count": null,
      "outputs": [
        {
          "output_type": "execute_result",
          "data": {
            "text/plain": [
              "array([  0,   1,   2,   3,   4,   5,   6, -10,   8, -10])"
            ]
          },
          "metadata": {
            "tags": []
          },
          "execution_count": 53
        }
      ]
    },
    {
      "cell_type": "markdown",
      "metadata": {
        "id": "LzP8RLbTNoSy"
      },
      "source": [
        "Quando um novo array é criado por indexação de um array de inteiros, o novo array possui a mesma forma do array de inteiros:"
      ]
    },
    {
      "cell_type": "code",
      "metadata": {
        "colab": {
          "base_uri": "https://localhost:8080/"
        },
        "id": "5Vya3QkVNoSy",
        "outputId": "adb7b73f-13d7-4450-9b6d-ba1573be65c7"
      },
      "source": [
        "a = np.arange(10)\n",
        "idx = np.array([[3,4], [9,7]])\n",
        "idx.shape"
      ],
      "execution_count": null,
      "outputs": [
        {
          "output_type": "execute_result",
          "data": {
            "text/plain": [
              "(2, 2)"
            ]
          },
          "metadata": {
            "tags": []
          },
          "execution_count": 54
        }
      ]
    },
    {
      "cell_type": "code",
      "metadata": {
        "colab": {
          "base_uri": "https://localhost:8080/"
        },
        "id": "zW9XB6O7NoSz",
        "outputId": "a1fdda38-0f66-4677-ee27-5f6bdf44707b"
      },
      "source": [
        "a[idx]"
      ],
      "execution_count": null,
      "outputs": [
        {
          "output_type": "execute_result",
          "data": {
            "text/plain": [
              "array([[3, 4],\n",
              "       [9, 7]])"
            ]
          },
          "metadata": {
            "tags": []
          },
          "execution_count": 55
        }
      ]
    },
    {
      "cell_type": "markdown",
      "metadata": {
        "id": "pFmLTtsmNoSz"
      },
      "source": [
        "A imagem ilustra as diversas aplicações da indexação sofisticada:\n",
        "\n",
        "<img src=\"figures/fancy-indexacao-array.png\" />"
      ]
    },
    {
      "cell_type": "markdown",
      "metadata": {
        "id": "ShSrheaINoSz"
      },
      "source": [
        "## 1.6 Manipulando arrays\n",
        "\n",
        "### Operações entre os elementos:"
      ]
    },
    {
      "cell_type": "code",
      "metadata": {
        "id": "cNygwXlyNoSz",
        "colab": {
          "base_uri": "https://localhost:8080/"
        },
        "outputId": "dc4f40d3-1758-47ed-e3ba-e4d26f2adc3d"
      },
      "source": [
        "import numpy as np\n",
        "a = np.array([[1.0, 2.0], [3.0, 4.0]])\n",
        "b = np.array([[5.0, 6.0], [7.0, 8.0]])\n",
        "sum = a + b # Soma\n",
        "difference = a - b # Subtração\n",
        "product = a * b # Multiplicação\n",
        "quotient = a / b # Divisão\n",
        "print('Sum = \\n', + sum)\n",
        "print('\\n')\n",
        "print('Difference = \\n', + difference)\n",
        "print('\\n')\n",
        "print('Product = \\n', + product)\n",
        "print('\\n')\n",
        "print('Quotient = \\n', + quotient)"
      ],
      "execution_count": null,
      "outputs": [
        {
          "output_type": "stream",
          "text": [
            "Sum = \n",
            " [[ 6.  8.]\n",
            " [10. 12.]]\n",
            "\n",
            "\n",
            "Difference = \n",
            " [[-4. -4.]\n",
            " [-4. -4.]]\n",
            "\n",
            "\n",
            "Product = \n",
            " [[ 5. 12.]\n",
            " [21. 32.]]\n",
            "\n",
            "\n",
            "Quotient = \n",
            " [[0.2        0.33333333]\n",
            " [0.42857143 0.5       ]]\n"
          ],
          "name": "stdout"
        }
      ]
    },
    {
      "cell_type": "markdown",
      "metadata": {
        "id": "N71a3kBpNoS0"
      },
      "source": [
        "### Operações entre arrays, elemento por elemento:"
      ]
    },
    {
      "cell_type": "code",
      "metadata": {
        "colab": {
          "base_uri": "https://localhost:8080/"
        },
        "id": "vU9Y3zAUNoS0",
        "outputId": "321eb23e-9396-48a0-8995-2118ed59e55c"
      },
      "source": [
        "A = np.ones((3,3))\n",
        "B = 2 * np.ones((3,3))\n",
        "print(A)\n",
        "print(B)"
      ],
      "execution_count": null,
      "outputs": [
        {
          "output_type": "stream",
          "text": [
            "[[1. 1. 1.]\n",
            " [1. 1. 1.]\n",
            " [1. 1. 1.]]\n",
            "[[2. 2. 2.]\n",
            " [2. 2. 2.]\n",
            " [2. 2. 2.]]\n"
          ],
          "name": "stdout"
        }
      ]
    },
    {
      "cell_type": "code",
      "metadata": {
        "colab": {
          "base_uri": "https://localhost:8080/"
        },
        "id": "i3IynUJKNoS0",
        "outputId": "78306fc5-19f2-4d97-b809-8c9779d3385d"
      },
      "source": [
        "A + B"
      ],
      "execution_count": null,
      "outputs": [
        {
          "output_type": "execute_result",
          "data": {
            "text/plain": [
              "array([[3., 3., 3.],\n",
              "       [3., 3., 3.],\n",
              "       [3., 3., 3.]])"
            ]
          },
          "metadata": {
            "tags": []
          },
          "execution_count": 60
        }
      ]
    },
    {
      "cell_type": "markdown",
      "metadata": {
        "id": "g17qOMLXNoS0"
      },
      "source": [
        "**Importante** : multiplicação de *arrays* não equivale à multiplicação de matrizes. A multiplicação de matrizes, como definida em álgebra, é obtida com a função ```dot```:"
      ]
    },
    {
      "cell_type": "code",
      "metadata": {
        "colab": {
          "base_uri": "https://localhost:8080/"
        },
        "id": "gQeioCUcNoS0",
        "outputId": "2354223d-6490-4e9c-e658-ef8dc3284bf7"
      },
      "source": [
        "np.dot(A,B)"
      ],
      "execution_count": null,
      "outputs": [
        {
          "output_type": "execute_result",
          "data": {
            "text/plain": [
              "array([[6., 6., 6.],\n",
              "       [6., 6., 6.],\n",
              "       [6., 6., 6.]])"
            ]
          },
          "metadata": {
            "tags": []
          },
          "execution_count": 61
        }
      ]
    },
    {
      "cell_type": "markdown",
      "metadata": {
        "id": "wTlArEwVNoS1"
      },
      "source": [
        "### Transposição:"
      ]
    },
    {
      "cell_type": "code",
      "metadata": {
        "id": "vFoPMPgnNoS1"
      },
      "source": [
        "A =\tnp.arange(12).reshape(3,4)"
      ],
      "execution_count": null,
      "outputs": []
    },
    {
      "cell_type": "code",
      "metadata": {
        "colab": {
          "base_uri": "https://localhost:8080/"
        },
        "id": "KwQJT0kbNoS1",
        "outputId": "ccac1525-0cbd-482d-96ef-44a29a0b9c8c"
      },
      "source": [
        "A.T"
      ],
      "execution_count": null,
      "outputs": [
        {
          "output_type": "execute_result",
          "data": {
            "text/plain": [
              "array([[ 0,  4,  8],\n",
              "       [ 1,  5,  9],\n",
              "       [ 2,  6, 10],\n",
              "       [ 3,  7, 11]])"
            ]
          },
          "metadata": {
            "tags": []
          },
          "execution_count": 63
        }
      ]
    },
    {
      "cell_type": "markdown",
      "metadata": {
        "id": "Gpr2La62NoS1"
      },
      "source": [
        "### Comparações:"
      ]
    },
    {
      "cell_type": "code",
      "metadata": {
        "colab": {
          "base_uri": "https://localhost:8080/"
        },
        "id": "CVOROsLXNoS1",
        "outputId": "825965ae-8167-44e8-beb3-fc10e8271a99"
      },
      "source": [
        "u =\tnp.random.rand(5)\n",
        "u"
      ],
      "execution_count": null,
      "outputs": [
        {
          "output_type": "execute_result",
          "data": {
            "text/plain": [
              "array([0.64914405, 0.27848728, 0.6762549 , 0.59086282, 0.02398188])"
            ]
          },
          "metadata": {
            "tags": []
          },
          "execution_count": 64
        }
      ]
    },
    {
      "cell_type": "code",
      "metadata": {
        "colab": {
          "base_uri": "https://localhost:8080/"
        },
        "id": "TjWGHpU_NoS1",
        "outputId": "d970c87e-a7fd-420d-a374-b08ef6e38b21"
      },
      "source": [
        "v = np.random.rand(5)\n",
        "v"
      ],
      "execution_count": null,
      "outputs": [
        {
          "output_type": "execute_result",
          "data": {
            "text/plain": [
              "array([0.55885409, 0.25925245, 0.4151012 , 0.28352508, 0.69313792])"
            ]
          },
          "metadata": {
            "tags": []
          },
          "execution_count": 65
        }
      ]
    },
    {
      "cell_type": "code",
      "metadata": {
        "colab": {
          "base_uri": "https://localhost:8080/"
        },
        "id": "2PjdaDWdNoS2",
        "outputId": "f480f54e-f448-4729-b74f-8e3b24807384"
      },
      "source": [
        "u > v"
      ],
      "execution_count": null,
      "outputs": [
        {
          "output_type": "execute_result",
          "data": {
            "text/plain": [
              "array([ True,  True,  True,  True, False])"
            ]
          },
          "metadata": {
            "tags": []
          },
          "execution_count": 66
        }
      ]
    },
    {
      "cell_type": "code",
      "metadata": {
        "colab": {
          "base_uri": "https://localhost:8080/"
        },
        "id": "pRCN5RqrNoS2",
        "outputId": "5c977f7d-cf82-4a51-d36d-8be7f3fd9126"
      },
      "source": [
        "a = np.arange(5)\n",
        "np.sin(a)"
      ],
      "execution_count": null,
      "outputs": [
        {
          "output_type": "execute_result",
          "data": {
            "text/plain": [
              "array([ 0.        ,  0.84147098,  0.90929743,  0.14112001, -0.7568025 ])"
            ]
          },
          "metadata": {
            "tags": []
          },
          "execution_count": 67
        }
      ]
    },
    {
      "cell_type": "markdown",
      "metadata": {
        "id": "8XWVQWOWMHQ4"
      },
      "source": [
        "### 1.3.2 Reduções básicas\n",
        "\n",
        "### Soma"
      ]
    },
    {
      "cell_type": "code",
      "metadata": {
        "colab": {
          "base_uri": "https://localhost:8080/"
        },
        "id": "7k7Qi0J1NoS2",
        "outputId": "64990302-7b73-4a66-807b-c4519ee13efb"
      },
      "source": [
        "x = np.array([1, 2, 3, 4])\n",
        "x.sum()"
      ],
      "execution_count": null,
      "outputs": [
        {
          "output_type": "execute_result",
          "data": {
            "text/plain": [
              "10"
            ]
          },
          "metadata": {
            "tags": []
          },
          "execution_count": 69
        }
      ]
    },
    {
      "cell_type": "markdown",
      "metadata": {
        "id": "Vbbrxa_9NoS2"
      },
      "source": [
        "Somando ao longo de linhas e colunas:\n",
        "\n",
        "<img src=\"figures/soma-array.png\" />"
      ]
    },
    {
      "cell_type": "code",
      "metadata": {
        "colab": {
          "base_uri": "https://localhost:8080/"
        },
        "id": "Z_lv_HOINoS3",
        "outputId": "05453c84-83f5-4e67-9074-8fe5ea3e1435"
      },
      "source": [
        "x = np.array([[1, 1], [2, 2]])\n",
        "x"
      ],
      "execution_count": null,
      "outputs": [
        {
          "output_type": "execute_result",
          "data": {
            "text/plain": [
              "array([[1, 1],\n",
              "       [2, 2]])"
            ]
          },
          "metadata": {
            "tags": []
          },
          "execution_count": 70
        }
      ]
    },
    {
      "cell_type": "code",
      "metadata": {
        "colab": {
          "base_uri": "https://localhost:8080/"
        },
        "id": "nHWJywYmNoS3",
        "outputId": "ecd6ae65-8725-4194-ac21-f01acbb96890"
      },
      "source": [
        "x.sum(axis=0)     # colunas"
      ],
      "execution_count": null,
      "outputs": [
        {
          "output_type": "execute_result",
          "data": {
            "text/plain": [
              "array([3, 3])"
            ]
          },
          "metadata": {
            "tags": []
          },
          "execution_count": 71
        }
      ]
    },
    {
      "cell_type": "code",
      "metadata": {
        "colab": {
          "base_uri": "https://localhost:8080/"
        },
        "id": "IRVLtGr-NoS3",
        "outputId": "8ea3b474-8a97-4503-fea0-417202e6ec64"
      },
      "source": [
        "x[:, 0].sum(), x[:, 1].sum()"
      ],
      "execution_count": null,
      "outputs": [
        {
          "output_type": "execute_result",
          "data": {
            "text/plain": [
              "(3, 3)"
            ]
          },
          "metadata": {
            "tags": []
          },
          "execution_count": 72
        }
      ]
    },
    {
      "cell_type": "code",
      "metadata": {
        "colab": {
          "base_uri": "https://localhost:8080/"
        },
        "id": "3jdr27D6NoS3",
        "outputId": "4eebb84b-53e2-4478-ce1f-6625fd6a186b"
      },
      "source": [
        "x.sum(axis=1) # linhas"
      ],
      "execution_count": null,
      "outputs": [
        {
          "output_type": "execute_result",
          "data": {
            "text/plain": [
              "array([2, 4])"
            ]
          },
          "metadata": {
            "tags": []
          },
          "execution_count": 73
        }
      ]
    },
    {
      "cell_type": "markdown",
      "metadata": {
        "id": "a-I8ZKNjNoS3"
      },
      "source": [
        "### Extremos\n"
      ]
    },
    {
      "cell_type": "code",
      "metadata": {
        "colab": {
          "base_uri": "https://localhost:8080/"
        },
        "id": "kW35JapwNoS4",
        "outputId": "fdcbeaad-ea10-4ed4-d158-940d7a822a7d"
      },
      "source": [
        "x = np.array([1, 3, 2])\n",
        "x.min()"
      ],
      "execution_count": null,
      "outputs": [
        {
          "output_type": "execute_result",
          "data": {
            "text/plain": [
              "1"
            ]
          },
          "metadata": {
            "tags": []
          },
          "execution_count": 74
        }
      ]
    },
    {
      "cell_type": "code",
      "metadata": {
        "colab": {
          "base_uri": "https://localhost:8080/"
        },
        "id": "ukWKNacmNoS4",
        "outputId": "bd4851d4-3259-424f-d1e5-942e4e53b99d"
      },
      "source": [
        "x.max()"
      ],
      "execution_count": null,
      "outputs": [
        {
          "output_type": "execute_result",
          "data": {
            "text/plain": [
              "3"
            ]
          },
          "metadata": {
            "tags": []
          },
          "execution_count": 75
        }
      ]
    },
    {
      "cell_type": "code",
      "metadata": {
        "colab": {
          "base_uri": "https://localhost:8080/"
        },
        "id": "2stSunvpNoS4",
        "outputId": "9605e18f-6dab-4e6f-c951-195225a7d4e2"
      },
      "source": [
        "x.argmin()    # índice do valor mínimo"
      ],
      "execution_count": null,
      "outputs": [
        {
          "output_type": "execute_result",
          "data": {
            "text/plain": [
              "0"
            ]
          },
          "metadata": {
            "tags": []
          },
          "execution_count": 76
        }
      ]
    },
    {
      "cell_type": "code",
      "metadata": {
        "colab": {
          "base_uri": "https://localhost:8080/"
        },
        "id": "yMsrFb2sNoS4",
        "outputId": "d5cfaea5-864b-42bf-b1b7-96af7adf007d"
      },
      "source": [
        "x.argmax()    # índice do valor máximo"
      ],
      "execution_count": null,
      "outputs": [
        {
          "output_type": "execute_result",
          "data": {
            "text/plain": [
              "1"
            ]
          },
          "metadata": {
            "tags": []
          },
          "execution_count": 77
        }
      ]
    },
    {
      "cell_type": "markdown",
      "metadata": {
        "id": "JFvTVGqVNoS5"
      },
      "source": [
        "### Estatística"
      ]
    },
    {
      "cell_type": "code",
      "metadata": {
        "id": "45QYAl2WNoS5"
      },
      "source": [
        "x = np.array([1, 2, 3, 1])\n",
        "y = np.array([[1, 2, 3], [5, 6, 1]])"
      ],
      "execution_count": null,
      "outputs": []
    },
    {
      "cell_type": "code",
      "metadata": {
        "colab": {
          "base_uri": "https://localhost:8080/"
        },
        "id": "1D8UnJh7NoS5",
        "outputId": "29cb717b-5b25-4334-fff2-f815f1c5865d"
      },
      "source": [
        "x.mean()"
      ],
      "execution_count": null,
      "outputs": [
        {
          "output_type": "execute_result",
          "data": {
            "text/plain": [
              "1.75"
            ]
          },
          "metadata": {
            "tags": []
          },
          "execution_count": 79
        }
      ]
    },
    {
      "cell_type": "code",
      "metadata": {
        "colab": {
          "base_uri": "https://localhost:8080/"
        },
        "id": "ZIrwnjujNoS5",
        "outputId": "f292065a-7e49-4c51-8558-cfebdf79c0c9"
      },
      "source": [
        "np.median(x)"
      ],
      "execution_count": null,
      "outputs": [
        {
          "output_type": "execute_result",
          "data": {
            "text/plain": [
              "1.5"
            ]
          },
          "metadata": {
            "tags": []
          },
          "execution_count": 80
        }
      ]
    },
    {
      "cell_type": "code",
      "metadata": {
        "colab": {
          "base_uri": "https://localhost:8080/"
        },
        "id": "vIB-iXvuNoS5",
        "outputId": "10416311-30b3-4eb6-c8ed-9ec1a3e9105f"
      },
      "source": [
        "np.median(y, axis = -1)   # último eixo"
      ],
      "execution_count": null,
      "outputs": [
        {
          "output_type": "execute_result",
          "data": {
            "text/plain": [
              "array([2., 5.])"
            ]
          },
          "metadata": {
            "tags": []
          },
          "execution_count": 81
        }
      ]
    },
    {
      "cell_type": "code",
      "metadata": {
        "colab": {
          "base_uri": "https://localhost:8080/"
        },
        "id": "qt0IaJZkNoS5",
        "outputId": "22c03243-12fb-4980-d38f-2656c1bb5f5d"
      },
      "source": [
        "x.std()   # desvio padrão"
      ],
      "execution_count": null,
      "outputs": [
        {
          "output_type": "execute_result",
          "data": {
            "text/plain": [
              "0.82915619758885"
            ]
          },
          "metadata": {
            "tags": []
          },
          "execution_count": 82
        }
      ]
    },
    {
      "cell_type": "markdown",
      "metadata": {
        "id": "P-iub2XkNoS6"
      },
      "source": [
        "### Manipulando forma - Achatar"
      ]
    },
    {
      "cell_type": "code",
      "metadata": {
        "colab": {
          "base_uri": "https://localhost:8080/"
        },
        "id": "7cSiEnEWNoS6",
        "outputId": "6d3d8ceb-92f7-4684-8351-c68d96f63128"
      },
      "source": [
        "a = np.array([[1,2,3], [4,5,6]])\n",
        "a.flatten()"
      ],
      "execution_count": null,
      "outputs": [
        {
          "output_type": "execute_result",
          "data": {
            "text/plain": [
              "array([1, 2, 3, 4, 5, 6])"
            ]
          },
          "metadata": {
            "tags": []
          },
          "execution_count": 10
        }
      ]
    },
    {
      "cell_type": "code",
      "metadata": {
        "colab": {
          "base_uri": "https://localhost:8080/"
        },
        "id": "TjFHjO5bNoS6",
        "outputId": "a35a5c76-54c7-4a79-94a5-2be0bef882d6"
      },
      "source": [
        "a.T"
      ],
      "execution_count": null,
      "outputs": [
        {
          "output_type": "execute_result",
          "data": {
            "text/plain": [
              "array([[1, 4],\n",
              "       [2, 5],\n",
              "       [3, 6]])"
            ]
          },
          "metadata": {
            "tags": []
          },
          "execution_count": 11
        }
      ]
    },
    {
      "cell_type": "code",
      "metadata": {
        "colab": {
          "base_uri": "https://localhost:8080/"
        },
        "id": "RRq4n9rINoS6",
        "outputId": "43875cd3-46e9-4900-efeb-64cee580de98"
      },
      "source": [
        "a.T.flatten()"
      ],
      "execution_count": null,
      "outputs": [
        {
          "output_type": "execute_result",
          "data": {
            "text/plain": [
              "array([1, 4, 2, 5, 3, 6])"
            ]
          },
          "metadata": {
            "tags": []
          },
          "execution_count": 12
        }
      ]
    },
    {
      "cell_type": "markdown",
      "metadata": {
        "id": "ZhKeF6d5NoS6"
      },
      "source": [
        "### Manipulando forma - Reformatar"
      ]
    },
    {
      "cell_type": "code",
      "metadata": {
        "colab": {
          "base_uri": "https://localhost:8080/"
        },
        "id": "gXHXN6KrNoS7",
        "outputId": "fc2632fd-d980-49a2-82e6-05041b1b9592"
      },
      "source": [
        "a.shape"
      ],
      "execution_count": null,
      "outputs": [
        {
          "output_type": "execute_result",
          "data": {
            "text/plain": [
              "(2, 3)"
            ]
          },
          "metadata": {
            "tags": []
          },
          "execution_count": 14
        }
      ]
    },
    {
      "cell_type": "code",
      "metadata": {
        "colab": {
          "base_uri": "https://localhost:8080/"
        },
        "id": "j_uR5lq2NoS7",
        "outputId": "ea2ca1e4-b015-4d72-dbf2-2be314a87347"
      },
      "source": [
        "b = a.flatten()\n",
        "b = b.reshape((2,3))\n",
        "b"
      ],
      "execution_count": null,
      "outputs": [
        {
          "output_type": "execute_result",
          "data": {
            "text/plain": [
              "array([[1, 2, 3],\n",
              "       [4, 5, 6]])"
            ]
          },
          "metadata": {
            "tags": []
          },
          "execution_count": 15
        }
      ]
    },
    {
      "cell_type": "markdown",
      "metadata": {
        "id": "TVYbzwqzReHf"
      },
      "source": [
        "Resumo: \n",
        "\n",
        "### Criação de arrays\n",
        "\n",
        "```python\n",
        "np.array([1,2,3])           # Array 1D\n",
        "np.array([(1,2,3),(4,5,6)]) # Array 2D\n",
        "np.zeros(5)                 # Arrays 1D de comprimento 5 com todos os valores = 0\n",
        "np.ones((5, 3))             # Array de tamanho 5x3 com todos os valores = 1\n",
        "np.eye(5)                   # Array de tamanho 5x5 com valor 1 na diagonal e 0 no restante (matriy identidade\n",
        "np.linspace(0,100,6)        # Array com 6 elementos com valores divididos de forma igual entre 0 e 100\n",
        "np.arange(0,10,3)           # Array com valores de 0 até 10 (não incluído) em passos de 3 (por exemplo [0,3,6,9])\n",
        "np.full((2,3),8)            # Array de tamanho 2x3 com todos os valores = 8\n",
        "np.random.rand(4,5)         # Array de tamanho 4x5 com valores aleatórios entre 0–1\n",
        "np.random.rand(6,7)*100     # Array de tamanho 6x7 com valores aleatórios entre 0–100\n",
        "np.random.randint(5,size=(2,3)) # Array de tamanho 2x3 com valores aleatórios inteiros entre 0–4\n",
        "```\n",
        "\n",
        "### Propriedades\n",
        "\n",
        "```python\n",
        "arr.size          # retorna o número de elementos em arr\n",
        "arr.shape         # retorna a dimensão de arr (linhas,colunas)\n",
        "arr.dtype         # retorna o tipo dos dados em arr\n",
        "arr.astype(dtype) # converte o tipo dos elementos de arr para dtype\n",
        "arr.tolist()      # converte o arr em uma lista\n",
        "np.info(np.eye)   # ver a documentação de np.eye\n",
        "\n",
        "```\n",
        "\n",
        "### Copiando/ordenando/reformatando\n",
        "\n",
        "```python\n",
        "np.copy(arr)        # copia arr para um novo endereço de memória\n",
        "arr.view(dtype)     # cria uma visualização dos elementos de arr com o tipo dtype\n",
        "arr.sort()          # ordena arr\n",
        "arr.sort(axis=0)    # ordena um exico específico de arr\n",
        "two_d_arr.flatten() # achata um array 2D em 1D\n",
        "arr.T               # transposta de arr (linhas viram colunas e vice-versa)\n",
        "arr.reshape(3,4)    # reformata arr para 3 linhas e 4 colunas, sem alterar os dados\n",
        "arr.resize((5,6))   # altera a forma de arr para 5x6 e preenche os novos valores com 0\n",
        "```\n",
        "\n",
        "### Adicionando/removendo elementos\n",
        "\n",
        "```python\n",
        "np.append(arr,valores)     # adiciona valores ao final de arr\n",
        "np.insert(arr,2,valores)   # insere valores em arr antes do índice 2\n",
        "np.delete(arr,3,axis=0)    # deleta linha de índice 3 de arr\n",
        "np.delete(arr,4,axis=1)    # deleta coluna de índice 4 de arr\n",
        "```\n",
        "\n",
        "### Combinando/separando\n",
        "\n",
        "```python\n",
        "np.concatenate((arr1,arr2),axis=0)   # adiciona arr2 como linhas ao final de arr1\n",
        "np.concatenate((arr1,arr2),axis=1)   # adiciona arr2 como colunas ao final de arr1\n",
        "np.split(arr,3)                      # separa arr em 3 subarrays\n",
        "np.hsplit(arr,5)                     # separa arr horizontalmente no índice 5\n",
        "```\n",
        "\n",
        "### Indexando/fatiando\n",
        "\n",
        "```python\n",
        "arr[5]              # retorna o elemento de índica [5]\n",
        "arr[2,5]            # retorna o elemento do array 2D de índices [2][5]\n",
        "arr[1]=4            # atribui ao elemento do array de índice 1 o valor 4\n",
        "arr[1,3]=10         # atribui ao elemento do array de índice [1][3] o valor 10\n",
        "arr[0:3]            # retorna os elementos nos índices 0,1,2 (se o arr for 2D: retorna as colunas 0,1,2)\n",
        "arr[0:3,4]          # retorna os elementos das linhas 0,1,2 na coluna 4\n",
        "arr[:2]             # retorna os elementos nos índices 0,1 (se o arr for 2D: retorna colunas 0,1)\n",
        "arr[:,1]            # retorna os elementos de índice 1 para todas as linhas \n",
        "arr<5               # retorna um array com valores booleanos\n",
        "(arr1<3) & (arr2>5) # retorna um array com valores booleanos\n",
        "~arr                # inverte um array booleano\n",
        "arr[arr<5]          # retorna um array com elementos menores que 5\n",
        "```\n",
        "\n",
        "### Matemática escalar e vetorial\n",
        "\n",
        "```python\n",
        "np.add(arr,1)              # adiciona 1 em cada elemento do array\n",
        "np.subtract(arr,2)         # subtrai 2 em cada elemento do array\n",
        "np.multiply(arr,3)         # multiplica cada elemento do array por 3\n",
        "np.divide(arr,4)           # divide cada elemento do array por 4 (retorna np.nan se a divisão for por zero)\n",
        "np.power(arr,5)            # eleva cada elemento do array a quinta potência\n",
        "np.add(arr1,arr2).         # adiciona elemento a elemento arr1 de arr2\n",
        "np.subtract(arr1,arr2)     # subtrai elemento a elemento de arr2 de arr1\n",
        "np.multiply(arr1,arr2)     # multiplica elemento a elemento arr1 por arr2\n",
        "np.divide(arr1,arr2)       # divide elemento a elemento arr1 de arr2\n",
        "np.power(arr1,arr2)        # eleva cada elemento de arr1 a potênica de cada elemento de  arr2 \n",
        "np.array_equal(arr1,arr2)  # retorna True se os arrays possuem os mesmo elementos e mesma forma\n",
        "np.sqrt(arr)               # retorna a raíz quadrada de cada elemento do array\n",
        "np.sin(arr)                # retorna seno de cada elemento do array\n",
        "np.log(arr)                # retorna log de cada elemento do array\n",
        "np.abs(arr)                # retorna valor absoluto de cada elemento do array\n",
        "np.ceil(arr)               # retorna o valor inteiro mais próximo para cima de cada elemento do array\n",
        "np.floor(arr)              # retorna o valor inteiro mais próximo para baixo de cada elemento do array\n",
        "np.round(arr)              # retorna o valor inteiro mais próximo de cada elemento do array\n",
        "```\n",
        "\n",
        "### Estatística\n",
        "\n",
        "```python\n",
        "np.mean(arr,axis=0)  # retorna o valor médio ao longo de um eixo específico\n",
        "arr.sum()            # retorna a soma do array\n",
        "arr.min()            # retorna o valor mínimo do array\n",
        "arr.max(axis=0)      # retorna o valor máximo em um eixo específico\n",
        "np.var(arr)          # retorna a variância do array\n",
        "np.std(arr,axis=1)   # retorna o desvio padrão em um eixo específico\n",
        "arr.corrcoef()       # retorna o coeficiente de correlação do array\n",
        "```\n",
        "\n",
        "## Referências:\n",
        "\n",
        "https://scipy-lectures.org/intro/numpy/"
      ]
    }
  ]
}