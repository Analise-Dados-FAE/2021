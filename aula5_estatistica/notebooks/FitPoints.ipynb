{
 "cells": [
  {
   "cell_type": "markdown",
   "metadata": {},
   "source": [
    "Introduction:\n",
    "------------------\n",
    "\n",
    "ROOT macro for ChiSquare fitting points with errors to a user defined function.\n",
    "\n",
    "  This ROOT macro is a simple example of how one can fit points in ROOT and evaluate\n",
    "  the fit using the ChiSquare method and test.\n",
    "\n",
    "  References:\n",
    "    Barlow: Chapter 6\n",
    "    Cowan: Chapter 7\n",
    "    Bevington: Chapter 9\n",
    "\n",
    "  Author: Troels C. Petersen (NBI)\n",
    "  Email:  petersen@nbi.dk\n",
    "  Date:   12th of September 2011"
   ]
  },
  {
   "cell_type": "code",
   "execution_count": 1,
   "metadata": {},
   "outputs": [],
   "source": [
    "// ----------------------------------------------------------------------------------- //\n",
    "double sqr(double a) {\n",
    "// ----------------------------------------------------------------------------------- //\n",
    "  return a*a;\n",
    "}\n"
   ]
  },
  {
   "cell_type": "code",
   "execution_count": 2,
   "metadata": {},
   "outputs": [],
   "source": [
    "// ----------------------------------------------------------------------------------- //\n",
    "double func_pol1(double *x, double *par) {\n",
    "// ----------------------------------------------------------------------------------- //\n",
    "  return par[0] + par[1]*x[0];\n",
    "}\n"
   ]
  },
  {
   "cell_type": "code",
   "execution_count": 3,
   "metadata": {},
   "outputs": [],
   "source": [
    "// ----------------------------------------------------------------------------------- //\n",
    "double func_pol2(double *x, double *par) {\n",
    "// ----------------------------------------------------------------------------------- //\n",
    "  return par[0] + par[1]*x[0] + par[2]*x[0]*x[0];\n",
    "}"
   ]
  },
  {
   "cell_type": "code",
   "execution_count": 6,
   "metadata": {},
   "outputs": [],
   "source": [
    "// ----------------------------------------------------------------------------------- //\n",
    "void FitPoints() {\n",
    "// ----------------------------------------------------------------------------------- //\n",
    "  gROOT->Reset();\n",
    "\n",
    "  // Setting of general plotting style:\n",
    "  gStyle->SetCanvasColor(0);\n",
    "  gStyle->SetFillColor(0);\n",
    "  // Setting what to be shown in statistics box:\n",
    "  gStyle->SetOptStat(0);\n",
    "  gStyle->SetOptFit(1111);\n",
    "\n",
    "\n",
    "  // Random numbers from the Mersenne-Twister:\n",
    "  TRandom3 r;\n",
    "  r.SetSeed(0);  // Initializing the random numbers!\n",
    "\n",
    "\n",
    "  // ------------------------------------------------------------------ //\n",
    "  // Define data:\n",
    "  // ------------------------------------------------------------------ //\n",
    "\n",
    "  // In this exercise, there are two choices of data:\n",
    "  //  - Fixed data points (written into the program below)\n",
    "  //  - Randomly generated data points (generated below).\n",
    "  // To choose between the two, simply move the \"comment-out\" markers.\n",
    "\n",
    "  // Fixed data points (could also be read from file):\n",
    "  const int Npoints = 9;\n",
    "  double x[Npoints]  = {1.05, 2.36, 2.94, 4.45, 5.21, 6.19, 6.50, 8.09, 9.42};\n",
    "  double ex[Npoints] = {0.00, 0.00, 0.00, 0.00, 0.00, 0.00, 0.00, 0.00, 0.00};\n",
    "  double y[Npoints]  = {1.73, 3.13, 4.13, 4.93, 5.23, 5.13, 4.63, 4.03, 3.03};\n",
    "  double ey[Npoints] = {0.13, 0.13, 0.13, 0.13, 0.13, 0.13, 0.13, 0.13, 0.13};\n",
    "\n",
    "  \n",
    "  // Generate the data on the spot using random numbers:\n",
    " /*   \n",
    "  const int Npoints = 9;\n",
    "  double x[Npoints];\n",
    "  double ex[Npoints];\n",
    "  double y[Npoints];\n",
    "  double ey[Npoints];\n",
    "\n",
    "  for (int i=0; i < Npoints; i++) {\n",
    "    x[i]  = double(i+1);\n",
    "    ex[i] = 0.0;\n",
    "    y[i]  = 0.2 * sqr(x[i]) - 1.6 * x[i] + 5.0 + r.Gaus(0.0,1.0);\n",
    "    ey[i] = 1.0;\n",
    "  }\n",
    "\n",
    "*/\n",
    "\n",
    "  // ------------------------------------------------------------------ //\n",
    "  // Fit the data and plot the result:\n",
    "  // ------------------------------------------------------------------ //\n",
    "\n",
    "  // Make a white canvas:\n",
    "  TCanvas *c1 = new TCanvas(\"c1\",\"\",650,20,600,450);\n",
    "  c1->SetFillColor(0);\n",
    "\n",
    "  // Define a histogram (range, axis titles, etc.), where the graph is to be plottet:\n",
    "  TH1F *h1 = c1->DrawFrame(0.0,0.0,10.0,10.0);\n",
    "  h1->SetXTitle(\"Something integer [in units of your imagination]\");\n",
    "  h1->SetTitleOffset(1.0,\"y\");\n",
    "  h1->SetYTitle(\"Something continuous [perhaps]\");\n",
    "\n",
    "  // Make graphs (using a known number of points in four arrays):\n",
    "  TGraphErrors* graph = new TGraphErrors(Npoints, x, y, ex, ey);\n",
    "\n",
    "  // Fit graphs:\n",
    "  int Npar = 2;\n",
    "  //TF1 *fit = new TF1(\"fit\", \"pol1\", 0.5, 9.5);\n",
    " //  TF1 *fit = new TF1(\"fit\", \"[0] + [1]*x\", 0.5, 9.5);     // Another way of doing the fit!\n",
    "   TF1 *fit = new TF1(\"fit\", func_pol1, 0.5, 9.5, Npar);   // Yet, another way...\n",
    "  fit->SetParameters(0.0, 0.0, 0.0);\n",
    "  fit->SetLineColor(4);\n",
    "\n",
    "  graph->SetMarkerColor(1);\n",
    "  graph->SetMarkerStyle(20);\n",
    "  graph->SetMarkerSize(1.0);\n",
    "  graph->Fit(\"fit\",\"r\");\n",
    "  graph->Draw(\"P same\");\n",
    "\n",
    "  // Add legend:\n",
    "  TLegend* legend = new TLegend(0.16,0.76,0.40,0.86);\n",
    "  legend->AddEntry(graph,\" Data points \",\"p\");\n",
    "  legend->AddEntry(fit,  \" Fit to data \",\"l\");\n",
    "  legend->SetFillColor(0);\n",
    "  legend->Draw();\n",
    "\n",
    "  // Save to file:\n",
    "  c1->Update();\n",
    "  c1->SaveAs(\"GraphFittedRandData.png\");  \n",
    "  //c1->SaveAs(\"GraphFittedRandData.png\");\n",
    "  //c1->SaveAs(\"GraphFittedFixedPoints.png\");\n",
    "}"
   ]
  },
  {
   "cell_type": "code",
   "execution_count": 7,
   "metadata": {},
   "outputs": [
    {
     "name": "stdout",
     "output_type": "stream",
     "text": [
      " FCN=568.742 FROM MIGRAD    STATUS=CONVERGED      33 CALLS          34 TOTAL\n",
      "                     EDM=6.85424e-21    STRATEGY= 1      ERROR MATRIX ACCURATE \n",
      "  EXT PARAMETER                                   STEP         FIRST   \n",
      "  NO.   NAME      VALUE            ERROR          SIZE      DERIVATIVE \n",
      "   1  p0           3.23691e+00   9.66140e-02   5.05046e-04   1.68826e-09\n",
      "   2  p1           1.47972e-01   1.68180e-02   8.79154e-05   3.23285e-09\n"
     ]
    },
    {
     "name": "stderr",
     "output_type": "stream",
     "text": [
      "Warning in <TCanvas::Constructor>: Deleting canvas with same name: c1\n",
      "Info in <TCanvas::Print>: png file GraphFittedFixedPoints.png has been created\n"
     ]
    }
   ],
   "source": [
    " FitPoints();"
   ]
  },
  {
   "cell_type": "markdown",
   "metadata": {},
   "source": [
    "Comments:\n",
    "----------\n",
    "First of all note, that now we are not fitting a histogram (TH1), but a graph with\n",
    "errors on the points (TGraphErrors). With graphs it is easier to make non-equidistant\n",
    "points and they are not the result of filling something into a histogram!\n",
    "\n",
    "\n",
    "Questions:\n",
    "----------\n",
    " 1) Start by using the numbers given, and fit these with a line. What is the Chi2\n",
    "    and the number of degrees of freedom (Ndof)? What is the probability of this?\n",
    "\n",
    " 2) Try to fit with a parabola instead. What is now the Chi2 and Ndof? And what is\n",
    "    the probability of getting a fit that has a HIGHER Chi2, that is a worse fit?\n",
    "    Is this fit then reasonable?\n",
    "    How much do you need to inflate the errors to get a 50% chance? Before changing\n",
    "    the errors, make an estimate yourself!\n",
    "\n",
    " 3) Now switch to the randomly generated numbers (move the comment-out blocks).\n",
    "    How good a fit do you get here? Is this to be expected? Try running the fit a\n",
    "    few times (with different seeds for the random numbers), and see if you get\n",
    "    what you expect. In fact, what do you expect?\n",
    "\n",
    " 4) If you were to make a loop over the fit, and plot the probability of the Chi2\n",
    "    for each fit, which distribution of probabilities would you expect.\n",
    "\n",
    "\n",
    "Advanced questions:\n",
    "-------------------\n",
    " 1) Returning to the fixed numbers, what is the probability that the curve goes\n",
    "    through origo? How to evaluate this?"
   ]
  },
  {
   "cell_type": "code",
   "execution_count": null,
   "metadata": {},
   "outputs": [],
   "source": []
  }
 ],
 "metadata": {
  "kernelspec": {
   "display_name": "ROOT C++",
   "language": "c++",
   "name": "root"
  },
  "language_info": {
   "codemirror_mode": "text/x-c++src",
   "file_extension": ".C",
   "mimetype": " text/x-c++src",
   "name": "c++"
  }
 },
 "nbformat": 4,
 "nbformat_minor": 4
}
