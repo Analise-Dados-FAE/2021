{
 "cells": [
  {
   "cell_type": "markdown",
   "metadata": {},
   "source": [
    "Introdução:\n",
    "------------------\n",
    "\n",
    "Macro do ROOT para pontos de ajuste do ${\\chi}^2$ com erros para uma função definida pelo usuário.\n",
    "\n",
    "   Esta macro do ROOT é um exemplo simples de como se pode encaixar pontos em ROOT e avaliar\n",
    "   o ajuste usando o método e teste do  ${\\chi}^2$.\n",
    "\n",
    "   Referências:\n",
    "    - Barlow: Capítulo 6\n",
    "    - Cowan: Capítulo 7\n",
    "    - Bevington: Capítulo 9\n",
    "    - Oguri: Capítulo 5\n",
    "\n",
    "   Autor: Troels C. Petersen (NBI)\n",
    " "
   ]
  },
  {
   "cell_type": "code",
   "execution_count": 3,
   "metadata": {},
   "outputs": [],
   "source": [
    "// ----------------------------------------------------------------------------------- //\n",
    "double sqr(double a) {\n",
    "// ----------------------------------------------------------------------------------- //\n",
    "  return a*a;\n",
    "}\n"
   ]
  },
  {
   "cell_type": "code",
   "execution_count": 4,
   "metadata": {},
   "outputs": [],
   "source": [
    "// ----------------------------------------------------------------------------------- //\n",
    "double func_pol1(double *x, double *par) {\n",
    "// ----------------------------------------------------------------------------------- //\n",
    "  return par[0] + par[1]*x[0];\n",
    "}\n"
   ]
  },
  {
   "cell_type": "code",
   "execution_count": 5,
   "metadata": {},
   "outputs": [],
   "source": [
    "// ----------------------------------------------------------------------------------- //\n",
    "double func_pol2(double *x, double *par) {\n",
    "// ----------------------------------------------------------------------------------- //\n",
    "  return par[0] + par[1]*x[0] + par[2]*x[0]*x[0];\n",
    "}"
   ]
  },
  {
   "cell_type": "code",
   "execution_count": 8,
   "metadata": {},
   "outputs": [],
   "source": [
    "// ----------------------------------------------------------------------------------- //\n",
    "void FitPoints() {\n",
    "// ----------------------------------------------------------------------------------- //\n",
    "  gROOT->Reset();\n",
    "\n",
    "  // Setting of general plotting style:\n",
    "  gStyle->SetCanvasColor(0);\n",
    "  gStyle->SetFillColor(0);\n",
    "  // Setting what to be shown in statistics box:\n",
    "  gStyle->SetOptStat(0);\n",
    "  gStyle->SetOptFit(1111);\n",
    "\n",
    "\n",
    "  // Random numbers from the Mersenne-Twister:\n",
    "  TRandom3 r;\n",
    "  r.SetSeed(0);  // Initializing the random numbers!\n",
    "\n",
    "\n",
    "  // ------------------------------------------------------------------ //\n",
    "  // Define data:\n",
    "  // ------------------------------------------------------------------ //\n",
    "\n",
    "  // In this exercise, there are two choices of data:\n",
    "  //  - Fixed data points (written into the program below)\n",
    "  //  - Randomly generated data points (generated below).\n",
    "  // To choose between the two, simply move the \"comment-out\" markers.\n",
    "\n",
    "  // Fixed data points (could also be read from file):\n",
    " /*\n",
    "  const int Npoints = 9;\n",
    "  double x[Npoints]  = {1.05, 2.36, 2.94, 4.45, 5.21, 6.19, 6.50, 8.09, 9.42};\n",
    "  double ex[Npoints] = {0.00, 0.00, 0.00, 0.00, 0.00, 0.00, 0.00, 0.00, 0.00};\n",
    "  double y[Npoints]  = {1.73, 3.13, 4.13, 4.93, 5.23, 5.13, 4.63, 4.03, 3.03};\n",
    "  double ey[Npoints] = {0.13, 0.13, 0.13, 0.13, 0.13, 0.13, 0.13, 0.13, 0.13};\n",
    "*/\n",
    "  \n",
    "  // Generate the data on the spot using random numbers:\n",
    "    \n",
    "  const int Npoints = 9;\n",
    "  double x[Npoints];\n",
    "  double ex[Npoints];\n",
    "  double y[Npoints];\n",
    "  double ey[Npoints];\n",
    "\n",
    "  for (int i=0; i < Npoints; i++) {\n",
    "    x[i]  = double(i+1);\n",
    "    ex[i] = 0.0;\n",
    "    y[i]  = 0.2 * sqr(x[i]) - 1.6 * x[i] + 5.0 + r.Gaus(0.0,1.0);\n",
    "    ey[i] = 1.0;\n",
    "  }\n",
    "\n",
    "\n",
    "  // ------------------------------------------------------------------ //\n",
    "  // Fit the data and plot the result:\n",
    "  // ------------------------------------------------------------------ //\n",
    "\n",
    "  // Make a white canvas:\n",
    "  TCanvas *c1 = new TCanvas(\"c1\",\"\",650,20,600,450);\n",
    "  c1->SetFillColor(0);\n",
    "\n",
    "  // Define a histogram (range, axis titles, etc.), where the graph is to be plottet:\n",
    "  TH1F *h1 = c1->DrawFrame(0.0,0.0,10.0,10.0);\n",
    "  h1->SetXTitle(\"Something integer [in units of your imagination]\");\n",
    "  h1->SetTitleOffset(1.0,\"y\");\n",
    "  h1->SetYTitle(\"Something continuous [perhaps]\");\n",
    "\n",
    "  // Make graphs (using a known number of points in four arrays):\n",
    "  TGraphErrors* graph = new TGraphErrors(Npoints, x, y, ex, ey);\n",
    "\n",
    "  // Fit graphs:\n",
    "  int Npar = 2;\n",
    "  //TF1 *fit = new TF1(\"fit\", \"pol1\", 0.5, 9.5);\n",
    " //  TF1 *fit = new TF1(\"fit\", \"[0] + [1]*x\", 0.5, 9.5);     // Another way of doing the fit!\n",
    "  // TF1 *fit = new TF1(\"fit\", func_pol1, 0.5, 9.5, Npar);   // Yet, another way...\n",
    "    TF1 *fit = new TF1(\"fit\", func_pol2, 0.5, 9.5, Npar);  \n",
    "    fit->SetParameters(0.0, 0.0, 0.0);\n",
    "  fit->SetLineColor(4);\n",
    "\n",
    "  graph->SetMarkerColor(1);\n",
    "  graph->SetMarkerStyle(20);\n",
    "  graph->SetMarkerSize(1.0);\n",
    "  graph->Fit(\"fit\",\"r\");\n",
    "  graph->Draw(\"P same\");\n",
    "\n",
    "  // Add legend:\n",
    "  TLegend* legend = new TLegend(0.16,0.76,0.40,0.86);\n",
    "  legend->AddEntry(graph,\" Data points \",\"p\");\n",
    "  legend->AddEntry(fit,  \" Fit to data \",\"l\");\n",
    "  legend->SetFillColor(0);\n",
    "  legend->Draw();\n",
    "\n",
    "  // Save to file:\n",
    "  c1->Update();\n",
    "  c1->SaveAs(\"GraphFittedRandDatafunc_pol22.png\");  \n",
    "  //c1->SaveAs(\"GraphFittedRandData.png\");\n",
    "  //c1->SaveAs(\"GraphFittedFixedPoints.png\");\n",
    "}"
   ]
  },
  {
   "cell_type": "code",
   "execution_count": 9,
   "metadata": {},
   "outputs": [
    {
     "name": "stdout",
     "output_type": "stream",
     "text": [
      " FCN=11.3275 FROM MIGRAD    STATUS=CONVERGED      31 CALLS          32 TOTAL\n",
      "                     EDM=1.17041e-22    STRATEGY= 1      ERROR MATRIX ACCURATE \n",
      "  EXT PARAMETER                                   STEP         FIRST   \n",
      "  NO.   NAME      VALUE            ERROR          SIZE      DERIVATIVE \n",
      "   1  p0          -2.73027e-01   7.26483e-01   5.71460e-04  -2.33134e-11\n",
      "   2  p1           7.28625e-01   1.29099e-01   1.01551e-04  -2.18653e-10\n"
     ]
    },
    {
     "name": "stderr",
     "output_type": "stream",
     "text": [
      "Warning in <TCanvas::Constructor>: Deleting canvas with same name: c1\n",
      "Info in <TCanvas::Print>: png file GraphFittedRandDatafunc_pol22.png has been created\n"
     ]
    }
   ],
   "source": [
    " FitPoints();"
   ]
  },
  {
   "cell_type": "markdown",
   "metadata": {},
   "source": [
    "Comentários:\n",
    "----------\n",
    "Em primeiro lugar, observe que agora não estamos ajustando um histograma (TH1), mas um gráfico com\n",
    "erros nos pontos (TGraphErrors). Com gráficos é mais fácil tornar não-equidistantes\n",
    "pontos e eles não são o resultado do preenchimento de algo em um histograma!\n",
    "\n",
    "\n",
    "Perguntas:\n",
    "----------\n",
    " 1) Comece usando os números fornecidos e encaixe-os com uma linha. Qual é o ${\\chi}^2$\n",
    "    e o número de graus de liberdade (Ndof)? Qual é a probabilidade disso?\n",
    "\n",
    " 2) Em vez disso, tente encaixar com uma parábola. O que são agora ${\\chi}^2$ e Ndof? E o que é\n",
    "    a probabilidade de obter um ajuste com ${\\chi}^2$ MAIOR, que é um ajuste pior?\n",
    "    Isso é razoável, então?\n",
    "    Quanto você precisa para aumentar os erros para obter 50% de chance? Antes de mudar\n",
    "    os erros, faça uma estimativa!\n",
    "\n",
    " 3) Agora mude para os números gerados aleatoriamente (mova os blocos de comentário).\n",
    "    Você fica bem aqui? Isso era esperado? Tente executar o ajuste a\n",
    "    algumas vezes (com sementes diferentes para os números aleatórios), e veja se você consegue\n",
    "    O que você esperava. Na verdade, o que você esperava?\n",
    "\n",
    " 4) Se você fizesse um loop sobre o ajuste e plote a probabilidade do ${\\chi}^2$\n",
    "    para cada ajuste, qual distribuição de probabilidades você esperaria.\n",
    "\n",
    "\n"
   ]
  },
  {
   "cell_type": "code",
   "execution_count": null,
   "metadata": {},
   "outputs": [],
   "source": []
  }
 ],
 "metadata": {
  "kernelspec": {
   "display_name": "ROOT C++",
   "language": "c++",
   "name": "root"
  },
  "language_info": {
   "codemirror_mode": "text/x-c++src",
   "file_extension": ".C",
   "mimetype": " text/x-c++src",
   "name": "c++"
  }
 },
 "nbformat": 4,
 "nbformat_minor": 4
}
