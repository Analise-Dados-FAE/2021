{
  "nbformat": 4,
  "nbformat_minor": 2,
  "metadata": {
    "kernelspec": {
      "name": "python3",
      "display_name": "Python 3.9.2 64-bit ('root-python-env': conda)"
    },
    "language_info": {
      "codemirror_mode": {
        "name": "ipython",
        "version": 3
      },
      "file_extension": ".py",
      "mimetype": "text/x-python",
      "name": "python",
      "nbconvert_exporter": "python",
      "pygments_lexer": "ipython3",
      "version": "3.9.2"
    },
    "colab": {
      "name": "2-tipos-dados_python.ipynb",
      "provenance": [],
      "collapsed_sections": []
    },
    "interpreter": {
      "hash": "335436fdd3b76d4f3727a636fd436c7d3c5aef570f332174c0978c1012c03da9"
    }
  },
  "cells": [
    {
      "cell_type": "markdown",
      "source": [
        "# 2. Tipos de dados em Python\n",
        "\n",
        "<img src=\"figures/tipos-dados.png\" />\n",
        "\n",
        "A função ```type()``` mostra o tipo do dado, veja alguns exemplos.\n"
      ],
      "metadata": {
        "id": "zRKNcx_AWOqT"
      }
    },
    {
      "cell_type": "code",
      "execution_count": 1,
      "source": [
        "type(\"text\")        # <class 'str'>"
      ],
      "outputs": [
        {
          "output_type": "execute_result",
          "data": {
            "text/plain": [
              "str"
            ]
          },
          "metadata": {},
          "execution_count": 1
        }
      ],
      "metadata": {
        "colab": {
          "base_uri": "https://localhost:8080/"
        },
        "id": "n5lZzwMQUOuC",
        "outputId": "58f9c8fa-8ef2-4fb0-d0c9-92a14bdea96c"
      }
    },
    {
      "cell_type": "code",
      "execution_count": 2,
      "source": [
        "type(1)             # <class 'int'>\n"
      ],
      "outputs": [
        {
          "output_type": "execute_result",
          "data": {
            "text/plain": [
              "int"
            ]
          },
          "metadata": {},
          "execution_count": 2
        }
      ],
      "metadata": {
        "colab": {
          "base_uri": "https://localhost:8080/"
        },
        "id": "RUSEnCPqUSP4",
        "outputId": "cb91f488-0228-457d-d1ca-a96b2952cbc1"
      }
    },
    {
      "cell_type": "code",
      "execution_count": 3,
      "source": [
        "type(0.99)          # <class 'float'>"
      ],
      "outputs": [
        {
          "output_type": "execute_result",
          "data": {
            "text/plain": [
              "float"
            ]
          },
          "metadata": {},
          "execution_count": 3
        }
      ],
      "metadata": {
        "id": "IP9-Bet7USbQ",
        "colab": {
          "base_uri": "https://localhost:8080/"
        },
        "outputId": "63532b8d-08e2-40a4-93be-fdbe2089c771"
      }
    },
    {
      "cell_type": "markdown",
      "source": [
        "## 2.1 Inteiros"
      ],
      "metadata": {
        "id": "SVbNU_IlWgaX"
      }
    },
    {
      "cell_type": "code",
      "execution_count": 4,
      "source": [
        "1 + 1\n",
        "a = 4\n",
        "\n",
        "type(a)"
      ],
      "outputs": [
        {
          "output_type": "execute_result",
          "data": {
            "text/plain": [
              "int"
            ]
          },
          "metadata": {},
          "execution_count": 4
        }
      ],
      "metadata": {
        "colab": {
          "base_uri": "https://localhost:8080/"
        },
        "id": "eeUqzjBdWOqW",
        "outputId": "2e8db970-73fa-4e2f-a862-df7ace249c63"
      }
    },
    {
      "cell_type": "code",
      "execution_count": 5,
      "source": [
        "z = 5/2     # divisão de número inteiro em Python 3\n",
        "t = int(5/2)\n",
        "print (z, t)"
      ],
      "outputs": [
        {
          "output_type": "stream",
          "name": "stdout",
          "text": [
            "2.5 2\n"
          ]
        }
      ],
      "metadata": {
        "colab": {
          "base_uri": "https://localhost:8080/"
        },
        "id": "fyUkMSTWWOqZ",
        "outputId": "12751b6a-7d21-408c-c351-97e46d27b93a"
      }
    },
    {
      "cell_type": "markdown",
      "source": [
        "## 2.2 Floats\n"
      ],
      "metadata": {
        "id": "YqNcQVGbWOqa"
      }
    },
    {
      "cell_type": "code",
      "execution_count": 6,
      "source": [
        "c = 2.1\n",
        "type(c)"
      ],
      "outputs": [
        {
          "output_type": "execute_result",
          "data": {
            "text/plain": [
              "float"
            ]
          },
          "metadata": {},
          "execution_count": 6
        }
      ],
      "metadata": {
        "colab": {
          "base_uri": "https://localhost:8080/"
        },
        "id": "pboD3YdrWOqa",
        "outputId": "c6a53113-9468-4bf0-bcbc-d5e03697cdb6"
      }
    },
    {
      "cell_type": "markdown",
      "source": [
        "## 2.3 Complexos"
      ],
      "metadata": {
        "id": "HCPuJEXgWOqb"
      }
    },
    {
      "cell_type": "code",
      "execution_count": 7,
      "source": [
        "a = 1.5 + 0.5j\n",
        "a.real\n",
        "a.imag\n",
        "type(1. + 0j )"
      ],
      "outputs": [
        {
          "output_type": "execute_result",
          "data": {
            "text/plain": [
              "complex"
            ]
          },
          "metadata": {},
          "execution_count": 7
        }
      ],
      "metadata": {
        "colab": {
          "base_uri": "https://localhost:8080/"
        },
        "id": "KdBeTd_UWOqc",
        "outputId": "e14690fa-0eef-4ed5-fefe-838192dc13f0"
      }
    },
    {
      "cell_type": "markdown",
      "source": [
        "## 2.4 Booleanos\n",
        "\n",
        "Os tipos booleanos literais no Python são ```True``` e ```False```. Vamos rodar eles através da declaração ```if```:"
      ],
      "metadata": {
        "id": "nPBbJUdLWOqd"
      }
    },
    {
      "cell_type": "code",
      "execution_count": 8,
      "source": [
        "3 > 4\n",
        "test = (3 > 4)\n",
        "test\n",
        "type(test)"
      ],
      "outputs": [
        {
          "output_type": "execute_result",
          "data": {
            "text/plain": [
              "bool"
            ]
          },
          "metadata": {},
          "execution_count": 8
        }
      ],
      "metadata": {
        "colab": {
          "base_uri": "https://localhost:8080/"
        },
        "id": "xIO2u6I8WOqf",
        "outputId": "92d557ed-6ab9-4b66-9495-95b3dde364dc"
      }
    },
    {
      "cell_type": "code",
      "execution_count": 9,
      "source": [
        "if True:\n",
        "    print('Sim')"
      ],
      "outputs": [
        {
          "output_type": "stream",
          "name": "stdout",
          "text": [
            "Sim\n"
          ]
        }
      ],
      "metadata": {
        "scrolled": true,
        "colab": {
          "base_uri": "https://localhost:8080/"
        },
        "id": "3Cz44acdWOqg",
        "outputId": "c29b9e84-bcb8-4a57-f8d6-2dd2d6fc3b4f"
      }
    },
    {
      "cell_type": "code",
      "execution_count": 10,
      "source": [
        "if False:\n",
        "    print('Você não verá essa mensagem')"
      ],
      "outputs": [],
      "metadata": {
        "id": "yO-nlgn2WOqg"
      }
    },
    {
      "cell_type": "markdown",
      "source": [
        "### 2.4.1 BOOLEANOS E OUTROS TIPOS DE DADOS\n",
        "Os seguintes valores são definidos como ```False```:\n",
        "* ```None```\n",
        "* ```0```\n",
        "* ```[ ]``` (ou qualquer outra sequência vazia, ```string``` inclusive)\n",
        "\n",
        "Tudo diferente dos anteriores age como um ```True```\n",
        "\n",
        "<img src=\"figures/operacoes_booleanas.png\" />\n",
        "\n",
        "\n",
        "Pela tabela ```and``` e ```or``` são operadores curso circuito:"
      ],
      "metadata": {
        "id": "o932Hj_sWOqh"
      }
    },
    {
      "cell_type": "code",
      "execution_count": 11,
      "source": [
        "1 or True"
      ],
      "outputs": [
        {
          "output_type": "execute_result",
          "data": {
            "text/plain": [
              "1"
            ]
          },
          "metadata": {},
          "execution_count": 11
        }
      ],
      "metadata": {
        "colab": {
          "base_uri": "https://localhost:8080/"
        },
        "id": "rtPEQbl2WOqh",
        "outputId": "b9af8358-1ebd-4466-9b13-3da6f72789df"
      }
    },
    {
      "cell_type": "code",
      "execution_count": 12,
      "source": [
        "True or 1"
      ],
      "outputs": [
        {
          "output_type": "execute_result",
          "data": {
            "text/plain": [
              "True"
            ]
          },
          "metadata": {},
          "execution_count": 12
        }
      ],
      "metadata": {
        "colab": {
          "base_uri": "https://localhost:8080/"
        },
        "id": "GZIKptCfWOqi",
        "outputId": "cde4ee98-17b5-4ef5-adb9-fefacb8347fc"
      }
    },
    {
      "cell_type": "markdown",
      "source": [
        "Qual será o resultado de ```True and (2 + 2)```?"
      ],
      "metadata": {
        "id": "AOTHrFGgWOqi"
      }
    },
    {
      "cell_type": "code",
      "execution_count": 13,
      "source": [
        "True and (2+2)"
      ],
      "outputs": [
        {
          "output_type": "execute_result",
          "data": {
            "text/plain": [
              "4"
            ]
          },
          "metadata": {},
          "execution_count": 13
        }
      ],
      "metadata": {
        "colab": {
          "base_uri": "https://localhost:8080/"
        },
        "id": "Zbse3KcZWOqj",
        "outputId": "ef7b0261-68c4-4cf6-d9f5-e2df764f1b9b"
      }
    },
    {
      "cell_type": "markdown",
      "source": [
        "E qual será de ```not 3```?"
      ],
      "metadata": {
        "id": "id4keszFWOqj"
      }
    },
    {
      "cell_type": "code",
      "execution_count": 14,
      "source": [
        "not 3"
      ],
      "outputs": [
        {
          "output_type": "execute_result",
          "data": {
            "text/plain": [
              "False"
            ]
          },
          "metadata": {},
          "execution_count": 14
        }
      ],
      "metadata": {
        "colab": {
          "base_uri": "https://localhost:8080/"
        },
        "id": "88K6Or_kWOqj",
        "outputId": "22b6f08f-1eb5-40a7-901e-3850dae35d9a"
      }
    },
    {
      "cell_type": "markdown",
      "source": [
        "## 2.6 Tipos de dados: Conversão de tipos"
      ],
      "metadata": {
        "id": "UWJX7tZMWOqk"
      }
    },
    {
      "cell_type": "code",
      "execution_count": 15,
      "source": [
        "float(1)\n",
        "int(4.3)\n",
        "str(2)"
      ],
      "outputs": [
        {
          "output_type": "execute_result",
          "data": {
            "text/plain": [
              "'2'"
            ]
          },
          "metadata": {},
          "execution_count": 15
        }
      ],
      "metadata": {
        "colab": {
          "base_uri": "https://localhost:8080/",
          "height": 35
        },
        "id": "lVoLAjuIWOqk",
        "outputId": "4995aafa-3034-43af-cac8-df526c939fe9"
      }
    },
    {
      "cell_type": "markdown",
      "source": [
        "## 2.7 Objetos e referências\n",
        "\n",
        "Se executarmos os seguintes comandos:"
      ],
      "metadata": {
        "id": "W-mQRktIWOql"
      }
    },
    {
      "cell_type": "code",
      "execution_count": 16,
      "source": [
        "a = \"objeto\"\n",
        "b = \"objeto\""
      ],
      "outputs": [],
      "metadata": {
        "id": "TL9s9oa1WOql"
      }
    },
    {
      "cell_type": "markdown",
      "source": [
        "Sabemos que ***a*** e ***b*** se referirão a uma ***string*** mas não sabemos se eles apontam para o mesmo objeto de Python.\n",
        "\n",
        "O interpretador pode organizar sua memória de duas maneiras:\n",
        "\n",
        "* referir ***a*** e ***b*** a dois objetos distintos com os mesmos valores\n",
        "* referir ***a*** e ***b*** ao mesmo objeto\n",
        "\n",
        "<img src=\"figures/ref_string.png\" />\n",
        "\n",
        "Podemos testar se duas variáveis se referem ao mesmo objeto:"
      ],
      "metadata": {
        "id": "IlpHZ4MqWOql"
      }
    },
    {
      "cell_type": "code",
      "execution_count": 17,
      "source": [
        "a is b"
      ],
      "outputs": [
        {
          "output_type": "execute_result",
          "data": {
            "text/plain": [
              "True"
            ]
          },
          "metadata": {},
          "execution_count": 17
        }
      ],
      "metadata": {
        "colab": {
          "base_uri": "https://localhost:8080/"
        },
        "id": "SbwEdPJ9WOql",
        "outputId": "b2058669-2244-47c5-dac6-042d34c40fa8"
      }
    },
    {
      "cell_type": "markdown",
      "source": [
        "Nesse caso, ***a*** e ***b*** têm o mesmo valor mas não se referem ao mesmo objeto.\n",
        "\n",
        "\n",
        "## Alias\n",
        "\n",
        "Podemos forçar ***a*** e ***b*** a se referirem ao mesmo objeto. Com isso, criamos um **alias** (apelido)."
      ],
      "metadata": {
        "id": "4hzu1v_bWOqm"
      }
    },
    {
      "cell_type": "code",
      "execution_count": 18,
      "source": [
        "a = [4, 5, 6]\n",
        "b = [4, 5, 6]\n",
        "a is b"
      ],
      "outputs": [
        {
          "output_type": "execute_result",
          "data": {
            "text/plain": [
              "False"
            ]
          },
          "metadata": {},
          "execution_count": 18
        }
      ],
      "metadata": {
        "colab": {
          "base_uri": "https://localhost:8080/"
        },
        "id": "GW34T1PBWOqm",
        "outputId": "aa833223-de36-4715-cca5-61be40a9113d"
      }
    },
    {
      "cell_type": "code",
      "execution_count": 19,
      "source": [
        "a = b\n",
        "a is b"
      ],
      "outputs": [
        {
          "output_type": "execute_result",
          "data": {
            "text/plain": [
              "True"
            ]
          },
          "metadata": {},
          "execution_count": 19
        }
      ],
      "metadata": {
        "colab": {
          "base_uri": "https://localhost:8080/"
        },
        "id": "TLkyPkzwWOqn",
        "outputId": "55e73488-d28c-4d3e-aae2-2cd40e48505c"
      }
    },
    {
      "cell_type": "code",
      "execution_count": 20,
      "source": [
        "a.append(88)\n",
        "print('a = ', a, ', b = ', b)"
      ],
      "outputs": [
        {
          "output_type": "stream",
          "name": "stdout",
          "text": [
            "a =  [4, 5, 6, 88] , b =  [4, 5, 6, 88]\n"
          ]
        }
      ],
      "metadata": {
        "colab": {
          "base_uri": "https://localhost:8080/"
        },
        "id": "hqdWH3aqWOqn",
        "outputId": "d4932554-b1fd-40f9-d828-c8ec3bc99109"
      }
    },
    {
      "cell_type": "markdown",
      "source": [
        "### O que aconteceu???\n",
        "\n",
        "<img src=\"figures/diff_lists.png\" />\n",
        "\n",
        "<img src=\"figures/same_lists.png\" />\n",
        "\n",
        "\n",
        "### Recomendações em relação a **aliases**:\n",
        "\n",
        "Em geral, é mais seguro evitar fazer um **alias** de objetos **mutáveis**, como listas. Para objetos **imutáveis**, como strings, não há restrições de se fazer **aliases**."
      ],
      "metadata": {
        "id": "fwHvGjZQWOqo"
      }
    },
    {
      "cell_type": "markdown",
      "source": [
        "<p id=\"nav-felt\" style=\"possition:relative; width:50%; float:left;\"><a href=\"1-introducao_python.ipynb\">&lt;&lt; Anterior: 1. Introdução</a></p>\n",
        "<p id=\"nav-right\" style=\"possition:relative; width:45%; float:left; text-align:right;\"><a href=\"3-tipos-sequencias_python.ipynb\">Próximo: 3. Tipos de sequências &gt;&gt;</a></p>"
      ],
      "metadata": {
        "id": "QoychYDXWOqo"
      }
    }
  ]
}