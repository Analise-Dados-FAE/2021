{
  "nbformat": 4,
  "nbformat_minor": 2,
  "metadata": {
    "kernelspec": {
      "name": "python3",
      "display_name": "Python 3.9.2 64-bit ('root-python-env': conda)"
    },
    "language_info": {
      "codemirror_mode": {
        "name": "ipython",
        "version": 3
      },
      "file_extension": ".py",
      "mimetype": "text/x-python",
      "name": "python",
      "nbconvert_exporter": "python",
      "pygments_lexer": "ipython3",
      "version": "3.9.2"
    },
    "interpreter": {
      "hash": "335436fdd3b76d4f3727a636fd436c7d3c5aef570f332174c0978c1012c03da9"
    },
    "colab": {
      "name": "5-funcoes_python.ipynb",
      "provenance": [],
      "collapsed_sections": []
    }
  },
  "cells": [
    {
      "cell_type": "markdown",
      "source": [
        "# 5. Funções\n",
        "\n",
        "Na programação, funções são blocos de código que realizam determinadas tarefas que normalmente precisam ser executadas diversas vezes dentro de uma aplicação. Quando surge essa necessidade, para que várias instruções não precisem ser repetidas, elas são agrupadas em uma função, à qual é dado um nome e que poderá ser chamada/executada em diferentes partes do programa."
      ],
      "metadata": {
        "id": "yrXbS7spg3ow"
      }
    },
    {
      "cell_type": "markdown",
      "source": [
        "## 5.1 Criando funções em Python\n",
        "\n",
        "\n",
        "* **'def'** cria uma função e atribui um nome\n",
        "* **'return'** envia um resultado de volta ao chamador da função\n",
        "* argumentos são passados por designação\n",
        "* os tipos dos argumentos e do retorno da função não são declarados\n",
        "\n",
        "\n",
        "Sintaxe das funções:\n",
        "```python\n",
        "def nome_da_funcao(arg1, arg2, ...):\n",
        "    corpo_da_funcao\n",
        "    return valor_a_retornar\n",
        "```\n",
        "No código abaixo, temos um exemplo de declaração de função em Python:"
      ],
      "metadata": {
        "id": "STm0cfMLg3o0"
      }
    },
    {
      "cell_type": "code",
      "execution_count": 18,
      "source": [
        "def circulo(raio):                # 1\n",
        "    return 3.14 * raio * raio     # 2\n",
        "\n",
        "print(circulo(1.5))              # 3"
      ],
      "outputs": [
        {
          "output_type": "stream",
          "name": "stdout",
          "text": [
            "7.0649999999999995\n"
          ]
        }
      ],
      "metadata": {
        "colab": {
          "base_uri": "https://localhost:8080/"
        },
        "id": "vNkUhTTjg3o1",
        "outputId": "fbffb3fe-75e5-4499-a860-7b467e2c02dd"
      }
    },
    {
      "cell_type": "markdown",
      "source": [
        "1. Nesta linha, estamos declarando a função de nome ```circulo``` que recebe um parâmetro ```raio```\n",
        "2. Aqui temos o corpo da função que consiste em apenas um comando de retorno ```return```\n",
        "3. Nesta linha, estamos invocando (chamando) a função ```circulo``` passando o argumento ```1.5``` \n",
        "\n",
        "\n",
        "Aqui, é importante ressaltar que, para respeitar a sintaxe da linguagem, as funções devem ser indentadas como qualquer controle de fluxo.\n"
      ],
      "metadata": {
        "id": "SMYvh0nkg3o2"
      }
    },
    {
      "cell_type": "markdown",
      "source": [
        "Funções em Python podem realizar computações tão complicadas quanto desejarmos. Elas são uma ferramenta poderosa de **abstração** em programação."
      ],
      "metadata": {
        "id": "OZlJei3Rg3pA"
      }
    },
    {
      "cell_type": "markdown",
      "source": [
        "## 5.2 Funções anônimas (funções lambdas)\n",
        "\n",
        "A palavra-chave ```lambda``` em Python nos permite criar funções anônimas. Este tipo de função é útil quando desejamos passar uma função simples como argumento para outra função.\n",
        "\n",
        "Consiste em uma função que é atribuida a um objeto. Por conter a palavra reservada ```lambda``` o objeto se comportará como uma função.\n",
        "\n",
        "> Uma função qualquer:\n",
        "\n",
        "```python\n",
        "def nome (argumento):\n",
        "    return expressão\n",
        "```\n",
        "\n",
        "> Uma função utilizando ```lambda```:\n",
        "```python\n",
        "variavel = lambda argumento: expressão\n",
        "```\n",
        "\n",
        "Vamos ao exemplo para facilitar o entendimento, assim fica mais claro como utilizar essa função e como ela funciona."
      ],
      "metadata": {
        "id": "uIHw-Qvtg3pB"
      }
    },
    {
      "cell_type": "code",
      "execution_count": 19,
      "source": [
        "# Função comum\n",
        "def eleva_ao_quadrado(n):\n",
        "    return n ** 2\n",
        "\n",
        "print(eleva_ao_quadrado(2))"
      ],
      "outputs": [
        {
          "output_type": "stream",
          "name": "stdout",
          "text": [
            "4\n"
          ]
        }
      ],
      "metadata": {
        "colab": {
          "base_uri": "https://localhost:8080/"
        },
        "id": "Kcfpdqwyg3pB",
        "outputId": "4d27858d-825f-4677-84b7-b3d12712950d"
      }
    },
    {
      "cell_type": "code",
      "execution_count": 20,
      "source": [
        "# Função lambda\n",
        "eleva_ao_quadrado = lambda x: x**2\n",
        "\n",
        "print(eleva_ao_quadrado(2))"
      ],
      "outputs": [
        {
          "output_type": "stream",
          "name": "stdout",
          "text": [
            "4\n"
          ]
        }
      ],
      "metadata": {
        "colab": {
          "base_uri": "https://localhost:8080/"
        },
        "id": "E9kFWArNg3pC",
        "outputId": "6bddb37a-5f55-46d3-c828-c1ab92dbb124"
      }
    },
    {
      "cell_type": "markdown",
      "source": [
        "Outro exemplos:\n",
        "\n",
        "Uma função ```lambda```com dois parâmetros"
      ],
      "metadata": {
        "id": "qQrCv004g3pC"
      }
    },
    {
      "cell_type": "code",
      "execution_count": 21,
      "source": [
        "f = lambda a, b : a+b"
      ],
      "outputs": [],
      "metadata": {
        "id": "jbyAL_0Rg3pC"
      }
    },
    {
      "cell_type": "markdown",
      "source": [
        "O uso de palavra ```lambda``` é bem extenso e ela pode ser utilizada até como objeto de retorno de uma outra função:"
      ],
      "metadata": {
        "id": "gWX6XkT-g3pD"
      }
    },
    {
      "cell_type": "code",
      "execution_count": 22,
      "source": [
        "def incrementador(n):\n",
        "    return lambda x: x+n"
      ],
      "outputs": [],
      "metadata": {
        "id": "NOXrob0wg3pD"
      }
    },
    {
      "cell_type": "markdown",
      "source": [
        "Podemos utilizar expressões lambdas em outras funções que já estão acopladas à linguagem como ```filter```, ```map``` e ```reduce```. \n",
        "\n",
        "* ```map()```: é uma função builtin de Python, isto é, uma função que é implementada diretamente no interpretador Python, serve para aplicarmos uma função a cada elemento de uma lista, retornando uma nova lista contendo os elementos resultantes da aplicação da função.\n",
        "\n",
        "* ```reduce()```: está disponível no módulo _functools_, e sua utilidade está na aplicação de uma função a todos os valores do conjunto, de forma a agregá-los todos em um único valor.\n",
        "\n",
        "* ```filter()```: filtra os elementos de uma sequência\n",
        "\n",
        "\n",
        "Uma função que retorna os números pares entre 0 e 9:"
      ],
      "metadata": {
        "id": "akwlJsFug3pD"
      }
    },
    {
      "cell_type": "code",
      "execution_count": 23,
      "source": [
        "num_pares = filter(lambda x: x % 2 == 0, range(10))"
      ],
      "outputs": [],
      "metadata": {
        "id": "qKpTkK-Mg3pE"
      }
    },
    {
      "cell_type": "markdown",
      "source": [
        "Uma expressão que ele ao quadrado os números em uma lista, no caso, de 0 a 9."
      ],
      "metadata": {
        "id": "O4uk58GDg3pE"
      }
    },
    {
      "cell_type": "code",
      "execution_count": 24,
      "source": [
        "map(lambda x: x**2, range(10))"
      ],
      "outputs": [
        {
          "output_type": "execute_result",
          "data": {
            "text/plain": [
              "<map at 0x107923490>"
            ]
          },
          "metadata": {},
          "execution_count": 24
        }
      ],
      "metadata": {
        "colab": {
          "base_uri": "https://localhost:8080/"
        },
        "id": "9tfBSe8Eg3pF",
        "outputId": "d8e6d979-7faf-4056-88df-6a9b20409cfb"
      }
    },
    {
      "cell_type": "markdown",
      "source": [
        "Já este exemplo faz o produtório dos elementos da lista"
      ],
      "metadata": {
        "id": "w9jm954Fg3pF"
      }
    },
    {
      "cell_type": "code",
      "execution_count": 25,
      "source": [
        "# importando o functools para usar a função reduce()\n",
        "import functools\n",
        " \n",
        "functools.reduce(lambda x, y: x*y, range(1,5))"
      ],
      "outputs": [
        {
          "output_type": "execute_result",
          "data": {
            "text/plain": [
              "24"
            ]
          },
          "metadata": {},
          "execution_count": 25
        }
      ],
      "metadata": {
        "colab": {
          "base_uri": "https://localhost:8080/"
        },
        "id": "W3WNnKA4g3pF",
        "outputId": "1618c277-a096-4344-8dc5-7da8c358b682"
      }
    },
    {
      "cell_type": "markdown",
      "source": [
        "Pode-se também criar facilmente uma expressão que conte o tamanho das palavras em uma lista."
      ],
      "metadata": {
        "id": "aG2jcEJVg3pF"
      }
    },
    {
      "cell_type": "markdown",
      "source": [
        "## 5.2 Passagem de argumento para funções\n",
        "\n",
        "* Argumentos são passados por designação\n",
        "* Argumentos que são passados são designados como nomes locais\n",
        "* Designação de nomes de argumentos não afeta o chamador.\n",
        "* Designação de objetos mutáveis pode afetar o chamador."
      ],
      "metadata": {
        "id": "g5MyiMBmg3pG"
      }
    },
    {
      "cell_type": "code",
      "execution_count": 26,
      "source": [
        "x = 8\n",
        "y = [1, 2]\n",
        "print (x)\n",
        "print (y[0])"
      ],
      "outputs": [
        {
          "output_type": "stream",
          "name": "stdout",
          "text": [
            "8\n",
            "1\n"
          ]
        }
      ],
      "metadata": {
        "colab": {
          "base_uri": "https://localhost:8080/"
        },
        "id": "v-9oArhro5fC",
        "outputId": "398485e3-2018-4163-b37f-c1d92f930f06"
      }
    },
    {
      "cell_type": "code",
      "execution_count": 27,
      "source": [
        "def modificador(x, y):\n",
        "    x = 2              # modifica somente o valor local de x\n",
        "    y[0] = 'hi'        # modifica o objeto compartilhado\n",
        "\n",
        "modificador(x, y)      # chamada da função\n",
        "\n",
        "print ('x = %i' % x)"
      ],
      "outputs": [
        {
          "output_type": "stream",
          "name": "stdout",
          "text": [
            "x = 8\n"
          ]
        }
      ],
      "metadata": {
        "id": "2oloUiF4o8He"
      }
    },
    {
      "cell_type": "markdown",
      "source": [
        "* Argumentos são como variáveis que \n",
        "recebem seus valores iniciais do chamador\n",
        "* Essas variáveis, assim como outras definidas dentro da \n",
        "função são ditas **locais**, isto é, só existem no lugar onde \n",
        "foram definidas\n",
        "   * Ao retornar ao ponto de chamada, as variáveis locais são \n",
        "descartadas\n",
        "* Se uma função define **n** argumentos, valores para todos \n",
        "eles devem ser passados pelo chamado\n",
        "   * Exceção: argumentos com valores **default**"
      ],
      "metadata": {
        "id": "NXAk-Ap-g3pH"
      }
    },
    {
      "cell_type": "markdown",
      "source": [
        "### 5.3.1 Argumentos com valores default\n",
        "\n",
        "É possível dar valores **default** a argumentos, então se o chamador não especificar valores para esses \n",
        "argumentos, os defaults são usados\n",
        "\n",
        "\n",
        "```python\n",
        "def nome (arg1=default1, ..., argN=defaultN)\n",
        "```\n",
        "\n",
        "Se apenas alguns argumentos têm default, esses devem \n",
        "ser os últimos. Se não fosse assim, haveria ambigüidade na passagem de \n",
        "argumentos\n"
      ],
      "metadata": {
        "id": "VZPo-7Rzg3pI"
      }
    },
    {
      "cell_type": "code",
      "execution_count": 28,
      "source": [
        "def f(nome,saudacao=\"Oi\",pontuacao=\"!!\"):\n",
        "    return saudacao+\",\"+nome+pontuacao\n",
        "\n",
        "print(f(\"Joao\"))"
      ],
      "outputs": [
        {
          "output_type": "stream",
          "name": "stdout",
          "text": [
            "Oi,Joao!!\n"
          ]
        }
      ],
      "metadata": {
        "colab": {
          "base_uri": "https://localhost:8080/"
        },
        "id": "5IFbitbSg3pI",
        "outputId": "936865af-0a58-462a-b0cb-839cd7d4c8e5"
      }
    },
    {
      "cell_type": "code",
      "execution_count": 29,
      "source": [
        "print(f(\"Joao\",\"Parabens\"))"
      ],
      "outputs": [
        {
          "output_type": "stream",
          "name": "stdout",
          "text": [
            "Parabens,Joao!!\n"
          ]
        }
      ],
      "metadata": {
        "colab": {
          "base_uri": "https://localhost:8080/"
        },
        "id": "sHJWgsN0g3pJ",
        "outputId": "912070a1-cc98-4427-b4eb-ef2193ef183e"
      }
    },
    {
      "cell_type": "code",
      "execution_count": 30,
      "source": [
        "print(f(\"Joao\",\"Ah\",\"...\"))"
      ],
      "outputs": [
        {
          "output_type": "stream",
          "name": "stdout",
          "text": [
            "Ah,Joao...\n"
          ]
        }
      ],
      "metadata": {
        "colab": {
          "base_uri": "https://localhost:8080/"
        },
        "id": "50GsxbyFg3pJ",
        "outputId": "84b844cc-ef85-422a-9bcb-518fab03b12b"
      }
    },
    {
      "cell_type": "markdown",
      "source": [
        "### 5.3.2 Argumentos com nomes\n",
        "\n",
        "É possível passar os argumentos sem empregar a ordem \n",
        "de definição desde que se nomeie cada valor passado com \n",
        "o nome do argumento correspondente"
      ],
      "metadata": {
        "id": "si7obm2eg3pK"
      }
    },
    {
      "cell_type": "code",
      "execution_count": 31,
      "source": [
        "def f(nome,saudacao=\"Oi\",pontuacao=\"!!\"):\n",
        "   return saudacao+\",\"+nome+pontuacao\n",
        "\n",
        "print(f(saudacao=\"Valeu\",nome=\"Joao\"))"
      ],
      "outputs": [
        {
          "output_type": "stream",
          "name": "stdout",
          "text": [
            "Valeu,Joao!!\n"
          ]
        }
      ],
      "metadata": {
        "colab": {
          "base_uri": "https://localhost:8080/"
        },
        "id": "EIgabWyEg3pK",
        "outputId": "d7bc7216-d3b7-44d3-977c-caa0416d8a45"
      }
    },
    {
      "cell_type": "markdown",
      "source": [
        "### 5.3.3 Número de parâmetros variáveis\n",
        "\n",
        "Se o último argumento de uma definição de função \n",
        "começa com ```*```, todos os valores passados, a partir daquele, \n",
        "são postos numa tupla.\n",
        "\n",
        "Se o último argumento de uma definição de função \n",
        "começa com ```**```, todos os valores passados usando chaves, \n",
        "a partir daquele, são postos num dicionário\n",
        "\n",
        "Formas especiais de parâmetros:\n",
        "\n",
        "* *args: qualquer número de argumentos posicionais empacotados em uma tupla.\n",
        "* **kwargs: qualquer número de argumentos palavra chave empacotados em um dicionário."
      ],
      "metadata": {
        "id": "iHlaSIYdg3pL"
      }
    },
    {
      "cell_type": "code",
      "execution_count": 32,
      "source": [
        "def args_variaveis(*args, **kwargs):\n",
        "    print('args são', args)\n",
        "    print('kwargs são', kwargs)\n",
        "\n",
        "args_variaveis('um', 'dois', x=1, y=2, z=3)"
      ],
      "outputs": [
        {
          "output_type": "stream",
          "name": "stdout",
          "text": [
            "args são ('um', 'dois')\n",
            "kwargs são {'x': 1, 'y': 2, 'z': 3}\n"
          ]
        }
      ],
      "metadata": {
        "colab": {
          "base_uri": "https://localhost:8080/"
        },
        "id": "tr_ToWFyg3pL",
        "outputId": "83ba51cb-5af3-4b13-9896-605f1a4bf7eb"
      }
    },
    {
      "cell_type": "markdown",
      "source": [
        "## 5.5 Docstrings\n",
        "Docstring é a documentação sobre o que a função faz e seus parâmetros. Convenção geral:"
      ],
      "metadata": {
        "id": "OwpMHAt-g3pL"
      }
    },
    {
      "cell_type": "code",
      "execution_count": 33,
      "source": [
        "def nomefuncao(parametros):\n",
        "    \"\"\"Descrição da função e de seus parâmetros.\n",
        "    Escreva de forma objetiva para ser rápidamente entendido.\n",
        "    \"\"\"\n",
        "    # corpo da função\n",
        "    pass\n",
        "\n",
        "print(nomefuncao.__doc__) #observe a doctring mostrada no object inspector"
      ],
      "outputs": [
        {
          "output_type": "stream",
          "name": "stdout",
          "text": [
            "Descrição da função e de seus parâmetros.\n",
            "    Escreva de forma objetiva para ser rápidamente entendido.\n",
            "    \n"
          ]
        }
      ],
      "metadata": {
        "colab": {
          "base_uri": "https://localhost:8080/"
        },
        "id": "JurJEx8Dg3pL",
        "outputId": "89125d9e-6d8e-4b3d-a3ba-c7230a006fcc"
      }
    },
    {
      "cell_type": "markdown",
      "source": [
        "> Construção de Docstrings:\n",
        "> Para uma padronização, foram definidas a semântica e certas convenções associadas as docstrings do Python, que podem ser consultadas em Docstring Conventions."
      ],
      "metadata": {
        "id": "YycWuQ1Gg3pM"
      }
    },
    {
      "cell_type": "markdown",
      "source": [
        "## 5.6 Funções são objetos\n",
        "Funções são objetos de primeira classe, o que significa que elas podem ser:\n",
        "\n",
        "* atribuídas a uma variável;\n",
        "* um item em uma lista (ou qualquer recipiente);\n",
        "* passadas como um argumento para outra função."
      ],
      "metadata": {
        "id": "g5rZ3wEig3pM"
      }
    },
    {
      "cell_type": "code",
      "execution_count": 34,
      "source": [
        "def args_variavel(*args, **kwargs):\n",
        "    print('args é', args)\n",
        "    print('kwargs é', kwargs)\n",
        "\n",
        "va = args_variavel\n",
        "\n",
        "va('três', x=1, y=2)"
      ],
      "outputs": [
        {
          "output_type": "stream",
          "name": "stdout",
          "text": [
            "args é ('três',)\n",
            "kwargs é {'x': 1, 'y': 2}\n"
          ]
        }
      ],
      "metadata": {
        "colab": {
          "base_uri": "https://localhost:8080/"
        },
        "id": "uS7bgWEIg3pM",
        "outputId": "c164b621-718c-407f-b323-fd3985166eaa"
      }
    },
    {
      "cell_type": "markdown",
      "source": [
        "> **Métodos são funções anexadas à objetos**, como já visto com as listas, dicionários, strings, etc.\n",
        "\n",
        "\n"
      ],
      "metadata": {
        "id": "YNF-muM7g3pM"
      }
    },
    {
      "cell_type": "markdown",
      "source": [
        "## 5.8 Mais sobre funções\n",
        "* Todas as funções em Python retornam um valor!\n",
        "* Funções sem retorno especificado, retornam o valor especial ```None```\n",
        "* Não existe sobrecarga de função (_function overloading_) em Python.\n",
        "    * Duas funções diferentes não podem ter o mesmo nome, mesmo com argumentos diferentes.\n",
        "* Funções podem ser usadas como qualquer outro tipo. Elas podem ser:\n",
        "    * argumentos de outras funções\n",
        "    * valores de retorno de funções\n",
        "    * designadas a variáveis\n",
        "    * partes de listas, tuplas, etc."
      ],
      "metadata": {
        "id": "dzlcA26qg3pM"
      }
    },
    {
      "cell_type": "markdown",
      "source": [
        "<p id=\"nav-felt\" style=\"possition:relative; width:50%; float:left;\"><a href=\"4-fluxo-execucao_python.ipynb\">&lt;&lt; 4. Fluxo de execução</a></p>\n",
        "<p id=\"nav-right\" style=\"possition:relative; width:45%; float:left; text-align:right;\"><a href=\"6-OOP_python.ipynb\">Próximo: 6. Programação Orientada a Objeto &gt;&gt;</a></p>"
      ],
      "metadata": {
        "id": "WttZskoDg3pN"
      }
    }
  ]
}