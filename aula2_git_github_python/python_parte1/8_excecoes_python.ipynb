{
 "cells": [
  {
   "cell_type": "markdown",
   "source": [
    "# 8. Erros e Exceções\n",
    "\n",
    "Segundo a documentação do Python há pelo menos dois tipos distintos de erros: erros de sintaxe e exceções.\n",
    "\n",
    "Os erros de sintaxe apontam para a linha de nosso script e, normalmente são fáceis de se corrigir, veja um exemplo abaixo. \n",
    "\n",
    "Neste erro eu esqueço de iniciar a string com o sinal de aspas ```\"```."
   ],
   "metadata": {}
  },
  {
   "cell_type": "code",
   "execution_count": 1,
   "source": [
    "print(Esqueci o sinal de aspas\")"
   ],
   "outputs": [
    {
     "output_type": "error",
     "ename": "SyntaxError",
     "evalue": "invalid syntax (<ipython-input-1-e4c5044a4e21>, line 1)",
     "traceback": [
      "\u001b[0;36m  File \u001b[0;32m\"<ipython-input-1-e4c5044a4e21>\"\u001b[0;36m, line \u001b[0;32m1\u001b[0m\n\u001b[0;31m    print(Esqueci o sinal de aspas\")\u001b[0m\n\u001b[0m                  ^\u001b[0m\n\u001b[0;31mSyntaxError\u001b[0m\u001b[0;31m:\u001b[0m invalid syntax\n"
     ]
    }
   ],
   "metadata": {}
  },
  {
   "cell_type": "markdown",
   "source": [
    "Por outro lado, mesmo que seu código esteja sintaticamente correto, é possível ocorrer um erro em tempo de execução. Também denominadas simplesmente por **exceções**.\n",
    "\n",
    "O tratamento dessas exceções devem nos auxiliar a entender e depurar o código.\n",
    "\n",
    "> Sintaxe: \n",
    "```python\n",
    "try:\n",
    "    execute_some_code()\n",
    "except SomeException:\n",
    "    handle_gracefully()\n",
    "```\n",
    "\n",
    "Veja abaixo um exemplo de exceção não tratada."
   ],
   "metadata": {}
  },
  {
   "cell_type": "code",
   "execution_count": 2,
   "source": [
    "1/0"
   ],
   "outputs": [
    {
     "output_type": "error",
     "ename": "ZeroDivisionError",
     "evalue": "division by zero",
     "traceback": [
      "\u001b[0;31m---------------------------------------------------------------------------\u001b[0m",
      "\u001b[0;31mZeroDivisionError\u001b[0m                         Traceback (most recent call last)",
      "\u001b[0;32m<ipython-input-2-9e1622b385b6>\u001b[0m in \u001b[0;36m<module>\u001b[0;34m\u001b[0m\n\u001b[0;32m----> 1\u001b[0;31m \u001b[0;36m1\u001b[0m\u001b[0;34m/\u001b[0m\u001b[0;36m0\u001b[0m\u001b[0;34m\u001b[0m\u001b[0;34m\u001b[0m\u001b[0m\n\u001b[0m",
      "\u001b[0;31mZeroDivisionError\u001b[0m: division by zero"
     ]
    }
   ],
   "metadata": {}
  },
  {
   "cell_type": "markdown",
   "source": [
    "Agora, o mesmo exemplo, só que com tratamento de exceção."
   ],
   "metadata": {}
  },
  {
   "cell_type": "code",
   "execution_count": 6,
   "source": [
    "try:\n",
    "    1/0\n",
    "except ZeroDivisionError:\n",
    "        print('Um erro ocorreu!')\n",
    "        print(\"\"\" ...mas agora vc pode, estrategicamente, fazer algo.\"\"\")"
   ],
   "outputs": [
    {
     "output_type": "stream",
     "name": "stdout",
     "text": [
      "Um erro ocorreu!\n",
      " ...mas agora vc pode, estrategicamente, fazer algo.\n"
     ]
    }
   ],
   "metadata": {}
  },
  {
   "cell_type": "markdown",
   "source": [
    "Não faz muito sentido trocar a mensagem padrão para uma outra qualquer, a não ser que façamos algo realmente estratégico como, por exemplo, gravar um log ou liberar alguns recursos.\n",
    "\n",
    "## Capturando todas as exceções\n",
    "\n",
    "> Sintaxe: \n",
    "```python\n",
    "try:\n",
    "    execute_some_code()\n",
    "except:\n",
    "    handle_gracefully()\n",
    "```\n",
    "\n",
    "* Não faça isso.\n",
    "* Capturando exceções muito amplas é potencialmente perigoso.\n",
    "* Entre outros, esse tratamento \"coringa\" deve disparar:\n",
    "   * Disparos de saída do sistema\n",
    "   * Erros de memória\n",
    "   * Typos\n",
    "   * Qualquer coisa que você pode não ter considerado\n",
    "\n",
    "## Capturando múltiplas exceções - Lidando com todos eles do mesmo jeito\n",
    "\n",
    "> Sintaxe: \n",
    "```python\n",
    "try:\n",
    "    execute_some_code()\n",
    "except (SomeException, AnotherException):\n",
    "    handle_gracefully()\n",
    "```\n",
    "\n",
    "## Capturando múltiplas exceções - Lidando com eles separadamente\n",
    "\n",
    "> Sintaxe: \n",
    "```python\n",
    "try:\n",
    "    execute_some_code()\n",
    "except SomeException:\n",
    "    handle_gracefully()\n",
    "except AnotherException:\n",
    "    do_another_thing()\n",
    "```"
   ],
   "metadata": {}
  }
 ],
 "metadata": {
  "kernelspec": {
   "name": "python3",
   "display_name": "Python 3.9.2 64-bit ('root-python-env': conda)"
  },
  "language_info": {
   "codemirror_mode": {
    "name": "ipython",
    "version": 3
   },
   "file_extension": ".py",
   "mimetype": "text/x-python",
   "name": "python",
   "nbconvert_exporter": "python",
   "pygments_lexer": "ipython3",
   "version": "3.9.2"
  },
  "interpreter": {
   "hash": "335436fdd3b76d4f3727a636fd436c7d3c5aef570f332174c0978c1012c03da9"
  }
 },
 "nbformat": 4,
 "nbformat_minor": 2
}