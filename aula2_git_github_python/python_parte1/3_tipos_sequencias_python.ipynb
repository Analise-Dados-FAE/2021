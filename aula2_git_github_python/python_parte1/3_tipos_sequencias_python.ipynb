{
  "nbformat": 4,
  "nbformat_minor": 2,
  "metadata": {
    "interpreter": {
      "hash": "335436fdd3b76d4f3727a636fd436c7d3c5aef570f332174c0978c1012c03da9"
    },
    "kernelspec": {
      "name": "python3",
      "display_name": "Python 3.9.2 64-bit ('root-python-env': conda)"
    },
    "language_info": {
      "codemirror_mode": {
        "name": "ipython",
        "version": 3
      },
      "file_extension": ".py",
      "mimetype": "text/x-python",
      "name": "python",
      "nbconvert_exporter": "python",
      "pygments_lexer": "ipython3",
      "version": "3.9.2"
    },
    "colab": {
      "name": "3-tipos-sequencias_python.ipynb",
      "provenance": [],
      "collapsed_sections": []
    }
  },
  "cells": [
    {
      "cell_type": "markdown",
      "source": [
        "# 3. Sequências em Python\n",
        "\n",
        "As sequências no Python, que são recursos para agrupar dados. Elas nos permitem armazenar \n",
        "múltiplos itens dentro de uma única unidade, que funciona como um container.\n",
        "\n",
        "* <font color=red> Lista </font>\n",
        "   * Mutável, uma sequência ordenada de tipos mistos\n",
        "   \n",
        "\n",
        "* <font color=red> Strings </font>\n",
        "   * Imutável\n",
        "   * conceitualmente muito parecida com uma Tupla\n",
        "   \n",
        "\n",
        "* <font color=red> Tupla </font>  \n",
        "   * Uma sequência simples e imutável de ítens.\n",
        "   * Ítens podem ser de tipos mistos, incluindo sequências de tipos \n",
        "   \n",
        "   \n",
        "* Todos os três tipos de sequência compartilham bastante da mesma sintaxe e funcionalidade\n",
        "\n",
        "\n",
        "* Diferenças mais importantes:\n",
        "   * tuplas e strings são imutáveis\n",
        "   * listas são mutáveis\n",
        "\n",
        "\n",
        "* Os exemplos que mostraremos podem ser aplicados a todos os tipos de sequência\n",
        "\n"
      ],
      "metadata": {
        "id": "7wSJviKuX5tE"
      }
    },
    {
      "cell_type": "markdown",
      "source": [
        "## 3.1 Tipos de Sequências: Definições\n",
        "\n",
        "\n",
        "* Listas são definidas usando colchete (e vírgulas)."
      ],
      "metadata": {
        "id": "23KmqdHHX5tH"
      }
    },
    {
      "cell_type": "code",
      "execution_count": 1,
      "source": [
        "lista = ['abc', 34, 3.1415, 23]"
      ],
      "outputs": [],
      "metadata": {
        "id": "WOrwCPilX5tJ"
      }
    },
    {
      "cell_type": "markdown",
      "source": [
        "* Tuplas são definidas usando parênteses (e vírgulas)."
      ],
      "metadata": {
        "id": "6nnH_V80X5tM"
      }
    },
    {
      "cell_type": "code",
      "execution_count": 2,
      "source": [
        "tupla = (3, 'abc', 4.56, (2, 23), 'k')"
      ],
      "outputs": [],
      "metadata": {
        "id": "FN64VSk-X5tN"
      }
    },
    {
      "cell_type": "markdown",
      "source": [
        "* Strings são definidas usando aspas"
      ],
      "metadata": {
        "id": "wp_lbeKdX5tN"
      }
    },
    {
      "cell_type": "code",
      "execution_count": 3,
      "source": [
        "st = 'Hello'\n",
        "st = \"Hello\"\n",
        "st = \"\"\"Hello\"\"\""
      ],
      "outputs": [],
      "metadata": {
        "id": "yDFjZT_UX5tO"
      }
    },
    {
      "cell_type": "markdown",
      "source": [
        "## 3.2 Tipos de Sequências: acessando os elementos\n",
        "\n",
        "\n",
        "* Os elementos individuais de uma **tupla**, **lista** ou **string** podem ser acessados usando uma notação de colchete.\n",
        "* Os tipos de sequências são todos baseados no 0 (zero), os índices são contados a partir do 0.\n",
        "\n",
        "Por exemplo: \n",
        "```\n",
        "+---+---+---+---+---+---+\n",
        "| p | y | t | h | o | n |\n",
        "+---+---+---+---+---+---+\n",
        "  0   1   2   3   4   5\n",
        "````\n"
      ],
      "metadata": {
        "id": "f0znsF3sX5tP"
      }
    },
    {
      "cell_type": "code",
      "execution_count": 4,
      "source": [
        "tupla = (3, 'abc', 4.56, (2, 23), 'k')\n",
        "print (tupla[1])"
      ],
      "outputs": [
        {
          "output_type": "stream",
          "name": "stdout",
          "text": [
            "abc\n"
          ]
        }
      ],
      "metadata": {
        "colab": {
          "base_uri": "https://localhost:8080/"
        },
        "id": "lWak3GFXX5tQ",
        "outputId": "d399fcb9-496d-4973-e15b-ec72783988f3"
      }
    },
    {
      "cell_type": "code",
      "execution_count": 5,
      "source": [
        "lista = ['abc', 34, 3.1415, 23]\n",
        "print (lista[1])"
      ],
      "outputs": [
        {
          "output_type": "stream",
          "name": "stdout",
          "text": [
            "34\n"
          ]
        }
      ],
      "metadata": {
        "colab": {
          "base_uri": "https://localhost:8080/"
        },
        "id": "p2ILB98kX5tR",
        "outputId": "35393e2e-1595-4b46-9dd9-f08649e936ca"
      }
    },
    {
      "cell_type": "code",
      "execution_count": 6,
      "source": [
        "st = 'Hello'\n",
        "print (st[1])"
      ],
      "outputs": [
        {
          "output_type": "stream",
          "name": "stdout",
          "text": [
            "e\n"
          ]
        }
      ],
      "metadata": {
        "colab": {
          "base_uri": "https://localhost:8080/"
        },
        "id": "y4NGZsktX5tS",
        "outputId": "d109712b-0ab7-4b23-f2cd-2f9f8c466d94"
      }
    },
    {
      "cell_type": "markdown",
      "source": [
        "## 3.3 Tipos de Sequências: índices negativos\n",
        "\n",
        "* índice positivo: contar da esquerda para a direita, começando do zero\n",
        "* índice negativo: contar da direita para a esquerda, começando do -1."
      ],
      "metadata": {
        "id": "hIgm6SJ_X5tS"
      }
    },
    {
      "cell_type": "code",
      "execution_count": 7,
      "source": [
        "tupla = (3, 'abc', 4.56, (2, 23), 'k')\n",
        "print (tupla[1])"
      ],
      "outputs": [
        {
          "output_type": "stream",
          "name": "stdout",
          "text": [
            "abc\n"
          ]
        }
      ],
      "metadata": {
        "colab": {
          "base_uri": "https://localhost:8080/"
        },
        "id": "aJFf13ZVX5tT",
        "outputId": "25f2348f-eca7-4bf4-eb40-50b351105066"
      }
    },
    {
      "cell_type": "code",
      "execution_count": 8,
      "source": [
        "print (tupla[-1])"
      ],
      "outputs": [
        {
          "output_type": "stream",
          "name": "stdout",
          "text": [
            "k\n"
          ]
        }
      ],
      "metadata": {
        "colab": {
          "base_uri": "https://localhost:8080/"
        },
        "id": "DoAsfW3lX5tT",
        "outputId": "de3f8c66-5b45-48e4-de7b-a608dfc5e598"
      }
    },
    {
      "cell_type": "markdown",
      "source": [
        "## 3.4 Tipos de Sequências: fatiamento (\"slicing\")\n",
        "\n",
        "\n",
        "* Você pode retornar uma cópia da sequência (lista, tupla, string, ...) com um sub-conjunto dos elementos originais, usando uma notação de cólon (dois pontos).\n",
        "\n",
        "Note que ```tupla[inicio:fim]``` contém os elementos com índices ```i``` de forma que inicio <= i <= fim (i varia do inicio ao fim-1). Além disso, ```tupla[inicio:fim]``` contém (fim-inicio) elementos.\n",
        "\n",
        "> Sintaxe de corte:\n",
        "```python\n",
        "tupla[inicio:fim:incremento]\n",
        "``` \n",
        ">(o parâmetro incremento é opcional)"
      ],
      "metadata": {
        "id": "BLhEpy8KX5tU"
      }
    },
    {
      "cell_type": "code",
      "execution_count": 9,
      "source": [
        "tupla = (3, 'abc', 4.56, (2, 23), 'k')\n",
        "print (tupla[1:4])"
      ],
      "outputs": [
        {
          "output_type": "stream",
          "name": "stdout",
          "text": [
            "('abc', 4.56, (2, 23))\n"
          ]
        }
      ],
      "metadata": {
        "colab": {
          "base_uri": "https://localhost:8080/"
        },
        "id": "TE1_-R0OX5tU",
        "outputId": "fd646b0d-301a-4396-aed9-9c3dfc5989bc"
      }
    },
    {
      "cell_type": "code",
      "execution_count": 10,
      "source": [
        "print (tupla[1:-1])"
      ],
      "outputs": [
        {
          "output_type": "stream",
          "name": "stdout",
          "text": [
            "('abc', 4.56, (2, 23))\n"
          ]
        }
      ],
      "metadata": {
        "colab": {
          "base_uri": "https://localhost:8080/"
        },
        "id": "9tSU_iHYX5tU",
        "outputId": "ae44abf7-37b1-47e8-cbba-8f4e52e33357"
      }
    },
    {
      "cell_type": "markdown",
      "source": [
        "## 3.5 Tuplas Vs. Listas\n",
        "\n",
        "* **Listas** são mais lentas, porém mais poderosas do que as **tuplas**\n",
        "   * As **listas** podem ser modificadas e têm várias operações úteis que podemos fazer com elas (```reverse```, ```sort```, ```count```, ```remove```, ```index```, ```insert```, ...)\n",
        "   * As **tuplas** são imutáveis e têm menos funcionalidades.\n",
        "   \n",
        "   \n",
        "* Podemos converter listas e tuplas com as funções ```_list()_``` e ```_tuple()_```"
      ],
      "metadata": {
        "id": "N4lljYHCX5tV"
      }
    },
    {
      "cell_type": "code",
      "execution_count": 11,
      "source": [
        "list(tupla)"
      ],
      "outputs": [
        {
          "output_type": "execute_result",
          "data": {
            "text/plain": [
              "[3, 'abc', 4.56, (2, 23), 'k']"
            ]
          },
          "metadata": {},
          "execution_count": 11
        }
      ],
      "metadata": {
        "colab": {
          "base_uri": "https://localhost:8080/"
        },
        "id": "PVWw1RrwX5tV",
        "outputId": "b8271e13-64af-4890-8bb1-e27d5f2b2251"
      }
    },
    {
      "cell_type": "markdown",
      "source": [
        "## 3.6 Tipos de Sequências: Operadores\n",
        "\n",
        "A linguagem Python dispõe de vários operadores para auxiliar na manipulação de listas. \n",
        "\n",
        "\n",
        "### 3.6.1  Alterar sequências\n",
        "\n",
        "Podemos alterar uma sequência, usando o operador de acesso aos seus elementos a partir dos índices e alteramos o valor dele."
      ],
      "metadata": {
        "id": "9Y4fs3x4X5tV"
      }
    },
    {
      "cell_type": "code",
      "execution_count": 12,
      "source": [
        "lista = ['vermelho', 'azul', 'verde', 'preto', 'branco']\n",
        "lista[1] = 'cinza'\n",
        "lista"
      ],
      "outputs": [
        {
          "output_type": "execute_result",
          "data": {
            "text/plain": [
              "['vermelho', 'cinza', 'verde', 'preto', 'branco']"
            ]
          },
          "metadata": {},
          "execution_count": 12
        }
      ],
      "metadata": {
        "colab": {
          "base_uri": "https://localhost:8080/"
        },
        "id": "4FwYinBcX5tW",
        "outputId": "e6f4a1b3-79dc-4211-f259-a5731d8d630b"
      }
    },
    {
      "cell_type": "markdown",
      "source": [
        "Também podemos remover um item usando o operador de acesso"
      ],
      "metadata": {
        "id": "M1EH_O0bX5tW"
      }
    },
    {
      "cell_type": "code",
      "execution_count": 13,
      "source": [
        "lista = lista[:-2] #remove os dois últimos\n",
        "lista"
      ],
      "outputs": [
        {
          "output_type": "execute_result",
          "data": {
            "text/plain": [
              "['vermelho', 'cinza', 'verde']"
            ]
          },
          "metadata": {},
          "execution_count": 13
        }
      ],
      "metadata": {
        "colab": {
          "base_uri": "https://localhost:8080/"
        },
        "id": "I7q8GEYBX5tW",
        "outputId": "b3a90a3b-9bf9-4d0b-9a8d-80312d96fbff"
      }
    },
    {
      "cell_type": "markdown",
      "source": [
        "e també inverter a posição dos itens:"
      ],
      "metadata": {
        "id": "CcVnBFKhZaYI"
      }
    },
    {
      "cell_type": "code",
      "execution_count": 14,
      "source": [
        "outra_lista = lista[::-1] \n",
        "outra_lista"
      ],
      "outputs": [
        {
          "output_type": "execute_result",
          "data": {
            "text/plain": [
              "['verde', 'cinza', 'vermelho']"
            ]
          },
          "metadata": {},
          "execution_count": 14
        }
      ],
      "metadata": {
        "colab": {
          "base_uri": "https://localhost:8080/"
        },
        "id": "3uT0qCYVX5tX",
        "outputId": "22037bf2-dcc6-4e57-d906-0bb1e85e81f0"
      }
    },
    {
      "cell_type": "markdown",
      "source": [
        "### 3.6.2 Concatenar e repetir listas\n",
        "\n",
        "Também é possível concatenar listas por meio do operador de adição + e multiplicá-las por um inteiro, o que gerará várias cópias dos seus itens."
      ],
      "metadata": {
        "id": "cZQ04fy5X5tX"
      }
    },
    {
      "cell_type": "code",
      "execution_count": 15,
      "source": [
        "outra_lista = ['maçã', 'melancia', 'limão', 'abacate']\n",
        "outra_lista + lista"
      ],
      "outputs": [
        {
          "output_type": "execute_result",
          "data": {
            "text/plain": [
              "['maçã', 'melancia', 'limão', 'abacate', 'vermelho', 'cinza', 'verde']"
            ]
          },
          "metadata": {},
          "execution_count": 15
        }
      ],
      "metadata": {
        "colab": {
          "base_uri": "https://localhost:8080/"
        },
        "id": "g6D7R-e-X5tX",
        "outputId": "a7721d12-3eb7-40fa-ce1a-140b3de5edbf"
      }
    },
    {
      "cell_type": "code",
      "execution_count": 16,
      "source": [
        "outra_lista * 2"
      ],
      "outputs": [
        {
          "output_type": "execute_result",
          "data": {
            "text/plain": [
              "['maçã',\n",
              " 'melancia',\n",
              " 'limão',\n",
              " 'abacate',\n",
              " 'maçã',\n",
              " 'melancia',\n",
              " 'limão',\n",
              " 'abacate']"
            ]
          },
          "metadata": {},
          "execution_count": 16
        }
      ],
      "metadata": {
        "colab": {
          "base_uri": "https://localhost:8080/"
        },
        "id": "3sJO3dZeX5tY",
        "outputId": "9f646263-d406-427f-c71d-b62717aa70a6"
      }
    },
    {
      "cell_type": "markdown",
      "source": [
        "### 3.6.3 Verificando a existência de um elemento em uma sequência\n",
        "\n",
        "Em alguns casos é preciso verificar se um determinado valor está contido em uma sequência. Para isso, em Python utilizamos o operador ```in```, \n",
        "que indicará ```True``` se objeto pertencer ao conjunto, e ```False``` caso contrário. "
      ],
      "metadata": {
        "id": "DEJ-1Zx9X5tY"
      }
    },
    {
      "cell_type": "code",
      "execution_count": 17,
      "source": [
        "'branco' in outra_lista"
      ],
      "outputs": [
        {
          "output_type": "execute_result",
          "data": {
            "text/plain": [
              "False"
            ]
          },
          "metadata": {},
          "execution_count": 17
        }
      ],
      "metadata": {
        "colab": {
          "base_uri": "https://localhost:8080/"
        },
        "id": "4Cew7owSX5tY",
        "outputId": "bea2e581-6fb3-4fa5-f3e7-0053cb69ae99"
      }
    },
    {
      "cell_type": "code",
      "execution_count": 18,
      "source": [
        "'batata' in outra_lista"
      ],
      "outputs": [
        {
          "output_type": "execute_result",
          "data": {
            "text/plain": [
              "False"
            ]
          },
          "metadata": {},
          "execution_count": 18
        }
      ],
      "metadata": {
        "colab": {
          "base_uri": "https://localhost:8080/"
        },
        "id": "KoJ2EzN_X5tY",
        "outputId": "1b0b5093-6f8b-4719-eda3-d21731daa7bc"
      }
    },
    {
      "cell_type": "markdown",
      "source": [
        "## 3.7 Tipos de Sequências: Métodos\n",
        "\n",
        "Os operadores e funções que recebem uma sequência como argumento, retornam um resultado, mas não efetuam alterações na sua estrutura. \n",
        "\n",
        "Os métodos pertencentes as sequências, nos permitem incluir ou remover elementos, bem como classificar as sequência.\n",
        "\n",
        "\n",
        "### 3.7.1 ```append()```\n",
        "\n",
        "O primeiro método a ser analisado é o ```append()```, que tem por objetivo adicionar um novo elemento no final da sequência, conforme mostra o código abaixo:"
      ],
      "metadata": {
        "id": "VFvzn_WZX5tZ"
      }
    },
    {
      "cell_type": "code",
      "execution_count": 19,
      "source": [
        "lista.append('rosa')\n",
        "lista"
      ],
      "outputs": [
        {
          "output_type": "execute_result",
          "data": {
            "text/plain": [
              "['vermelho', 'cinza', 'verde', 'rosa']"
            ]
          },
          "metadata": {},
          "execution_count": 19
        }
      ],
      "metadata": {
        "colab": {
          "base_uri": "https://localhost:8080/"
        },
        "id": "BdZbv_eAX5tZ",
        "outputId": "38c72cf6-7aa4-4851-c09a-878b22b4653d"
      }
    },
    {
      "cell_type": "markdown",
      "source": [
        "### 3.7.2 ```insert()```\n",
        "\n",
        "Outra forma de adicionarmos elementos em uma sequência, é através do método ```insert()```. \n",
        "\n",
        "Ele usa dois parâmetros: \n",
        "* o primeiro para indicar a posição da sequência em que o elemento será inserido\n",
        "* o segundo para informar o elemento a ser adicionado na sequência."
      ],
      "metadata": {
        "id": "tZno_fw7X5tZ"
      }
    },
    {
      "cell_type": "code",
      "execution_count": 20,
      "source": [
        "lista.insert(2, 'marrom')\n",
        "lista"
      ],
      "outputs": [
        {
          "output_type": "execute_result",
          "data": {
            "text/plain": [
              "['vermelho', 'cinza', 'marrom', 'verde', 'rosa']"
            ]
          },
          "metadata": {},
          "execution_count": 20
        }
      ],
      "metadata": {
        "colab": {
          "base_uri": "https://localhost:8080/"
        },
        "id": "G0H72UP_X5tZ",
        "outputId": "a2ffdab6-23e4-4a50-c407-8be7fd16a4ee"
      }
    },
    {
      "cell_type": "markdown",
      "source": [
        "### 3.7.3 ```pop()```\n",
        "\n",
        "Remove o último item da sequência e o retorna como resultado da operação. Também podemos escolher o índice do elemento que queremos remover."
      ],
      "metadata": {
        "id": "FvmKIlXrX5ta"
      }
    },
    {
      "cell_type": "code",
      "execution_count": 21,
      "source": [
        "lista.pop() # remove o último item\n",
        "lista"
      ],
      "outputs": [
        {
          "output_type": "execute_result",
          "data": {
            "text/plain": [
              "['vermelho', 'cinza', 'marrom', 'verde']"
            ]
          },
          "metadata": {},
          "execution_count": 21
        }
      ],
      "metadata": {
        "colab": {
          "base_uri": "https://localhost:8080/"
        },
        "id": "gi_TVsDNX5ta",
        "outputId": "0c07be3b-fee4-4a3e-aba5-3b82384ea0c0"
      }
    },
    {
      "cell_type": "markdown",
      "source": [
        "### 3.7.4 ```remove()```\n",
        "\n",
        "O método ```remove()``` remove a primeira ocorrência do elemento passado como parâmetro."
      ],
      "metadata": {
        "id": "p6x6Uic1X5ta"
      }
    },
    {
      "cell_type": "code",
      "execution_count": 22,
      "source": [
        "lista.remove('cinza')\n",
        "lista"
      ],
      "outputs": [
        {
          "output_type": "execute_result",
          "data": {
            "text/plain": [
              "['vermelho', 'marrom', 'verde']"
            ]
          },
          "metadata": {},
          "execution_count": 22
        }
      ],
      "metadata": {
        "colab": {
          "base_uri": "https://localhost:8080/"
        },
        "id": "FVV62ssZX5ta",
        "outputId": "5fc10d22-3504-42f6-e183-5844405227be"
      }
    },
    {
      "cell_type": "markdown",
      "source": [
        "### 3.7.5 ```extend()```\n",
        "\n",
        "Este método expande a sequência acrescentando no final."
      ],
      "metadata": {
        "id": "wZG68gxcX5tb"
      }
    },
    {
      "cell_type": "code",
      "execution_count": 23,
      "source": [
        "lista.extend(['rosa', 'roxo'])\n",
        "lista"
      ],
      "outputs": [
        {
          "output_type": "execute_result",
          "data": {
            "text/plain": [
              "['vermelho', 'marrom', 'verde', 'rosa', 'roxo']"
            ]
          },
          "metadata": {},
          "execution_count": 23
        }
      ],
      "metadata": {
        "colab": {
          "base_uri": "https://localhost:8080/"
        },
        "id": "wEP3B-yjX5tb",
        "outputId": "461d69cd-270a-41c0-fbfb-ffa4498230d1"
      }
    },
    {
      "cell_type": "markdown",
      "source": [
        "### 3.7.6 ```reverse()```\n",
        "\n",
        "Inverte a posição dos elementos"
      ],
      "metadata": {
        "id": "UKvDP0cVX5tb"
      }
    },
    {
      "cell_type": "code",
      "execution_count": 24,
      "source": [
        "outra_lista.reverse()\n",
        "outra_lista"
      ],
      "outputs": [
        {
          "output_type": "execute_result",
          "data": {
            "text/plain": [
              "['abacate', 'limão', 'melancia', 'maçã']"
            ]
          },
          "metadata": {},
          "execution_count": 24
        }
      ],
      "metadata": {
        "colab": {
          "base_uri": "https://localhost:8080/"
        },
        "id": "_CIMBKq5X5tb",
        "outputId": "e2e5ca18-077d-4948-e8e6-4c41564ed4cf"
      }
    },
    {
      "cell_type": "markdown",
      "source": [
        "### 3.7.7 ```sort()```\n",
        "\n",
        "O método ```sort``` ordena a sequência"
      ],
      "metadata": {
        "id": "tSBxZ1P0X5tc"
      }
    },
    {
      "cell_type": "code",
      "execution_count": 25,
      "source": [
        "outra_lista.sort() # modifica o objeto\n",
        "outra_lista"
      ],
      "outputs": [
        {
          "output_type": "execute_result",
          "data": {
            "text/plain": [
              "['abacate', 'limão', 'maçã', 'melancia']"
            ]
          },
          "metadata": {},
          "execution_count": 25
        }
      ],
      "metadata": {
        "colab": {
          "base_uri": "https://localhost:8080/"
        },
        "id": "-DY4ClyLX5td",
        "outputId": "ccb93399-b976-48b6-b8f3-3c4a49f98dc2"
      }
    },
    {
      "cell_type": "markdown",
      "source": [
        "### 3.7.8 ```count()```\n",
        "\n",
        "Retorna o número de ocorrências de determinado objeto, passado como parâmetro, em uma sequência."
      ],
      "metadata": {
        "id": "sBq8S1_nX5td"
      }
    },
    {
      "cell_type": "code",
      "execution_count": 26,
      "source": [
        "outra_lista.count('branco')"
      ],
      "outputs": [
        {
          "output_type": "execute_result",
          "data": {
            "text/plain": [
              "0"
            ]
          },
          "metadata": {},
          "execution_count": 26
        }
      ],
      "metadata": {
        "colab": {
          "base_uri": "https://localhost:8080/"
        },
        "id": "tNS4SIvPX5td",
        "outputId": "5885f0e3-c38f-4ce7-9c55-d9bd0446dd87"
      }
    },
    {
      "cell_type": "markdown",
      "source": [
        "## 3.8 Tipos de Sequências: Funções\n",
        "\n",
        "\n",
        "O Python conta com funções úteis quando se trabalha com sequências. Vejamos algumas delas:\n",
        "\n",
        "## 3.8.1 ```min()``` e ```max()```\n",
        "\n",
        "A função ```min()``` retorna o menor valor de uma sequência, e ```max()``` o maior valor. Caso a sequência contenha ```strings```, as funçõs trabalham com comparações alfabéticas."
      ],
      "metadata": {
        "id": "W-dXQMQhX5td"
      }
    },
    {
      "cell_type": "code",
      "execution_count": 27,
      "source": [
        "numeros = [15, 5, 0, 20, 10]\n",
        "nomes = ['Caio', 'Alex', 'Renata', 'Patrícia', 'Bruno']\n",
        "\n",
        "print(min(numeros))\n",
        "print(max(numeros))\n",
        "print(min(nomes))\n",
        "print(max(nomes))"
      ],
      "outputs": [
        {
          "output_type": "stream",
          "name": "stdout",
          "text": [
            "0\n",
            "20\n",
            "Alex\n",
            "Renata\n"
          ]
        }
      ],
      "metadata": {
        "colab": {
          "base_uri": "https://localhost:8080/"
        },
        "id": "eXZi3eBdX5te",
        "outputId": "64de38ff-1dc1-4728-e912-a248b6e9c869"
      }
    },
    {
      "cell_type": "markdown",
      "source": [
        "## 3.8.2 ```sum()```\n",
        "\n",
        "Retorna a soma de todos os elementos da sequência. "
      ],
      "metadata": {
        "id": "A62pnBrLX5tf"
      }
    },
    {
      "cell_type": "code",
      "execution_count": 28,
      "source": [
        "print(sum(numeros))"
      ],
      "outputs": [
        {
          "output_type": "stream",
          "name": "stdout",
          "text": [
            "50\n"
          ]
        }
      ],
      "metadata": {
        "colab": {
          "base_uri": "https://localhost:8080/"
        },
        "id": "jcGqYki_X5tf",
        "outputId": "7443ad80-cb9f-4edd-f047-f849acf22fc5"
      }
    },
    {
      "cell_type": "markdown",
      "source": [
        "Essa função não trabalha com ```strings```, pois não é tipo suportado por ela.\n",
        "\n",
        "```python\n",
        "print(sum(nomes))\n",
        "```\n",
        "\n",
        "```python\n",
        "---------------------------------------------------------------------------\n",
        "TypeError                                 Traceback (most recent call last)\n",
        "<ipython-input-107-401149b906ef> in <module>()\n",
        "----> 1 print(sum(nomes))\n",
        "\n",
        "TypeError: unsupported operand type(s) for +: 'int' and 'str'\n",
        "```\n"
      ],
      "metadata": {
        "id": "l-JbISRYfmNN"
      }
    },
    {
      "cell_type": "markdown",
      "source": [
        "## 3.8.3 ```len()```\n",
        "\n",
        "A função ```len()``` é bastante usada em Python para retornar o tamanho de um objeto. \n",
        "Quando usada com sequências, retorna o total de elementos que a coleção possui."
      ],
      "metadata": {
        "id": "qhdDOMcvX5tf"
      }
    },
    {
      "cell_type": "code",
      "execution_count": 29,
      "source": [
        "paises = ['Argentina', 'Brasil', 'Colômbia', 'Uruguai']\n",
        "\n",
        "print(len(paises))"
      ],
      "outputs": [
        {
          "output_type": "stream",
          "name": "stdout",
          "text": [
            "4\n"
          ]
        }
      ],
      "metadata": {
        "colab": {
          "base_uri": "https://localhost:8080/"
        },
        "id": "KxwfhXVrX5tg",
        "outputId": "fd20e4a7-061a-41c5-b555-19a68bf5deeb"
      }
    },
    {
      "cell_type": "markdown",
      "source": [
        "Essa função é de grande utilidade, pois pode ser usada em diversas situações, como nas estruturas condicionais e em laços de repetição por exemplo."
      ],
      "metadata": {
        "id": "KXo6Lg_zX5tg"
      }
    },
    {
      "cell_type": "markdown",
      "source": [
        "## 3.8.4 ```type()```\n",
        "\n",
        "Com a função ```type()``` podemos obter o tipo do objeto passado no parâmetro."
      ],
      "metadata": {
        "id": "zRgiDBnLX5tg"
      }
    },
    {
      "cell_type": "code",
      "execution_count": 30,
      "source": [
        "professores = ['Carla', 'Daniel', 'Ingrid', 'Roberto']\n",
        "estacoes = ('Primavera', 'Verão', 'Outono', 'Inverno')\n",
        "cliente = {\n",
        "    'Nome': 'Fábio Garcia',\n",
        "    'email' : 'fabio_garcia_9@outlook.com'\n",
        "}\n",
        "\n",
        "print(type(professores)) # list\n",
        "print(type(estacoes)) # tuple\n",
        "print(type(cliente)) # dict"
      ],
      "outputs": [
        {
          "output_type": "stream",
          "name": "stdout",
          "text": [
            "<class 'list'>\n",
            "<class 'tuple'>\n",
            "<class 'dict'>\n"
          ]
        }
      ],
      "metadata": {
        "colab": {
          "base_uri": "https://localhost:8080/"
        },
        "id": "vaLpgicrX5tg",
        "outputId": "a6ae8cb4-0264-4d5f-c8df-5e1af4ccbd45"
      }
    },
    {
      "cell_type": "markdown",
      "source": [
        "## 3.9 Métodos de strings comuns\n",
        "\n",
        "### Checagem\n",
        "\n",
        "* ```endswith```, ```startswith```"
      ],
      "metadata": {
        "id": "dI1l5Q1QX5tg"
      }
    },
    {
      "cell_type": "code",
      "execution_count": 31,
      "source": [
        "'hello world'.startswith('he')"
      ],
      "outputs": [
        {
          "output_type": "execute_result",
          "data": {
            "text/plain": [
              "True"
            ]
          },
          "metadata": {},
          "execution_count": 31
        }
      ],
      "metadata": {
        "colab": {
          "base_uri": "https://localhost:8080/"
        },
        "id": "r6TgCkp8X5th",
        "outputId": "cf575e90-9b36-4c90-a6ca-a1a71c97b4dd"
      }
    },
    {
      "cell_type": "markdown",
      "source": [
        "* ```isalnum```, ```isalpha```, ```isdigit```, ```islower```, ```isupper```, ```isspace```"
      ],
      "metadata": {
        "id": "L41vFnAlX5th"
      }
    },
    {
      "cell_type": "code",
      "execution_count": 32,
      "source": [
        "'123'.isdigit()"
      ],
      "outputs": [
        {
          "output_type": "execute_result",
          "data": {
            "text/plain": [
              "True"
            ]
          },
          "metadata": {},
          "execution_count": 32
        }
      ],
      "metadata": {
        "colab": {
          "base_uri": "https://localhost:8080/"
        },
        "id": "r06UDl23X5th",
        "outputId": "5e7e538d-eedb-4764-bbb6-7e777472ccfc"
      }
    },
    {
      "cell_type": "code",
      "execution_count": 33,
      "source": [
        "'Hello World'.islower()"
      ],
      "outputs": [
        {
          "output_type": "execute_result",
          "data": {
            "text/plain": [
              "False"
            ]
          },
          "metadata": {},
          "execution_count": 33
        }
      ],
      "metadata": {
        "colab": {
          "base_uri": "https://localhost:8080/"
        },
        "id": "cRh__g9OX5th",
        "outputId": "09ac082d-bcfa-46ce-b81c-37afa56ea2db"
      }
    },
    {
      "cell_type": "markdown",
      "source": [
        "### Pesquisas\n",
        "\n",
        "* ```count```"
      ],
      "metadata": {
        "id": "Yl-7e5rwX5ti"
      }
    },
    {
      "cell_type": "code",
      "execution_count": 34,
      "source": [
        "'hello world'.count('l')"
      ],
      "outputs": [
        {
          "output_type": "execute_result",
          "data": {
            "text/plain": [
              "3"
            ]
          },
          "metadata": {},
          "execution_count": 34
        }
      ],
      "metadata": {
        "colab": {
          "base_uri": "https://localhost:8080/"
        },
        "id": "4MttTxpuX5ti",
        "outputId": "686d8897-30e6-4b20-ded1-18344f33bbb3"
      }
    },
    {
      "cell_type": "markdown",
      "source": [
        "* ```find```"
      ],
      "metadata": {
        "id": "wj-GjvjLX5ti"
      }
    },
    {
      "cell_type": "code",
      "execution_count": 35,
      "source": [
        "'hello world'.find('l')"
      ],
      "outputs": [
        {
          "output_type": "execute_result",
          "data": {
            "text/plain": [
              "2"
            ]
          },
          "metadata": {},
          "execution_count": 35
        }
      ],
      "metadata": {
        "colab": {
          "base_uri": "https://localhost:8080/"
        },
        "id": "YH9F1a2WX5ti",
        "outputId": "6608b446-c9e4-49a4-9cc5-4487f0f7c301"
      }
    },
    {
      "cell_type": "code",
      "execution_count": 36,
      "source": [
        "'hello world'.find('t')"
      ],
      "outputs": [
        {
          "output_type": "execute_result",
          "data": {
            "text/plain": [
              "-1"
            ]
          },
          "metadata": {},
          "execution_count": 36
        }
      ],
      "metadata": {
        "colab": {
          "base_uri": "https://localhost:8080/"
        },
        "id": "CdEdvvOKX5ti",
        "outputId": "887a3fd1-6906-44d7-dc58-9c139ceaa9e2"
      }
    },
    {
      "cell_type": "markdown",
      "source": [
        "### Manipulações\n",
        "\n",
        "Esteja atento, porque ```str``` é um tipo imutável. Todos os métodos abaixo retornam uma nova ```string```."
      ],
      "metadata": {
        "id": "hZssl3gMX5ti"
      }
    },
    {
      "cell_type": "markdown",
      "source": [
        "* ```lower```, ```upper``` , ```title``` , ```capitalize``` , ```swapcase```"
      ],
      "metadata": {
        "id": "pe-CfL2ZX5tj"
      }
    },
    {
      "cell_type": "code",
      "execution_count": 37,
      "source": [
        "'hello world'.title()"
      ],
      "outputs": [
        {
          "output_type": "execute_result",
          "data": {
            "text/plain": [
              "'Hello World'"
            ]
          },
          "metadata": {},
          "execution_count": 37
        }
      ],
      "metadata": {
        "colab": {
          "base_uri": "https://localhost:8080/",
          "height": 35
        },
        "id": "0sVdDp21X5tj",
        "outputId": "e7c5c54d-a621-405f-f7cb-e45abf5bcbce"
      }
    },
    {
      "cell_type": "code",
      "execution_count": 38,
      "source": [
        "'hello world'.capitalize()"
      ],
      "outputs": [
        {
          "output_type": "execute_result",
          "data": {
            "text/plain": [
              "'Hello world'"
            ]
          },
          "metadata": {},
          "execution_count": 38
        }
      ],
      "metadata": {
        "colab": {
          "base_uri": "https://localhost:8080/",
          "height": 35
        },
        "id": "j-gnZaljX5tj",
        "outputId": "f2826373-898e-48d6-998e-992911e24526"
      }
    },
    {
      "cell_type": "markdown",
      "source": [
        "* ```replace```"
      ],
      "metadata": {
        "id": "ay8EeNJzX5tj"
      }
    },
    {
      "cell_type": "code",
      "execution_count": 39,
      "source": [
        "'hello world'.replace('world', 'john')"
      ],
      "outputs": [
        {
          "output_type": "execute_result",
          "data": {
            "text/plain": [
              "'hello john'"
            ]
          },
          "metadata": {},
          "execution_count": 39
        }
      ],
      "metadata": {
        "colab": {
          "base_uri": "https://localhost:8080/",
          "height": 35
        },
        "id": "Gi2Ug2a_X5tj",
        "outputId": "87a38461-e30d-4a42-f8ff-113e24c788cd"
      }
    },
    {
      "cell_type": "markdown",
      "source": [
        "* ```strip```, ```rstrip```, ```lstrip``` - remove espaços e nova linha no fim da ```string```:"
      ],
      "metadata": {
        "id": "7IoFkCFXX5tj"
      }
    },
    {
      "cell_type": "code",
      "execution_count": 40,
      "source": [
        "'     hello!    \\n'.strip()"
      ],
      "outputs": [
        {
          "output_type": "execute_result",
          "data": {
            "text/plain": [
              "'hello!'"
            ]
          },
          "metadata": {},
          "execution_count": 40
        }
      ],
      "metadata": {
        "colab": {
          "base_uri": "https://localhost:8080/",
          "height": 35
        },
        "id": "wu5Zc-X5X5tk",
        "outputId": "5d924aba-1f9e-4444-d9c2-30cfe3f207c2"
      }
    },
    {
      "cell_type": "markdown",
      "source": [
        "## Substituição na string"
      ],
      "metadata": {
        "id": "Ff4ww981X5tk"
      }
    },
    {
      "cell_type": "code",
      "execution_count": 41,
      "source": [
        "'Um inteiro: %i; um float: %f; outra string: %s' % (1, 0.1, 'string')\n",
        "i = 102\n",
        "filename = 'processing_of_dataset_%d.txt' % i\n",
        "filename"
      ],
      "outputs": [
        {
          "output_type": "execute_result",
          "data": {
            "text/plain": [
              "'processing_of_dataset_102.txt'"
            ]
          },
          "metadata": {},
          "execution_count": 41
        }
      ],
      "metadata": {
        "colab": {
          "base_uri": "https://localhost:8080/",
          "height": 35
        },
        "id": "YQ_2Ip6OX5tk",
        "outputId": "76633d12-b880-4f64-e72a-e4e68423a641"
      }
    },
    {
      "cell_type": "markdown",
      "source": [
        "## 3.8 Mais um tipo de dados: dicionários\n",
        "\n",
        "* Dicionários são containers que armazenam um **mapeamento** entre um conjunto de ```_chaves_``` (keys) e um conjunto de ```_valores_```\n",
        "   * Chaves podem ser qualquer tipo **imutável**.\n",
        "   * Valores podem ser qualquer tipo.\n",
        "   * Um único dicionário pode guardar valores de tipos diferentes.\n",
        "   \n",
        "   \n",
        "* O usuário pode modificar, ver, procurar e deletar o par chave-valor no dicionário."
      ],
      "metadata": {
        "id": "SKQYpKXQX5tk"
      }
    },
    {
      "cell_type": "markdown",
      "source": [
        "### 3.8.1 Exemplos de dicionários\n"
      ],
      "metadata": {
        "id": "CkSBPWhsX5tk"
      }
    },
    {
      "cell_type": "code",
      "execution_count": 42,
      "source": [
        "dicio = {'user': 'bozo', 'pwd': 1234}          # criação de um dicionário\n",
        "dicio['user']"
      ],
      "outputs": [
        {
          "output_type": "execute_result",
          "data": {
            "text/plain": [
              "'bozo'"
            ]
          },
          "metadata": {},
          "execution_count": 42
        }
      ],
      "metadata": {
        "colab": {
          "base_uri": "https://localhost:8080/",
          "height": 35
        },
        "id": "q4J9ukp4X5tk",
        "outputId": "442415a8-5c8d-482f-c5d1-37b2aa36fa52"
      }
    },
    {
      "cell_type": "code",
      "execution_count": 43,
      "source": [
        "dicio['pwd']"
      ],
      "outputs": [
        {
          "output_type": "execute_result",
          "data": {
            "text/plain": [
              "1234"
            ]
          },
          "metadata": {},
          "execution_count": 43
        }
      ],
      "metadata": {
        "colab": {
          "base_uri": "https://localhost:8080/"
        },
        "id": "ZkIxY6R2X5tl",
        "outputId": "7e217adc-433b-4263-be07-3b08c4f7880b"
      }
    },
    {
      "cell_type": "markdown",
      "source": [
        "Acessando elementos que não estão no dicionário \n",
        "\n",
        "```python\n",
        "dicio['bozo']\n",
        "```\n",
        "\n",
        "```python\n",
        "---------------------------------------------------------------------------\n",
        "KeyError                                  Traceback (most recent call last)\n",
        "<ipython-input-194-9ccf1a9ebe8a> in <module>()\n",
        "----> 1 dicio['bozo']\n",
        "\n",
        "KeyError: 'bozo'\n",
        "```"
      ],
      "metadata": {
        "id": "f1U0RiJkgLIy"
      }
    },
    {
      "cell_type": "code",
      "execution_count": 44,
      "source": [
        "print (dicio)"
      ],
      "outputs": [
        {
          "output_type": "stream",
          "name": "stdout",
          "text": [
            "{'user': 'bozo', 'pwd': 1234}\n"
          ]
        }
      ],
      "metadata": {
        "colab": {
          "base_uri": "https://localhost:8080/"
        },
        "id": "iSkrd3sVX5tl",
        "outputId": "152438b9-6d2c-467e-ab53-207d2dff0831"
      }
    },
    {
      "cell_type": "code",
      "execution_count": 45,
      "source": [
        "dicio['user'] = 'clown'\n",
        "dicio"
      ],
      "outputs": [
        {
          "output_type": "execute_result",
          "data": {
            "text/plain": [
              "{'user': 'clown', 'pwd': 1234}"
            ]
          },
          "metadata": {},
          "execution_count": 45
        }
      ],
      "metadata": {
        "colab": {
          "base_uri": "https://localhost:8080/"
        },
        "id": "oiFkmQztX5tl",
        "outputId": "51b9c715-d8b8-4d9b-df13-e989b11a9168"
      }
    },
    {
      "cell_type": "code",
      "execution_count": 46,
      "source": [
        "dicio['id'] = 45\n",
        "dicio"
      ],
      "outputs": [
        {
          "output_type": "execute_result",
          "data": {
            "text/plain": [
              "{'user': 'clown', 'pwd': 1234, 'id': 45}"
            ]
          },
          "metadata": {},
          "execution_count": 46
        }
      ],
      "metadata": {
        "colab": {
          "base_uri": "https://localhost:8080/"
        },
        "id": "0ZGl4IGKX5tl",
        "outputId": "ce66e2f3-7246-4da9-f591-5a5de2a8c18c"
      }
    },
    {
      "cell_type": "code",
      "execution_count": 47,
      "source": [
        "dicio.clear()               # remover todos os ítens do dicionário\n",
        "dicio"
      ],
      "outputs": [
        {
          "output_type": "execute_result",
          "data": {
            "text/plain": [
              "{}"
            ]
          },
          "metadata": {},
          "execution_count": 47
        }
      ],
      "metadata": {
        "colab": {
          "base_uri": "https://localhost:8080/"
        },
        "id": "puXFwKXEX5tm",
        "outputId": "9ab72732-70c1-4072-c4b3-c54a96cd1800"
      }
    },
    {
      "cell_type": "code",
      "execution_count": 48,
      "source": [
        "dicio = {'user': {'bozo': 0}, 'p': 1234, 'i': 34}\n",
        "dicio.keys() "
      ],
      "outputs": [
        {
          "output_type": "execute_result",
          "data": {
            "text/plain": [
              "dict_keys(['user', 'p', 'i'])"
            ]
          },
          "metadata": {},
          "execution_count": 48
        }
      ],
      "metadata": {
        "colab": {
          "base_uri": "https://localhost:8080/"
        },
        "id": "tnTDT-2uX5tm",
        "outputId": "60fd41f6-4269-4865-a735-86cdd57cd27a"
      }
    },
    {
      "cell_type": "code",
      "execution_count": 49,
      "source": [
        "dicio.values() "
      ],
      "outputs": [
        {
          "output_type": "execute_result",
          "data": {
            "text/plain": [
              "dict_values([{'bozo': 0}, 1234, 34])"
            ]
          },
          "metadata": {},
          "execution_count": 49
        }
      ],
      "metadata": {
        "colab": {
          "base_uri": "https://localhost:8080/"
        },
        "id": "9Ra9BaakX5tm",
        "outputId": "880107ee-510c-4bce-f64d-b70b8403c5ce"
      }
    },
    {
      "cell_type": "code",
      "execution_count": 50,
      "source": [
        "dicio.items()"
      ],
      "outputs": [
        {
          "output_type": "execute_result",
          "data": {
            "text/plain": [
              "dict_items([('user', {'bozo': 0}), ('p', 1234), ('i', 34)])"
            ]
          },
          "metadata": {},
          "execution_count": 50
        }
      ],
      "metadata": {
        "colab": {
          "base_uri": "https://localhost:8080/"
        },
        "id": "t1QrxVaoX5tm",
        "outputId": "ee6a893f-b336-41f1-d90d-7a54154064fe"
      }
    },
    {
      "cell_type": "markdown",
      "source": [
        "## 3.9 Operador de Atribuição\n",
        "\n",
        "\n",
        "A biblioteca de referência do Python diz o seguinte:\n",
        "\n",
        "> Instruções de atribuição são utilizadas para ligar (religar) nomes a valores e para modificar os atributos ou elementos de objetos mutáveis"
      ],
      "metadata": {
        "id": "ccMBKNowX5tn"
      }
    },
    {
      "cell_type": "markdown",
      "source": [
        "Basicamente, isso funciona da seguinte maneira (atribuição simples):\n",
        "\n",
        "* Uma expressão no lado direito é avaliada, o objeto correspondente é criado ou obtido;\n",
        "* Um nome, no lado esquerdo é atribuído, ou ligado, para o objeto do lado direito.\n",
        "\n",
        "Observação:\n",
        "\n",
        "Um simples objeto pode ter diversos nomes conectados a ele, execute os códigos abaixo e preste atenção no resultado:"
      ],
      "metadata": {
        "id": "86ni5BgeX5tn"
      }
    },
    {
      "cell_type": "code",
      "execution_count": 51,
      "source": [
        "a = [1, 2, 3]\n",
        "b = a\n",
        "a\n",
        "b\n",
        "a is b\n",
        "b[1] = 'oi!'\n",
        "a"
      ],
      "outputs": [
        {
          "output_type": "execute_result",
          "data": {
            "text/plain": [
              "[1, 'oi!', 3]"
            ]
          },
          "metadata": {},
          "execution_count": 51
        }
      ],
      "metadata": {
        "colab": {
          "base_uri": "https://localhost:8080/"
        },
        "id": "fdI3OciIX5tn",
        "outputId": "059248c9-ca28-4789-91ed-82447306d62c"
      }
    },
    {
      "cell_type": "markdown",
      "source": [
        "Notem que para mudar uma lista na lista, utilize o índice ou o corte:"
      ],
      "metadata": {
        "id": "VWXeWhQNX5tn"
      }
    },
    {
      "cell_type": "code",
      "execution_count": 52,
      "source": [
        "a = [1, 2, 3]\n",
        "print(a)\n",
        "a = ['a', 'b', 'c'] # Cria outro objeto\n",
        "print(a)\n",
        "print(id(a))\n",
        "a[:] = [1, 2, 3] # Modifica o objeto\n",
        "print(a)\n",
        "print(id(a))"
      ],
      "outputs": [
        {
          "output_type": "stream",
          "name": "stdout",
          "text": [
            "[1, 2, 3]\n",
            "['a', 'b', 'c']\n",
            "4385979392\n",
            "[1, 2, 3]\n",
            "4385979392\n"
          ]
        }
      ],
      "metadata": {
        "colab": {
          "base_uri": "https://localhost:8080/"
        },
        "id": "Xfxg8PA3X5tn",
        "outputId": "d82072cd-e741-46e5-9b87-f56cbe14e90e"
      }
    },
    {
      "cell_type": "markdown",
      "source": [
        "Observe que mesmo sendo diferentes o primeiro a do segundo, eles possuem a mesma identificação.\n",
        "\n",
        "O conceito chave aqui é mutável x imutável:\n",
        "\n",
        "* Objetos mutáveis podem ser modificados;\n",
        "* Objetos imutáveis não podem mais ser modificados após serem criados."
      ],
      "metadata": {
        "id": "Fo6VT7B1X5to"
      }
    },
    {
      "cell_type": "markdown",
      "source": [
        "<p id=\"nav-felt\" style=\"possition:relative; width:50%; float:left;\"><a href=\"2-tipos-dados_python.ipynb\">&lt;&lt; Anterior: 2. Tipos de dados</a></p>\n",
        "<p id=\"nav-right\" style=\"possition:relative; width:45%; float:left; text-align:right;\"><a href=\"4-fluxo-execucao_python.ipynb\">Próximo: 4. Fluxo de execução  &gt;&gt;</a></p>"
      ],
      "metadata": {
        "id": "X9Uh0wRXX5to"
      }
    }
  ]
}