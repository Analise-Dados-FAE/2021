{
  "nbformat": 4,
  "nbformat_minor": 0,
  "metadata": {
    "kernelspec": {
      "name": "python3",
      "display_name": "Python 3.9.2 64-bit ('root-python-env': conda)"
    },
    "language_info": {
      "codemirror_mode": {
        "name": "ipython",
        "version": 3
      },
      "file_extension": ".py",
      "mimetype": "text/x-python",
      "name": "python",
      "nbconvert_exporter": "python",
      "pygments_lexer": "ipython3",
      "version": "3.9.2"
    },
    "interpreter": {
      "hash": "335436fdd3b76d4f3727a636fd436c7d3c5aef570f332174c0978c1012c03da9"
    },
    "colab": {
      "name": "1-introducao_python.ipynb",
      "provenance": [],
      "collapsed_sections": []
    }
  },
  "cells": [
    {
      "cell_type": "markdown",
      "metadata": {
        "id": "RMLzC6w0R5HM"
      },
      "source": [
        "# 1. O básico do Python\n",
        "\n",
        "O interpretador do Python possui várias funções e tipos embutidos que sempre estão disponíveis, você encontra a lista delas nesse link:\n",
        "\n",
        "https://docs.python.org/pt-br/3/library/functions.html\n",
        "\n"
      ]
    },
    {
      "cell_type": "markdown",
      "metadata": {
        "id": "u3jx7w4X_S4a"
      },
      "source": [
        "## 1.1 Funções HELP e DIR\n",
        "\n",
        "O interpretador do Python possui várias funções e tipos embutidos que sempre estão disponíveis, e as funções ```dir``` e ```help``` no Python são de grande ajuda, não somente para iniciantes como também para quem já programa em python. \n",
        "Essas funções nos ajudam a obter informações sobre determinados tipos, classes ou funções.\n",
        "\n",
        "### DIR\n",
        "O ```dir()``` retorna todas as propriedades e métodos do objeto especificado. Vamos tentar entender através de exemplos:"
      ]
    },
    {
      "cell_type": "code",
      "metadata": {
        "colab": {
          "base_uri": "https://localhost:8080/"
        },
        "id": "rDiM3R56_S4b",
        "outputId": "91c4c220-36a4-4d32-de46-a00d3bb6ce63"
      },
      "source": [
        "dir(int)"
      ],
      "execution_count": null,
      "outputs": [
        {
          "output_type": "execute_result",
          "data": {
            "text/plain": [
              "['__abs__',\n",
              " '__add__',\n",
              " '__and__',\n",
              " '__bool__',\n",
              " '__ceil__',\n",
              " '__class__',\n",
              " '__delattr__',\n",
              " '__dir__',\n",
              " '__divmod__',\n",
              " '__doc__',\n",
              " '__eq__',\n",
              " '__float__',\n",
              " '__floor__',\n",
              " '__floordiv__',\n",
              " '__format__',\n",
              " '__ge__',\n",
              " '__getattribute__',\n",
              " '__getnewargs__',\n",
              " '__gt__',\n",
              " '__hash__',\n",
              " '__index__',\n",
              " '__init__',\n",
              " '__init_subclass__',\n",
              " '__int__',\n",
              " '__invert__',\n",
              " '__le__',\n",
              " '__lshift__',\n",
              " '__lt__',\n",
              " '__mod__',\n",
              " '__mul__',\n",
              " '__ne__',\n",
              " '__neg__',\n",
              " '__new__',\n",
              " '__or__',\n",
              " '__pos__',\n",
              " '__pow__',\n",
              " '__radd__',\n",
              " '__rand__',\n",
              " '__rdivmod__',\n",
              " '__reduce__',\n",
              " '__reduce_ex__',\n",
              " '__repr__',\n",
              " '__rfloordiv__',\n",
              " '__rlshift__',\n",
              " '__rmod__',\n",
              " '__rmul__',\n",
              " '__ror__',\n",
              " '__round__',\n",
              " '__rpow__',\n",
              " '__rrshift__',\n",
              " '__rshift__',\n",
              " '__rsub__',\n",
              " '__rtruediv__',\n",
              " '__rxor__',\n",
              " '__setattr__',\n",
              " '__sizeof__',\n",
              " '__str__',\n",
              " '__sub__',\n",
              " '__subclasshook__',\n",
              " '__truediv__',\n",
              " '__trunc__',\n",
              " '__xor__',\n",
              " 'bit_length',\n",
              " 'conjugate',\n",
              " 'denominator',\n",
              " 'from_bytes',\n",
              " 'imag',\n",
              " 'numerator',\n",
              " 'real',\n",
              " 'to_bytes']"
            ]
          },
          "metadata": {
            "tags": []
          },
          "execution_count": 1
        }
      ]
    },
    {
      "cell_type": "markdown",
      "metadata": {
        "id": "c_YQbon7_S4e"
      },
      "source": [
        "Ou, caso você tenha importado uma biblioteca, poderá saber quais métodos ela implementa:"
      ]
    },
    {
      "cell_type": "code",
      "metadata": {
        "colab": {
          "base_uri": "https://localhost:8080/"
        },
        "id": "U0NIQi-N_S4f",
        "outputId": "d120d615-c471-422f-971a-7e3fca019947"
      },
      "source": [
        "import math as ma\n",
        "\n",
        "dir(ma)"
      ],
      "execution_count": null,
      "outputs": [
        {
          "output_type": "execute_result",
          "data": {
            "text/plain": [
              "['__doc__',\n",
              " '__loader__',\n",
              " '__name__',\n",
              " '__package__',\n",
              " '__spec__',\n",
              " 'acos',\n",
              " 'acosh',\n",
              " 'asin',\n",
              " 'asinh',\n",
              " 'atan',\n",
              " 'atan2',\n",
              " 'atanh',\n",
              " 'ceil',\n",
              " 'copysign',\n",
              " 'cos',\n",
              " 'cosh',\n",
              " 'degrees',\n",
              " 'e',\n",
              " 'erf',\n",
              " 'erfc',\n",
              " 'exp',\n",
              " 'expm1',\n",
              " 'fabs',\n",
              " 'factorial',\n",
              " 'floor',\n",
              " 'fmod',\n",
              " 'frexp',\n",
              " 'fsum',\n",
              " 'gamma',\n",
              " 'gcd',\n",
              " 'hypot',\n",
              " 'inf',\n",
              " 'isclose',\n",
              " 'isfinite',\n",
              " 'isinf',\n",
              " 'isnan',\n",
              " 'ldexp',\n",
              " 'lgamma',\n",
              " 'log',\n",
              " 'log10',\n",
              " 'log1p',\n",
              " 'log2',\n",
              " 'modf',\n",
              " 'nan',\n",
              " 'pi',\n",
              " 'pow',\n",
              " 'radians',\n",
              " 'remainder',\n",
              " 'sin',\n",
              " 'sinh',\n",
              " 'sqrt',\n",
              " 'tan',\n",
              " 'tanh',\n",
              " 'tau',\n",
              " 'trunc']"
            ]
          },
          "metadata": {
            "tags": []
          },
          "execution_count": 2
        }
      ]
    },
    {
      "cell_type": "markdown",
      "metadata": {
        "id": "jsmx8y1u_S4f"
      },
      "source": [
        "Se você precisar saber todos os métodos utilizados para ```string```, basta inserir um objeto do tipo ```string``` dentro dela:"
      ]
    },
    {
      "cell_type": "code",
      "metadata": {
        "colab": {
          "base_uri": "https://localhost:8080/"
        },
        "id": "hETkRgy8_S4g",
        "outputId": "b84f49e3-270a-4b2f-febd-bb0538081195"
      },
      "source": [
        "dir(\"Hello world\")"
      ],
      "execution_count": null,
      "outputs": [
        {
          "output_type": "execute_result",
          "data": {
            "text/plain": [
              "['__add__',\n",
              " '__class__',\n",
              " '__contains__',\n",
              " '__delattr__',\n",
              " '__dir__',\n",
              " '__doc__',\n",
              " '__eq__',\n",
              " '__format__',\n",
              " '__ge__',\n",
              " '__getattribute__',\n",
              " '__getitem__',\n",
              " '__getnewargs__',\n",
              " '__gt__',\n",
              " '__hash__',\n",
              " '__init__',\n",
              " '__init_subclass__',\n",
              " '__iter__',\n",
              " '__le__',\n",
              " '__len__',\n",
              " '__lt__',\n",
              " '__mod__',\n",
              " '__mul__',\n",
              " '__ne__',\n",
              " '__new__',\n",
              " '__reduce__',\n",
              " '__reduce_ex__',\n",
              " '__repr__',\n",
              " '__rmod__',\n",
              " '__rmul__',\n",
              " '__setattr__',\n",
              " '__sizeof__',\n",
              " '__str__',\n",
              " '__subclasshook__',\n",
              " 'capitalize',\n",
              " 'casefold',\n",
              " 'center',\n",
              " 'count',\n",
              " 'encode',\n",
              " 'endswith',\n",
              " 'expandtabs',\n",
              " 'find',\n",
              " 'format',\n",
              " 'format_map',\n",
              " 'index',\n",
              " 'isalnum',\n",
              " 'isalpha',\n",
              " 'isascii',\n",
              " 'isdecimal',\n",
              " 'isdigit',\n",
              " 'isidentifier',\n",
              " 'islower',\n",
              " 'isnumeric',\n",
              " 'isprintable',\n",
              " 'isspace',\n",
              " 'istitle',\n",
              " 'isupper',\n",
              " 'join',\n",
              " 'ljust',\n",
              " 'lower',\n",
              " 'lstrip',\n",
              " 'maketrans',\n",
              " 'partition',\n",
              " 'replace',\n",
              " 'rfind',\n",
              " 'rindex',\n",
              " 'rjust',\n",
              " 'rpartition',\n",
              " 'rsplit',\n",
              " 'rstrip',\n",
              " 'split',\n",
              " 'splitlines',\n",
              " 'startswith',\n",
              " 'strip',\n",
              " 'swapcase',\n",
              " 'title',\n",
              " 'translate',\n",
              " 'upper',\n",
              " 'zfill']"
            ]
          },
          "metadata": {
            "tags": []
          },
          "execution_count": 3
        }
      ]
    },
    {
      "cell_type": "markdown",
      "metadata": {
        "id": "1FzQU8Ee_S4h"
      },
      "source": [
        "E assim, você pode obter quais métodos/funções estão disponíveis para aquele tipo de dado.\n",
        "\n",
        "### HELP\n",
        "Essa função nos fornece uma breve explicação de como implementar o método e informa qual a utilidade dele.\n",
        "\n",
        "Exemplos:\n",
        "Nos exemplos do ```dir``` obtemos informações dos métodos da biblioteca ```math```. Com a função ```help``` agora podemos saber o que cada uma faz:"
      ]
    },
    {
      "cell_type": "code",
      "metadata": {
        "colab": {
          "base_uri": "https://localhost:8080/"
        },
        "id": "E5EOBwzK_S4i",
        "outputId": "222a5d2e-4424-459b-e0e9-60e6bdafac7b"
      },
      "source": [
        "help(ma.sqrt)"
      ],
      "execution_count": null,
      "outputs": [
        {
          "output_type": "stream",
          "text": [
            "Help on built-in function sqrt in module math:\n",
            "\n",
            "sqrt(x, /)\n",
            "    Return the square root of x.\n",
            "\n"
          ],
          "name": "stdout"
        }
      ]
    },
    {
      "cell_type": "markdown",
      "metadata": {
        "id": "nCtbv-Tu_S4j"
      },
      "source": [
        "Podemos também, verificar o que faz o método ```.lower()``` do tipo de dados ```string```:"
      ]
    },
    {
      "cell_type": "code",
      "metadata": {
        "colab": {
          "base_uri": "https://localhost:8080/"
        },
        "id": "JRge9pxK_S4k",
        "outputId": "e298eba2-7ba1-44d2-e71a-83446ee49fdc"
      },
      "source": [
        "help(\"Hello world\".lower)"
      ],
      "execution_count": null,
      "outputs": [
        {
          "output_type": "stream",
          "text": [
            "Help on built-in function lower:\n",
            "\n",
            "lower() method of builtins.str instance\n",
            "    Return a copy of the string converted to lowercase.\n",
            "\n"
          ],
          "name": "stdout"
        }
      ]
    },
    {
      "cell_type": "markdown",
      "metadata": {
        "id": "0q5lNIEM_S4k"
      },
      "source": [
        "Com isso, a função ```help()``` nos auxilia quando necessitamos de informações sobre determinada função ou método disponível."
      ]
    },
    {
      "cell_type": "markdown",
      "metadata": {
        "id": "wixAXVj__S4X"
      },
      "source": [
        "# 1.2 Sintaxe\n",
        "\n",
        "\n",
        "A sintaxe de uma linguagem são as regras que nos dizem como escrever um código para que ele seja compilado sem \n",
        "erros. \n",
        "\n",
        "A seguir, veremos algumas dentre as **principais características da sintaxe do Python**, com exemplos de código \n",
        "e explicações. \n",
        "\n",
        "Uma vez que o Python é uma linguagem fácil de aprender, é possível que ao final desse artigo você já possa escrever os seus primeiros códigos com a mesma."
      ]
    },
    {
      "cell_type": "markdown",
      "metadata": {
        "id": "zlNO1tE0_S4l"
      },
      "source": [
        "### 1.2.1 Variáveis\n",
        "\n",
        "### Atribuição\n",
        "\n",
        "Nas linguagens de programação, a variável é um local na memória que reservamos para armazenar dados. \n",
        "\n",
        "Variáveis em Python armazenam valores e isso é feito usando o operador de atribuição ```=```:\n"
      ]
    },
    {
      "cell_type": "code",
      "metadata": {
        "colab": {
          "base_uri": "https://localhost:8080/"
        },
        "id": "6_rpt6eD_S4l",
        "outputId": "45f3d047-4dd8-4692-bb82-cfe8c3e4bbb5"
      },
      "source": [
        "a = 100\n",
        "a\n",
        "100\n",
        "b = 200\n",
        "200\n",
        "c = a + b\n",
        "300"
      ],
      "execution_count": null,
      "outputs": [
        {
          "output_type": "execute_result",
          "data": {
            "text/plain": [
              "300"
            ]
          },
          "metadata": {
            "tags": []
          },
          "execution_count": 6
        }
      ]
    },
    {
      "cell_type": "markdown",
      "metadata": {
        "id": "HqdEHw6V_S4m"
      },
      "source": [
        "O valor de qualquer variável pode ser modificado somente reatribuindo o valor:"
      ]
    },
    {
      "cell_type": "code",
      "metadata": {
        "colab": {
          "base_uri": "https://localhost:8080/"
        },
        "id": "XHT3jX5k_S4m",
        "outputId": "1279069e-fe77-43e8-c948-27555dc0b2ce"
      },
      "source": [
        "a = 10\n",
        "a\n",
        "10\n",
        "a = 20\n",
        "a\n",
        "20\n",
        "a = 5.5\n",
        "a\n",
        "5.5"
      ],
      "execution_count": null,
      "outputs": [
        {
          "output_type": "execute_result",
          "data": {
            "text/plain": [
              "5.5"
            ]
          },
          "metadata": {
            "tags": []
          },
          "execution_count": 7
        }
      ]
    },
    {
      "cell_type": "markdown",
      "metadata": {
        "id": "52ta0Y5q_S4n"
      },
      "source": [
        "### Atribuição Aumentada\n",
        "\n",
        "É uma instrução que atualiza o valor de uma variável usando um operador como:\n",
        "\n",
        "```+=```, ```-=```, ```/= ```, ```//=```,```%=``` e ```*=```\n",
        "\n"
      ]
    },
    {
      "cell_type": "code",
      "metadata": {
        "colab": {
          "base_uri": "https://localhost:8080/"
        },
        "id": "W7WaFrE__S4n",
        "outputId": "ce75570f-971c-48ff-fe95-658e1af9a03d"
      },
      "source": [
        "a = 50\n",
        "a += 10\n",
        "a"
      ],
      "execution_count": null,
      "outputs": [
        {
          "output_type": "execute_result",
          "data": {
            "text/plain": [
              "60"
            ]
          },
          "metadata": {
            "tags": []
          },
          "execution_count": 8
        }
      ]
    },
    {
      "cell_type": "markdown",
      "metadata": {
        "id": "fIacCHEB_S4n"
      },
      "source": [
        "A instrução acima é o mesmo que isso: a = a + 10"
      ]
    },
    {
      "cell_type": "markdown",
      "metadata": {
        "id": "8ccjMUTk_S4o"
      },
      "source": [
        "### Convenção para nomes\n",
        "\n",
        "De acordo com as convenções Python, nomes de variáveis deve ser minúsculas com palavras separadas por underlines:"
      ]
    },
    {
      "cell_type": "code",
      "metadata": {
        "id": "TwCTAGPq_S4o"
      },
      "source": [
        "# Bom\n",
        "age = 12\n",
        "first_name = \"Joe\"\n",
        "x = 100\n",
        "\n",
        "# Ruim!\n",
        "J = 5.5\n",
        "UserName = \"itzik\"\n",
        "numOfRetries = 5\n",
        "_total = 10"
      ],
      "execution_count": null,
      "outputs": []
    },
    {
      "cell_type": "markdown",
      "metadata": {
        "id": "4zhoKC5y_S4o"
      },
      "source": [
        "No script Python, cada variável deve ser atribuida antes dela ser acessada:\n",
        "\n",
        "```python\n",
        "print(y)  # This line raises NameError\n",
        "y = 1\n",
        "```\n",
        "\n",
        "```python\n",
        "---------------------------------------------------------------------------\n",
        "NameError                                 Traceback (most recent call last)\n",
        "<ipython-input-29-e76768221691> in <module>()\n",
        "----> 1 print(y)  # This line raises NameError\n",
        "      2 y = 1\n",
        "\n",
        "NameError: name 'y' is not defined\n",
        "```"
      ]
    },
    {
      "cell_type": "markdown",
      "metadata": {
        "id": "3JB9TNDB_S4p"
      },
      "source": [
        "Python é uma linguagem case-sensitive, que faz diferenciação entre letras maiúsculas e minúsculas. Sendo assim, ```total_alunos``` e ```TOTAL_AULAS``` seriam nomes de variáveis diferentes. "
      ]
    },
    {
      "cell_type": "code",
      "metadata": {
        "colab": {
          "base_uri": "https://localhost:8080/"
        },
        "id": "GDyYiy1h_S4p",
        "outputId": "b87711f8-2bfd-4038-9ac7-34f1ae04e6c6"
      },
      "source": [
        "total_aulas = 5\n",
        "TOTAL_AULAS = 10\n",
        "\n",
        "print(total_aulas)\n",
        "print(TOTAL_AULAS)"
      ],
      "execution_count": null,
      "outputs": [
        {
          "output_type": "stream",
          "text": [
            "5\n",
            "10\n"
          ],
          "name": "stdout"
        }
      ]
    },
    {
      "cell_type": "markdown",
      "metadata": {
        "id": "WVCN8Nds_S4q"
      },
      "source": [
        "### Removendo nomes\n",
        "\n",
        "Variáveis (\"nomes\") podem ser removidas com ```del```"
      ]
    },
    {
      "cell_type": "code",
      "metadata": {
        "colab": {
          "base_uri": "https://localhost:8080/"
        },
        "id": "93j-EqVJ_S4q",
        "outputId": "e29ae37f-46af-4739-e9a2-6b6f1643440c"
      },
      "source": [
        "x = 100\n",
        "print(x)"
      ],
      "execution_count": null,
      "outputs": [
        {
          "output_type": "stream",
          "text": [
            "100\n"
          ],
          "name": "stdout"
        }
      ]
    },
    {
      "cell_type": "markdown",
      "metadata": {
        "id": "XzZvdGmu_S4q"
      },
      "source": [
        "### 1.2.2 Palavras-chave\n",
        "Python, como toda linguagem, possui um conjunto de palavras-chave, que são termos que possuem significado \n",
        "especial para o compilador e que não podem utilizados como nomes. Abaixo temos uma lista destes termos:\n",
        "    \n",
        "<img src=\"figures/palavras-reservadas.png\" />"
      ]
    },
    {
      "cell_type": "markdown",
      "metadata": {
        "id": "9CSdCuf5_S4r"
      },
      "source": [
        "### 1.2.3 Não é necessário usar ponto vírgula no fim de um comando\n",
        "Em boa parte das linguagens de programação as linhas de código devem terminar com um ponto e vírgula (;). No Python isso é opcional. \n",
        "Um caso onde o ponto e vírgula seria necessário é quando temos mais de um comando em uma mesma linha. "
      ]
    },
    {
      "cell_type": "code",
      "metadata": {
        "colab": {
          "base_uri": "https://localhost:8080/"
        },
        "id": "BrPMSHns_S4r",
        "outputId": "41b82ffd-7820-47a6-c707-c4c06c9f0bcd"
      },
      "source": [
        "a = 1\n",
        "b = 2\n",
        "c = 3\n",
        "print(\"o valor de a é \", a)\n",
        "print(\"o valor de b é \", b); print(\"o valor de c é \", c)"
      ],
      "execution_count": null,
      "outputs": [
        {
          "output_type": "stream",
          "text": [
            "o valor de a é  1\n",
            "o valor de b é  2\n",
            "o valor de c é  3\n"
          ],
          "name": "stdout"
        }
      ]
    },
    {
      "cell_type": "markdown",
      "metadata": {
        "id": "8U9g8weg_S4r"
      },
      "source": [
        "### 1.2.4 Indentação faz parte da sintaxe\n",
        "\n",
        "A indentação é uma característica importante no Python, pois além de promover a legibilidade é essencial para \n",
        "o bom funcionamento do código. Em outras palavras, se a indentação não estiver adequada o programa pode se \n",
        "comportar de forma inesperada ou até mesmo não compilar.\n",
        "\n",
        "Python usa indentação como delimitação de bloco, portanto devemos indentar corretamente o código fonte.\n",
        "\n",
        "Abaixo vemos os comandos que aceitam blocos:\n",
        "\n",
        "* if/elif/els\n",
        "* for/else\n",
        "* while/else\n",
        "* def\n",
        "* try/except /finally/else\n",
        "* class\n",
        "* with\n",
        "\n",
        "Por exemplo, no caso de um ```if```, o que determina se um código está dentro da condicional é o fato dele ter sido \n",
        "indentado. \n",
        "\n",
        "No código abaixo o comando ```print``` só será executado se o valor da variável x for maior que 8."
      ]
    },
    {
      "cell_type": "code",
      "metadata": {
        "colab": {
          "base_uri": "https://localhost:8080/"
        },
        "id": "LQEw2MB6_S4r",
        "outputId": "8865b52d-c620-4ce9-ed8f-d9698227791d"
      },
      "source": [
        "x = 10\n",
        "\n",
        "if x > 8:\n",
        "   print(\"x é maior que 8\")"
      ],
      "execution_count": null,
      "outputs": [
        {
          "output_type": "stream",
          "text": [
            "x é maior que 8\n"
          ],
          "name": "stdout"
        }
      ]
    },
    {
      "cell_type": "markdown",
      "metadata": {
        "id": "ubl2qshb_S4s"
      },
      "source": [
        "Agora veja esse novo exemplo no qual o comando ```print``` será executado de qualquer forma por não estar indentado e, por isso, não estar contido no ```if```.\n",
        "\n",
        "```python\n",
        "x = 10\n",
        "\n",
        "if x > 8:\n",
        "\n",
        "print(\"x é maior que 8\")\n",
        "```\n",
        "\n",
        "```python\n",
        "  File \"<ipython-input-44-9b40f7f95b01>\", line 5\n",
        "    print(\"x é maior que 8\")\n",
        "        ^\n",
        "IndentationError: expected an indented block\n",
        "```"
      ]
    },
    {
      "cell_type": "markdown",
      "metadata": {
        "id": "1ZGKnOmq_S4s"
      },
      "source": [
        "Acima, temos dois erros. O primeiro tem a ver com a forma como o código foi escrito, porque se espera que o comando ```print``` seja executado apenas se x for maior que 8, ele deveria estar indentado.\n",
        "\n",
        "Um outro erro está relacionado a estrutura de fluxo de execução ```if```, que será vista em detalhes em um outro momento. Uma vez que o comando ```print``` não está indentado, o mesmo também não está contido no ```if```, deixando-o vazio e isso vai causar um erro de sintaxe."
      ]
    },
    {
      "cell_type": "markdown",
      "metadata": {
        "id": "4gXfLNfa_S4t"
      },
      "source": [
        "### 1.2.5 Parênteses são opcionais\n",
        "Vale ressaltar que no Python não há a necessidade de fazer o uso de parêntesis para as estruturas fluxo de execução como ```if```, ```for``` e ```while```."
      ]
    },
    {
      "cell_type": "code",
      "metadata": {
        "colab": {
          "base_uri": "https://localhost:8080/"
        },
        "id": "o6I7jHPl_S4t",
        "outputId": "821be4fd-9ee5-4083-a83b-d0f8e69c6cc7"
      },
      "source": [
        "x = 10\n",
        "if (x > 8):\n",
        "  print(\"x é maior que 8\")"
      ],
      "execution_count": null,
      "outputs": [
        {
          "output_type": "stream",
          "text": [
            "x é maior que 8\n"
          ],
          "name": "stdout"
        }
      ]
    },
    {
      "cell_type": "code",
      "metadata": {
        "colab": {
          "base_uri": "https://localhost:8080/"
        },
        "id": "XWwnS3LP_S4t",
        "outputId": "d54872e3-0c61-41ba-def1-05f992cc792c"
      },
      "source": [
        "x = 10\n",
        "if x > 8: # nessa linha removemos os parêntesis\n",
        "  print(\"x é maior que 8\")"
      ],
      "execution_count": null,
      "outputs": [
        {
          "output_type": "stream",
          "text": [
            "x é maior que 8\n"
          ],
          "name": "stdout"
        }
      ]
    },
    {
      "cell_type": "markdown",
      "metadata": {
        "id": "rObo8Stt_S4t"
      },
      "source": [
        "Ambos os códigos estão corretos. Dessa forma, o Python se diferencia da maior parte das linguagens, nas quais a sintaxe exige que os parêntesis sejam usados."
      ]
    },
    {
      "cell_type": "markdown",
      "metadata": {
        "id": "bl3DeKieP3Qo"
      },
      "source": [
        "### 1.2.6 Comentários\n",
        "\n",
        "Em linha:"
      ]
    },
    {
      "cell_type": "code",
      "metadata": {
        "colab": {
          "base_uri": "https://localhost:8080/",
          "height": 35
        },
        "id": "drKcoDr3P9zf",
        "outputId": "49bd0f7b-f6c7-4d04-d52c-e7a32193429a"
      },
      "source": [
        "# comentário de linha\n",
        "\"\"\" Esse é de bloco mas está em uma linha só \"\"\""
      ],
      "execution_count": null,
      "outputs": [
        {
          "output_type": "execute_result",
          "data": {
            "application/vnd.google.colaboratory.intrinsic+json": {
              "type": "string"
            },
            "text/plain": [
              "' Esse é de bloco mas está em uma linha só '"
            ]
          },
          "metadata": {
            "tags": []
          },
          "execution_count": 16
        }
      ]
    },
    {
      "cell_type": "markdown",
      "metadata": {
        "id": "HOcIUmznQBdT"
      },
      "source": [
        "Em bloco:"
      ]
    },
    {
      "cell_type": "code",
      "metadata": {
        "colab": {
          "base_uri": "https://localhost:8080/",
          "height": 35
        },
        "id": "kod1kyzTQEtk",
        "outputId": "b0d3cd33-4e45-4206-b527-d21ec9f4ea7f"
      },
      "source": [
        "\"\"\"\n",
        "comentários\n",
        "comentários\n",
        "comentários\n",
        "\"\"\""
      ],
      "execution_count": null,
      "outputs": [
        {
          "output_type": "execute_result",
          "data": {
            "application/vnd.google.colaboratory.intrinsic+json": {
              "type": "string"
            },
            "text/plain": [
              "'\\ncomentários\\ncomentários\\ncomentários\\n'"
            ]
          },
          "metadata": {
            "tags": []
          },
          "execution_count": 17
        }
      ]
    },
    {
      "cell_type": "markdown",
      "metadata": {
        "id": "WvnZxJ0gQGmz"
      },
      "source": [
        "Aspas simples também funcionam:"
      ]
    },
    {
      "cell_type": "code",
      "metadata": {
        "colab": {
          "base_uri": "https://localhost:8080/",
          "height": 35
        },
        "id": "fznKTuPfQLHe",
        "outputId": "dfd806b6-f4d9-4b9b-fd4b-91a72fb98e1c"
      },
      "source": [
        "'''\n",
        "Este é um\n",
        "comentário em \n",
        "múltiplas linhas\n",
        "'''"
      ],
      "execution_count": null,
      "outputs": [
        {
          "output_type": "execute_result",
          "data": {
            "application/vnd.google.colaboratory.intrinsic+json": {
              "type": "string"
            },
            "text/plain": [
              "'\\nEste é um\\ncomentário em \\nmúltiplas linhas\\n'"
            ]
          },
          "metadata": {
            "tags": []
          },
          "execution_count": 18
        }
      ]
    },
    {
      "cell_type": "markdown",
      "metadata": {
        "id": "MHA6DhPOUj7s"
      },
      "source": [
        "## 1.4 Números \n",
        "\n",
        "Operadores matemáticos\n",
        "\n",
        "| Operação | Operador |\n",
        "|---|---|\n",
        "| adição | + |\n",
        "| subtração | - |\n",
        "| multiplicação | * |\n",
        "| divisão | / |\n",
        "| exponenciação | ** |\n",
        "| parte inteira | // |\n",
        "| módulo | % |\n",
        "\n"
      ]
    },
    {
      "cell_type": "code",
      "metadata": {
        "id": "BNQqSxHcWOqk",
        "colab": {
          "base_uri": "https://localhost:8080/"
        },
        "outputId": "01049754-4e01-4377-8e55-f930b6984266"
      },
      "source": [
        "3 + 5\n",
        "10 - 5.\n",
        "7 * 3.\n",
        "2**10\n",
        "7./2\n",
        "8 % 3"
      ],
      "execution_count": null,
      "outputs": [
        {
          "output_type": "execute_result",
          "data": {
            "text/plain": [
              "2"
            ]
          },
          "metadata": {
            "tags": []
          },
          "execution_count": 19
        }
      ]
    },
    {
      "cell_type": "markdown",
      "metadata": {
        "id": "3LPVa0Kw_S4w"
      },
      "source": [
        "<p id=\"nav-felt\" style=\"width:100%; text-align:right;\"><a href=\"2-tipos-dados_python.ipynb\">Próximo - 2: Tipos de dados &gt;&gt;</a></p>"
      ]
    },
    {
      "cell_type": "code",
      "metadata": {
        "id": "Rk_KrGFy_S4w"
      },
      "source": [
        ""
      ],
      "execution_count": null,
      "outputs": []
    }
  ]
}