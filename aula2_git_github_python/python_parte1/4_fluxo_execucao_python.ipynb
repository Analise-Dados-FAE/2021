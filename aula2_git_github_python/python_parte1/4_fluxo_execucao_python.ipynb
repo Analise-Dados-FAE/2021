{
  "nbformat": 4,
  "nbformat_minor": 2,
  "metadata": {
    "kernelspec": {
      "name": "python3",
      "display_name": "Python 3.9.2 64-bit ('root-python-env': conda)"
    },
    "language_info": {
      "codemirror_mode": {
        "name": "ipython",
        "version": 3
      },
      "file_extension": ".py",
      "mimetype": "text/x-python",
      "name": "python",
      "nbconvert_exporter": "python",
      "pygments_lexer": "ipython3",
      "version": "3.9.2"
    },
    "colab": {
      "name": "4-fluxo-execucao_python.ipynb",
      "provenance": [],
      "collapsed_sections": []
    },
    "interpreter": {
      "hash": "335436fdd3b76d4f3727a636fd436c7d3c5aef570f332174c0978c1012c03da9"
    }
  },
  "cells": [
    {
      "cell_type": "markdown",
      "source": [
        "# 4. Fluxo de execução\n",
        "\n",
        "Nesta seção aprenderemos a fazer nossos programas tomarem certas decisões dependendo de condições prévias. \n",
        "\n",
        "Chamamos essa capacidade de tomada de decisões em programas de fluxo de execução: dependendo do que acontecer a execução do programa segue um dado fluxo, dependendo ela segue outro."
      ],
      "metadata": {
        "id": "6KDOZS1PcphD"
      }
    },
    {
      "cell_type": "markdown",
      "source": [
        "## 4.1 Operadores de comparação\n",
        "\n",
        "Um assunto diretamente relacionado ao fluxo de execução e repetição são os operadores de comparação. Como o nome sugere, eles são usados para avaliar o valor de duas ou mais expressões/variáveis e compará-las. \n",
        "\n",
        "<img src=\"figures/operacoes.png\" />"
      ],
      "metadata": {
        "id": "D0FLuc6LcphH"
      }
    },
    {
      "cell_type": "markdown",
      "source": [
        "## 4.2 Execução condicional \n",
        "\n",
        "A linguagem Python usa algumas palavras-chave para indicar execução condicional de código: ```if```, ```elif``` (else if), ```else```. \n",
        "\n",
        "Basicamente, os condicionais nos permitem selecionar certos blocos de código que serão ou não executados dependendo de certas condições. "
      ],
      "metadata": {
        "id": "iJN6DIpTcphI"
      }
    },
    {
      "cell_type": "code",
      "execution_count": 40,
      "source": [
        "idade = 18\n",
        "if idade < 20:\n",
        "    print('Você é jovem!')"
      ],
      "outputs": [
        {
          "output_type": "stream",
          "name": "stdout",
          "text": [
            "Você é jovem!\n"
          ]
        }
      ],
      "metadata": {
        "id": "gOx5HxtUcphJ"
      }
    },
    {
      "cell_type": "markdown",
      "source": [
        "Como podemos notar, essa estrutura é formada pela palavra reservada ```if```, seguida por uma condição e por dois pontos (```:```). As linhas abaixo dela formam o bloco de instruções que serão executadas se a condição for atendida. Para isso, elas devem ser identadas corretamente, respeitando a especificação do Python. Nesse código, apenas a instrução da terceira linha é executada, e por isso ela está mais avançada. Se fosse necessária a execução de outras linhas no caso da idade ser menor que 20, elas também deveriam estar no mesmo nível de identação"
      ],
      "metadata": {
        "id": "tLCrAkWLcphK"
      }
    },
    {
      "cell_type": "markdown",
      "source": [
        "Condicionais também podem ser usados em cadeia (um após o outro), utilizando as palavra reservadas ```else``` e ```elif```"
      ],
      "metadata": {
        "id": "NZvFKw2acphK"
      }
    },
    {
      "cell_type": "code",
      "execution_count": 41,
      "source": [
        "idade = int(input('Digite sua idade: '))\n",
        "if idade >= 10 and idade < 20:\n",
        "    print('Você é adolescente')\n",
        "elif idade >= 20 and idade < 30:\n",
        "    print('Você é jovem')\n",
        "elif idade >= 30 and idade <= 100:\n",
        "    print('Você é adulto')\n",
        "else:\n",
        "    print('Valor não encontrado!')"
      ],
      "outputs": [
        {
          "output_type": "stream",
          "name": "stdout",
          "text": [
            "Você é adulto\n"
          ]
        }
      ],
      "metadata": {
        "id": "1FOaaqhYcphL",
        "outputId": "ad81f2e6-11ae-47af-b6fd-5d4a28c9fbda"
      }
    },
    {
      "cell_type": "markdown",
      "source": [
        "É importante enfatizar isso: em Python, blocos de código são delimitados por sua indentação. E a indentação é parte integrante do programa, sendo essencial para seu correto funcionamento.\n",
        "\n",
        "```python\n",
        "# Má indentação!\n",
        "if sentenca_1:\n",
        "    if sentenca_2:\n",
        "    # A linha abaixo não está indentada corretamente.\n",
        "    print(\"Ambas sentenças são verdadeiras.\")\n",
        "```"
      ],
      "metadata": {
        "id": "GzsTP--UcphO"
      }
    },
    {
      "cell_type": "markdown",
      "source": [
        "## 4.3 Laços de Repetição\n",
        "\n",
        "Outra capacidade importantíssima de linguagens de programação é a repetição de comandos até que uma dada condição seja satisfeita. As linguagens de programação implementam isso por meio dos chamados laços de repetição.\n",
        "\n",
        "\n",
        "### 4.3.1 Laços for\n",
        "\n",
        "Existem vários tipos de laços (loops) em Python. O mais comum deles é o for, que é usado com objetos iteráveis tais como listas e intervalos. Os exemplos abaixo mostram o funcionamento básico do ```for```."
      ],
      "metadata": {
        "id": "kbfOfhfzcphQ"
      }
    },
    {
      "cell_type": "code",
      "execution_count": 42,
      "source": [
        "# Percorrendo uma lista de números.\n",
        "print(\"Números em uma lista: \")\n",
        "for numero in [1, 1, 2, 3, 5, 8, 13]:\n",
        "    print(numero)"
      ],
      "outputs": [
        {
          "output_type": "stream",
          "name": "stdout",
          "text": [
            "Números em uma lista: \n",
            "1\n",
            "1\n",
            "2\n",
            "3\n",
            "5\n",
            "8\n",
            "13\n"
          ]
        }
      ],
      "metadata": {
        "id": "jiBAHMytcphQ",
        "outputId": "61b97d3b-1918-427f-c972-affedbfdd8b9"
      }
    },
    {
      "cell_type": "code",
      "execution_count": 43,
      "source": [
        "# Percorrendo uma lista de palavras.\n",
        "print(\"Palavras em uma lista:\")\n",
        "for palavra in [\"Ordem\", \"e\", \"Progresso\"]:\n",
        "    print(palavra)"
      ],
      "outputs": [
        {
          "output_type": "stream",
          "name": "stdout",
          "text": [
            "Palavras em uma lista:\n",
            "Ordem\n",
            "e\n",
            "Progresso\n"
          ]
        }
      ],
      "metadata": {
        "id": "6-v1YwnucphR",
        "outputId": "e5737b40-be03-46a2-fbb6-09b0323a2354"
      }
    },
    {
      "cell_type": "markdown",
      "source": [
        "Um exemplo interessante de uso de laços ```for``` é a busca por um elemento em uma lista:"
      ],
      "metadata": {
        "id": "6KEmOvWvcphR"
      }
    },
    {
      "cell_type": "code",
      "execution_count": 44,
      "source": [
        "elemento = 10\n",
        "estah_presente = False\n",
        "lista = [1, 2, 7, 10, 15, 20, 50]\n",
        "for item in lista:\n",
        "  if item == elemento:\n",
        "    estah_presente = True\n",
        "\n",
        "if estah_presente:\n",
        "  print(\"Elemento está na lista!\")\n",
        "else:\n",
        "  print(\"Elemento não está na lista!\")"
      ],
      "outputs": [
        {
          "output_type": "stream",
          "name": "stdout",
          "text": [
            "Elemento está na lista!\n"
          ]
        }
      ],
      "metadata": {
        "id": "lVG1_KP6cphS",
        "outputId": "29a8470c-1cd1-43f0-a8bf-346d6f54d273"
      }
    },
    {
      "cell_type": "markdown",
      "source": [
        "Uma outra forma de pesquisar por um elemento em uma lista em Python é por meio do operador ```in```, como vimos na seção 3.6.3"
      ],
      "metadata": {
        "id": "db7Z6JKxcphS"
      }
    },
    {
      "cell_type": "code",
      "execution_count": 45,
      "source": [
        "elemento = 10\n",
        "lista = [1, 2, 7, 10, 15]\n",
        "if elemento in lista:\n",
        "  print(\"Está na lista!\")\n",
        "else:\n",
        "  print(\"Não está na lista!\")"
      ],
      "outputs": [
        {
          "output_type": "stream",
          "name": "stdout",
          "text": [
            "Está na lista!\n"
          ]
        }
      ],
      "metadata": {
        "id": "vdn_n007cphT",
        "outputId": "2e87d47e-9e2a-495f-f67a-96b4705ded9a"
      }
    },
    {
      "cell_type": "markdown",
      "source": [
        "### 4.3.2 Laços while\n",
        "\n",
        "Além dos laços ```for```, Python conta também com os laços while, que executam enquanto uma dada condição ```for``` verdadeira:"
      ],
      "metadata": {
        "id": "hmXys0cccphT"
      }
    },
    {
      "cell_type": "code",
      "execution_count": 46,
      "source": [
        "i = 1\n",
        "while i < 5:\n",
        "    print(i)\n",
        "    i = i + 1"
      ],
      "outputs": [
        {
          "output_type": "stream",
          "name": "stdout",
          "text": [
            "1\n",
            "2\n",
            "3\n",
            "4\n"
          ]
        }
      ],
      "metadata": {
        "id": "WF_2fVZycphT",
        "outputId": "9d26fb1a-e705-40c5-f3c4-1dd631c99f97"
      }
    },
    {
      "cell_type": "markdown",
      "source": [
        "Um exemplo útil de uso de laços ```while``` é o cálculo do fatorial de um número:"
      ],
      "metadata": {
        "id": "GxsfGfeicphU"
      }
    },
    {
      "cell_type": "code",
      "execution_count": 47,
      "source": [
        "n = 6\n",
        "fatorial = 1\n",
        "while n > 1:\n",
        "  fatorial *= n # equivalente a fatorial = fatorial * n\n",
        "  n -= 1        # equivalente a n = n - 1\n",
        "print(fatorial)"
      ],
      "outputs": [
        {
          "output_type": "stream",
          "name": "stdout",
          "text": [
            "720\n"
          ]
        }
      ],
      "metadata": {
        "id": "WUplZpqRcphU",
        "outputId": "ab95c859-d757-4b47-8c73-bd1504f5f1c8"
      }
    },
    {
      "cell_type": "markdown",
      "source": [
        "### 4.3.3 ```break``` / ```continue```\n",
        "\n",
        "```break``` encerra o laço ```for``` ou ```while```"
      ],
      "metadata": {
        "id": "BwKfT1uNcphU"
      }
    },
    {
      "cell_type": "code",
      "execution_count": 48,
      "source": [
        "z = 1 + 1j\n",
        "\n",
        "while abs(z) < 100:\n",
        "    if z.imag == 4:        \n",
        "        break\n",
        "    z = z**2 + 1\n",
        "print(z)"
      ],
      "outputs": [
        {
          "output_type": "stream",
          "name": "stdout",
          "text": [
            "(-2+4j)\n"
          ]
        }
      ],
      "metadata": {
        "id": "R5mCZJ3vcphV",
        "outputId": "4b8e4313-413b-4db5-99fe-a5e45eeae758"
      }
    },
    {
      "cell_type": "markdown",
      "source": [
        "```continue``` vai para a próxima iteração no laço"
      ],
      "metadata": {
        "id": "YAYFNPzlcphW"
      }
    },
    {
      "cell_type": "code",
      "execution_count": 49,
      "source": [
        "a = [1, 0, 2, 4]\n",
        "\n",
        "for element in a:\n",
        "    if element == 0:\n",
        "        continue\n",
        "    print(1. / element)"
      ],
      "outputs": [
        {
          "output_type": "stream",
          "name": "stdout",
          "text": [
            "1.0\n",
            "0.5\n",
            "0.25\n"
          ]
        }
      ],
      "metadata": {
        "id": "7wSya4JWcphW",
        "outputId": "e1f572c8-956f-4821-e950-68d713c29dc5"
      }
    },
    {
      "cell_type": "markdown",
      "source": [
        "### 4.3.4 Controle do número de enumeração\n",
        "\n",
        "\n",
        "Uma tarefa comum é iterar sobre uma sequência e visualizar também o número do item:\n",
        "\n",
        "Poderia ser utilizado um laço ```while``` com um contador, ou para um ```for```:"
      ],
      "metadata": {
        "id": "110mN3Z5cphW"
      }
    },
    {
      "cell_type": "markdown",
      "source": [
        "Vejamos agora como percorrer intervalos em Python."
      ],
      "metadata": {
        "id": "3SQV_8DVcphX"
      }
    },
    {
      "cell_type": "code",
      "execution_count": 50,
      "source": [
        "# Percorrendo um intervalo. Por padrão, intervalos começam em zero.\n",
        "for i in range(3):\n",
        "    print(i)"
      ],
      "outputs": [
        {
          "output_type": "stream",
          "name": "stdout",
          "text": [
            "0\n",
            "1\n",
            "2\n"
          ]
        }
      ],
      "metadata": {
        "scrolled": true,
        "id": "sPI0OMMhcphX",
        "outputId": "6127a243-6e51-49b6-90dc-762c9abc9f1f"
      }
    },
    {
      "cell_type": "markdown",
      "source": [
        "Observação: range(3) não inclui o 3, como mencionamos anteriormente.\n",
        "\n",
        "Nos exemplos acima, ao percorrer os elementos de uma sequência, não usamos o índice do elemento (sua posição na sequência). Entretanto, há situações em que esta informação é útil. Python nos permite acessar tanto os índices dos elementos quanto os elementos propriamente ditos se usarmos a função ```enumerate```."
      ],
      "metadata": {
        "id": "2JmRP-gScphY"
      }
    },
    {
      "cell_type": "code",
      "execution_count": 51,
      "source": [
        "for indice, elemento in enumerate(range(-3,3)):\n",
        "    print(indice, elemento)"
      ],
      "outputs": [
        {
          "output_type": "stream",
          "name": "stdout",
          "text": [
            "0 -3\n",
            "1 -2\n",
            "2 -1\n",
            "3 0\n",
            "4 1\n",
            "5 2\n"
          ]
        }
      ],
      "metadata": {
        "scrolled": false,
        "id": "5G7sKnlncphY",
        "outputId": "174cbde7-7476-4397-ff36-58383f3ef54d"
      }
    },
    {
      "cell_type": "code",
      "execution_count": 52,
      "source": [
        "palavras = ('legal', 'poderoso', 'legível')\n",
        "for i in range(0, len(palavras)):\n",
        "    print(i, palavras[i])"
      ],
      "outputs": [
        {
          "output_type": "stream",
          "name": "stdout",
          "text": [
            "0 legal\n",
            "1 poderoso\n",
            "2 legível\n"
          ]
        }
      ],
      "metadata": {
        "id": "Zz-x5hWUcphY",
        "outputId": "335d22b8-e490-4303-d68c-8739d9e90669"
      }
    },
    {
      "cell_type": "markdown",
      "source": [
        "Mas, o Python fornece a palavra chave ```enumerate``` para isso:"
      ],
      "metadata": {
        "id": "38EhIGK9cphZ"
      }
    },
    {
      "cell_type": "code",
      "execution_count": 53,
      "source": [
        "palavras = ('legal', 'poderoso', 'legível')\n",
        "for indice, item in enumerate(palavras):\n",
        "    print(indice, item)"
      ],
      "outputs": [
        {
          "output_type": "stream",
          "name": "stdout",
          "text": [
            "0 legal\n",
            "1 poderoso\n",
            "2 legível\n"
          ]
        }
      ],
      "metadata": {
        "id": "tdoILSpicphZ",
        "outputId": "6e974012-741a-4a46-d4c3-91b3a0c63d2e"
      }
    },
    {
      "cell_type": "markdown",
      "source": [
        "### 4.3.5 Laço sobre um dicionário\n",
        "\n",
        "O método ```items``` retorna uma vista dos pares chave-valor no dicionário."
      ],
      "metadata": {
        "id": "hNvWMAzjcphZ"
      }
    },
    {
      "cell_type": "code",
      "execution_count": 54,
      "source": [
        "d = {'a': 1, 'b':1.2, 'c':1j}\n",
        "\n",
        "for chave, valor in d.items():\n",
        "    print('Chave: %s tem o valor: %s' % (chave, valor))"
      ],
      "outputs": [
        {
          "output_type": "stream",
          "name": "stdout",
          "text": [
            "Chave: a tem o valor: 1\n",
            "Chave: b tem o valor: 1.2\n",
            "Chave: c tem o valor: 1j\n"
          ]
        }
      ],
      "metadata": {
        "id": "PQd3hXorcphZ",
        "outputId": "d248d65c-166b-4e77-fa5f-a62726814094"
      }
    },
    {
      "cell_type": "markdown",
      "source": [
        "# 4.4 List Comprehension\n",
        "\n",
        "\n",
        "A compreensão de listas fornece uma maneira concisa de criar listas. \n",
        "Aplicações comuns são fazer novas listas onde cada elemento é o resultado de algumas operações aplicadas a cada membro de outra seqüência ou iterável, ou criar uma subsequência daqueles elementos que satisfazem uma determinada condição."
      ],
      "metadata": {
        "id": "SiTOjrZpcpha"
      }
    },
    {
      "cell_type": "code",
      "execution_count": 55,
      "source": [
        "squares = []\n",
        "for x in range(10):\n",
        "    squares.append(x**2)\n",
        "\n",
        "squares\n",
        "[0, 1, 4, 9, 16, 25, 36, 49, 64, 81]"
      ],
      "outputs": [
        {
          "output_type": "execute_result",
          "data": {
            "text/plain": [
              "[0, 1, 4, 9, 16, 25, 36, 49, 64, 81]"
            ]
          },
          "metadata": {},
          "execution_count": 55
        }
      ],
      "metadata": {
        "id": "-sC5VtRvcpha",
        "outputId": "8e48937e-21f8-4112-94d9-b31e5fd5060f"
      }
    },
    {
      "cell_type": "code",
      "execution_count": 56,
      "source": [
        "squares2 = [x**2 for x in range(10)]\n",
        "print(squares2)"
      ],
      "outputs": [
        {
          "output_type": "stream",
          "name": "stdout",
          "text": [
            "[0, 1, 4, 9, 16, 25, 36, 49, 64, 81]\n"
          ]
        }
      ],
      "metadata": {
        "id": "jws3lLAdcpha",
        "outputId": "2af3feab-a0dc-4f38-dcde-5b89bfe5428c"
      }
    },
    {
      "cell_type": "code",
      "execution_count": 57,
      "source": [
        "[(x, y) for x in [1,2,3] for y in [3,1,4] if x != y]"
      ],
      "outputs": [
        {
          "output_type": "execute_result",
          "data": {
            "text/plain": [
              "[(1, 3), (1, 4), (2, 3), (2, 1), (2, 4), (3, 1), (3, 4)]"
            ]
          },
          "metadata": {},
          "execution_count": 57
        }
      ],
      "metadata": {
        "id": "PbLPiM7ocpha",
        "outputId": "1a8da947-f807-4be8-b249-b3af5513052d"
      }
    },
    {
      "cell_type": "code",
      "execution_count": 58,
      "source": [
        "from math import pi\n",
        "[str(round(pi, i)) for i in range(1, 6)]"
      ],
      "outputs": [
        {
          "output_type": "execute_result",
          "data": {
            "text/plain": [
              "['3.1', '3.14', '3.142', '3.1416', '3.14159']"
            ]
          },
          "metadata": {},
          "execution_count": 58
        }
      ],
      "metadata": {
        "id": "1wxEyBGacphb",
        "outputId": "35d18f7a-3ac8-4242-90ac-4f9c38ce7c1d"
      }
    },
    {
      "cell_type": "markdown",
      "source": [
        "<p id=\"nav-felt\" style=\"possition:relative; width:50%; float:left;\"><a href=\"3-tipos-sequencias_python.ipynb\">&lt;&lt; 3. Tipos de sequências</a></p>\n",
        "<p id=\"nav-right\" style=\"possition:relative; width:45%; float:left; text-align:right;\"><a href=\"5-funcoes_python.ipynb\">Próximo: 5. Funções &gt;&gt;</a></p>"
      ],
      "metadata": {
        "id": "7pEAOz02cphb"
      }
    }
  ]
}